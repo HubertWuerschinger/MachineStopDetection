{
 "cells": [
  {
   "cell_type": "markdown",
   "id": "f871e323-7acc-412d-abf0-cd142f83f236",
   "metadata": {},
   "source": [
    "# 📌 Extraktion von Frames aus einem Video  \n",
    "\n",
    "## 🔹 Übersicht  \n",
    "Dieser Abschnitt beschreibt, wie **Einzelbilder (Frames) aus einem Video** extrahiert und als Bilddateien gespeichert werden.  \n",
    "Die extrahierten Frames können für **Objekterkennung, Annotationen oder Trainingsdaten für ein YOLO-Modell** verwendet werden.  \n",
    "\n",
    "---\n",
    "\n",
    "## 🔹 Ablauf der Frame-Extraktion  \n",
    "1. **Laden des Videos**  \n",
    "   - Das Video wird mit **OpenCV (`cv2.VideoCapture`)** geöffnet.  \n",
    "   - Falls das Video nicht geladen werden kann, wird eine Fehlermeldung ausgegeben.  \n",
    "\n",
    "2. **Erstellung des Ausgabeordners**  \n",
    "   - Falls der Zielordner für die Bilder nicht existiert, wird er automatisch erstellt.  \n",
    "\n",
    "3. **Durchlaufen des Videos und Extraktion der Frames**  \n",
    "   - Das Video wird **Frame für Frame** durchlaufen.  \n",
    "   - Jeder Frame wird als **Bild (`.jpg`)** gespeichert.  \n",
    "   - Der **Zeitstempel in Millisekunden** wird für die spätere Analyse mit in den Dateinamen geschrieben.  \n",
    "\n",
    "4. **Speicherung der extrahierten Frames**  \n",
    "   - Die Frames werden nach folgendem Namensschema gespeichert:  \n",
    "     ```\n",
    "     frame_<frame_nummer>_<timestamp>ms.jpg\n",
    "     ```\n",
    "     Beispiel:  \n",
    "     ```\n",
    "     frame_000010_333ms.jpg\n",
    "     ```\n",
    "   - Dies bedeutet, dass der **10. Frame bei 333ms (Millisekunden) im Video aufgenommen wurde**.  \n",
    "\n",
    "---\n",
    "\n",
    "## 🔹 Automatische Verarbeitung  \n",
    "- Das Skript speichert alle extrahierten Frames im **Ordner `frames_output/`**.  \n",
    "- Die Anzahl der gespeicherten Frames hängt von der Framerate des Videos ab (z. B. 30 FPS = 30 Bilder pro Sekunde).  \n",
    "\n",
    "---\n",
    "\n",
    "## 🔹 Beispielaufruf  \n",
    "Falls das Video unter `C:\\Python\\ML Seminar\\Seminararbeit WS24_25\\Automated Machine Tending using a Universal UR5e cobot.mp4` gespeichert ist, wird die Funktion so ausgeführt:  \n",
    "\n",
    "```python\n",
    "video_datei = \"C:\\\\Python\\\\ML Seminar\\\\Seminararbeit WS24_25\\\\Automated Machine Tending using a Universal UR5e cobot.mp4\"\n",
    "output_ordner = \"frames_output\"\n",
    "extract_frames(video_datei, output_ordner)\n"
   ]
  },
  {
   "cell_type": "code",
   "execution_count": null,
   "id": "27430ba1-a0ed-4fdd-b4db-02caea0a759f",
   "metadata": {},
   "outputs": [],
   "source": [
    "import cv2\n",
    "import os\n",
    "\n",
    "def extract_frames(video_path, output_folder):\n",
    "    # Video laden\n",
    "    cap = cv2.VideoCapture(video_path)\n",
    "    if not cap.isOpened():\n",
    "        print(\"Fehler: Video konnte nicht geöffnet werden!\")\n",
    "        return\n",
    "    \n",
    "    # Ordner für Frames erstellen, falls nicht vorhanden\n",
    "    os.makedirs(output_folder, exist_ok=True)\n",
    "    \n",
    "    frame_number = 0\n",
    "    \n",
    "    while True:\n",
    "        success, frame = cap.read()\n",
    "        if not success:\n",
    "            break\n",
    "        \n",
    "        # Zeitstempel in Millisekunden berechnen\n",
    "        timestamp_ms = int(cap.get(cv2.CAP_PROP_POS_MSEC))\n",
    "        \n",
    "        # Bild speichern\n",
    "        frame_filename = os.path.join(output_folder, f\"frame_{frame_number:06d}_{timestamp_ms}ms.jpg\")\n",
    "        cv2.imwrite(frame_filename, frame)\n",
    "        \n",
    "        frame_number += 1\n",
    "    \n",
    "    cap.release()\n",
    "    print(f\"Extraktion abgeschlossen. {frame_number} Frames gespeichert in '{output_folder}'\")\n",
    "\n",
    "# Beispielaufruf\n",
    "video_datei = \"C:\\Python\\ML Seminar\\Seminararbeit WS24_25\\Automated Machine Tending using a Universal UR5e cobot.mp4\"  # Pfad zur Videodatei\n",
    "output_ordner = \"frames_output\"  # Zielordner für die Bilder\n",
    "extract_frames(video_datei, output_ordner)\n"
   ]
  },
  {
   "cell_type": "markdown",
   "id": "526cb23d-2079-4916-990a-d425d62bb93a",
   "metadata": {},
   "source": [
    "# 📌 Konvertierung von LabelMe JSON zu YOLO TXT\n",
    "\n",
    "## 🔹 Übersicht  \n",
    "In diesem Abschnitt wird die Konvertierung von **LabelMe JSON-Annotationsdateien** in das **YOLO-Format** durchgeführt.  \n",
    "YOLO benötigt Annotationen in `.txt`-Dateien mit einer spezifischen Struktur, die aus **Klassen-IDs und normalisierten Bounding-Box-Koordinaten** besteht.\n",
    "\n",
    "---\n",
    "\n",
    "## 🔹 Ablauf der Konvertierung  \n",
    "1. **Einlesen der JSON-Dateien**:  \n",
    "   - Die JSON-Dateien enthalten die Bounding-Box-Informationen aus **LabelMe**.  \n",
    "   - Jede Annotation besteht aus einer Klasse und den Koordinaten der Bounding Box.  \n",
    "\n",
    "2. **Umwandlung ins YOLO-Format**:  \n",
    "   - Die Koordinaten werden **normalisiert** (Werte zwischen 0 und 1).  \n",
    "   - Die Bounding Box wird als **(x_center, y_center, width, height)** gespeichert.  \n",
    "\n",
    "3. **Speicherung der Ergebnisse**:  \n",
    "   - Die erstellten `.txt`-Dateien werden im Ordner **`yolo_labels/`** gespeichert.  \n",
    "   - Jede Datei entspricht einem Bild und enthält alle erkannten Objekte.  \n",
    "\n",
    "---\n",
    "\n",
    "## 🔹 Struktur der YOLO-Annotationsdatei  \n",
    "Jede `.txt`-Datei hat das folgende Format:  \n"
   ]
  },
  {
   "cell_type": "code",
   "execution_count": null,
   "id": "a381b045-124c-4108-be32-3c2a12e3ea41",
   "metadata": {},
   "outputs": [],
   "source": [
    "import os\n",
    "import json\n",
    "\n",
    "# Pfade anpassen\n",
    "json_folder = r\"C:\\Python\\ML Seminar\\Seminararbeit WS24_25\\frames_output\"  # Ordner mit JSON-Dateien\n",
    "output_folder = \"yolo_labels\"  # Zielordner für YOLO-Labels\n",
    "os.makedirs(output_folder, exist_ok=True)\n",
    "\n",
    "# Klassen-Mapping (muss mit deinen Labels übereinstimmen)\n",
    "class_map = {\"Werkzeug\": 0, \"Fräser\": 1}  # Falls du mehr Klassen hast, erweitere es\n",
    "\n",
    "def convert_labelme_to_yolo(json_path, output_path, img_width, img_height):\n",
    "    \"\"\"\n",
    "    Konvertiert eine LabelMe JSON-Datei ins YOLO-Format.\n",
    "\n",
    "    Parameter:\n",
    "    - json_path (str): Pfad zur JSON-Datei mit Bounding-Box-Annotationen.\n",
    "    - output_path (str): Pfad zur Ausgabe-TXT-Datei im YOLO-Format.\n",
    "    - img_width (int): Breite des Bildes.\n",
    "    - img_height (int): Höhe des Bildes.\n",
    "\n",
    "    Beschreibung:\n",
    "    - Liest die Bounding-Boxen aus der JSON-Datei.\n",
    "    - Wandelt sie in das YOLO-Format um (normalisierte Werte).\n",
    "    - Speichert das Ergebnis als TXT-Datei.\n",
    "    \"\"\"\n",
    "    with open(json_path, \"r\") as f:\n",
    "        data = json.load(f)\n",
    "\n",
    "    yolo_labels = []\n",
    "    for shape in data[\"shapes\"]:\n",
    "        label = shape[\"label\"]\n",
    "        if label not in class_map:\n",
    "            continue  # Falls unbekannte Labels existieren, überspringen\n",
    "\n",
    "        # Punkte der Bounding Box extrahieren\n",
    "        x1, y1 = shape[\"points\"][0]\n",
    "        x2, y2 = shape[\"points\"][1]\n",
    "\n",
    "        # Bounding Box ins YOLO-Format umwandeln\n",
    "        x_center = ((x1 + x2) / 2) / img_width\n",
    "        y_center = ((y1 + y2) / 2) / img_height\n",
    "        width = abs(x2 - x1) / img_width\n",
    "        height = abs(y2 - y1) / img_height\n",
    "\n",
    "        yolo_labels.append(f\"{class_map[label]} {x_center} {y_center} {width} {height}\")\n",
    "\n",
    "    # Speichere die YOLO-Annotationsdatei\n",
    "    with open(output_path, \"w\") as f:\n",
    "        f.write(\"\\n\".join(yolo_labels))\n",
    "\n",
    "# Hauptprozess zur Verarbeitung aller JSON-Dateien\n",
    "def process_json_files():\n",
    "    \"\"\"\n",
    "    Durchläuft alle JSON-Dateien im angegebenen Ordner,\n",
    "    liest die Bildgröße und konvertiert die Annotationen ins YOLO-Format.\n",
    "    \"\"\"\n",
    "    for json_file in os.listdir(json_folder):\n",
    "        if json_file.endswith(\".json\"):\n",
    "            json_path = os.path.join(json_folder, json_file)\n",
    "            txt_filename = json_file.replace(\".json\", \".txt\")\n",
    "            output_path = os.path.join(output_folder, txt_filename)\n",
    "\n",
    "            # Lade die Bildgröße aus der JSON-Datei\n",
    "            with open(json_path, \"r\") as f:\n",
    "                data = json.load(f)\n",
    "            img_width = data[\"imageWidth\"]\n",
    "            img_height = data[\"imageHeight\"]\n",
    "\n",
    "            # Umwandlung durchführen\n",
    "            convert_labelme_to_yolo(json_path, output_path, img_width, img_height)\n",
    "\n",
    "    print(f\"Konvertierung abgeschlossen. Dateien gespeichert in '{output_folder}'.\")\n",
    "\n",
    "# Starte die Verarbeitung\n",
    "process_json_files()\n"
   ]
  },
  {
   "cell_type": "markdown",
   "id": "a9b466f5-6010-4716-aa64-0de0ba7a4838",
   "metadata": {},
   "source": [
    "# 📌 Vorbereitung der YOLO-Trainingsdaten  \n",
    "\n",
    "## 🔹 Übersicht  \n",
    "In diesem Abschnitt werden die **gelabelten Bilder und JSON-Dateien** verarbeitet, um sie für das Training eines **YOLO-Modells** vorzubereiten.  \n",
    "Die Annotationen werden von **LabelMe JSON** in das **YOLO TXT-Format** umgewandelt und anschließend in **Trainings- und Validierungssets** unterteilt.  \n",
    "\n",
    "---\n",
    "\n",
    "## 🔹 Ablauf der Datenverarbeitung  \n",
    "1. **Definieren der Pfade & Klassen**  \n",
    "   - Die Quelldaten (`.jpg` & `.json`) werden aus dem angegebenen Ordner geladen.  \n",
    "   - Die Klassen werden einem numerischen Mapping (`class_map`) zugewiesen.  \n",
    "\n",
    "2. **Erstellung der YOLO-Verzeichnisstruktur**  \n",
    "   - Die folgenden Unterordner werden automatisch erstellt:  \n",
    "     ```\n",
    "     dataset/\n",
    "     ├── images/\n",
    "     │   ├── train/  # Trainingsbilder\n",
    "     │   ├── val/    # Validierungsbilder\n",
    "     │\n",
    "     ├── labels/\n",
    "     │   ├── train/  # Trainingslabels (YOLO TXT)\n",
    "     │   ├── val/    # Validierungslabels (YOLO TXT)\n",
    "     │\n",
    "     └── data.yaml  # YOLO-Datensatzdefinition\n",
    "     ```\n",
    "     \n",
    "3. **Konvertierung von LabelMe JSON zu YOLO TXT**  \n",
    "   - Die Bounding-Box-Koordinaten aus den `.json`-Dateien werden eingelesen.  \n",
    "   - Die Koordinaten werden normalisiert (`0-1` Skala) und als `.txt` gespeichert.  \n",
    "   - Falls eine JSON-Datei ungültige Daten enthält, wird sie ignoriert.  \n",
    "\n",
    "4. **Aufteilung in Training & Validierung**  \n",
    "   - **80% der Bilder** werden für das Training, **20% für die Validierung** verwendet.  \n",
    "   - Die zugehörigen `.txt`-Labeldateien werden in den entsprechenden Unterordner verschoben.  \n",
    "\n",
    "5. **Erstellung der `data.yaml` Datei**  \n",
    "   - Diese Datei ist erforderlich für YOLO und definiert die Trainings- und Validierungsdaten.  \n",
    "   - Enthält die Anzahl der Klassen (`nc`) und deren Namen (`names`).  \n",
    "\n",
    "---\n",
    "\n",
    "## 🔹 Beispiel für eine YOLO `.txt`-Datei  \n",
    "Jede `.txt`-Datei speichert die Annotationen für ein Bild:  \n"
   ]
  },
  {
   "cell_type": "code",
   "execution_count": 43,
   "id": "5f204efb-5168-4def-bed8-f6a74902e7e3",
   "metadata": {},
   "outputs": [
    {
     "name": "stdout",
     "output_type": "stream",
     "text": [
      "📄 Verarbeite Datei: C:\\Python\\ML Seminar\\Seminararbeit WS24_25\\frames_output\\frame_000012_400ms.json\n",
      "✅ Bounding Box gespeichert: 0 0.469758 0.507280 0.182712 0.269937\n",
      "✅ 1 Objekte gespeichert in: C:\\Python\\ML Seminar\\Seminararbeit WS24_25\\frames_output\\frame_000012_400ms.txt\n",
      "📄 Verarbeite Datei: C:\\Python\\ML Seminar\\Seminararbeit WS24_25\\frames_output\\frame_000013_433ms.json\n",
      "✅ Bounding Box gespeichert: 0 0.466608 0.501680 0.172631 0.274418\n",
      "✅ 1 Objekte gespeichert in: C:\\Python\\ML Seminar\\Seminararbeit WS24_25\\frames_output\\frame_000013_433ms.txt\n",
      "📄 Verarbeite Datei: C:\\Python\\ML Seminar\\Seminararbeit WS24_25\\frames_output\\frame_000021_700ms.json\n",
      "✅ Bounding Box gespeichert: 0 0.462828 0.508401 0.149950 0.254256\n",
      "✅ 1 Objekte gespeichert in: C:\\Python\\ML Seminar\\Seminararbeit WS24_25\\frames_output\\frame_000021_700ms.txt\n",
      "📄 Verarbeite Datei: C:\\Python\\ML Seminar\\Seminararbeit WS24_25\\frames_output\\frame_000029_966ms.json\n",
      "✅ Bounding Box gespeichert: 0 0.458102 0.502800 0.154360 0.252016\n",
      "✅ 1 Objekte gespeichert in: C:\\Python\\ML Seminar\\Seminararbeit WS24_25\\frames_output\\frame_000029_966ms.txt\n",
      "📄 Verarbeite Datei: C:\\Python\\ML Seminar\\Seminararbeit WS24_25\\frames_output\\frame_000036_1200ms.json\n",
      "✅ Bounding Box gespeichert: 0 0.459362 0.502800 0.154360 0.258737\n",
      "✅ 1 Objekte gespeichert in: C:\\Python\\ML Seminar\\Seminararbeit WS24_25\\frames_output\\frame_000036_1200ms.txt\n",
      "📄 Verarbeite Datei: C:\\Python\\ML Seminar\\Seminararbeit WS24_25\\frames_output\\frame_000039_1300ms.json\n",
      "✅ Bounding Box gespeichert: 0 0.465978 0.507841 0.143649 0.241935\n",
      "✅ 1 Objekte gespeichert in: C:\\Python\\ML Seminar\\Seminararbeit WS24_25\\frames_output\\frame_000039_1300ms.txt\n",
      "📄 Verarbeite Datei: C:\\Python\\ML Seminar\\Seminararbeit WS24_25\\frames_output\\frame_000040_1333ms.json\n",
      "✅ Bounding Box gespeichert: 0 0.462513 0.505600 0.154360 0.257616\n",
      "✅ 1 Objekte gespeichert in: C:\\Python\\ML Seminar\\Seminararbeit WS24_25\\frames_output\\frame_000040_1333ms.txt\n",
      "📄 Verarbeite Datei: C:\\Python\\ML Seminar\\Seminararbeit WS24_25\\frames_output\\frame_000058_1933ms.json\n",
      "✅ Bounding Box gespeichert: 0 0.462828 0.502240 0.158770 0.255376\n",
      "✅ 1 Objekte gespeichert in: C:\\Python\\ML Seminar\\Seminararbeit WS24_25\\frames_output\\frame_000058_1933ms.txt\n",
      "📄 Verarbeite Datei: C:\\Python\\ML Seminar\\Seminararbeit WS24_25\\frames_output\\frame_000075_2500ms.json\n",
      "✅ Bounding Box gespeichert: 0 0.470388 0.506720 0.171371 0.257616\n",
      "✅ 1 Objekte gespeichert in: C:\\Python\\ML Seminar\\Seminararbeit WS24_25\\frames_output\\frame_000075_2500ms.txt\n",
      "📄 Verarbeite Datei: C:\\Python\\ML Seminar\\Seminararbeit WS24_25\\frames_output\\frame_000076_2533ms.json\n",
      "✅ Bounding Box gespeichert: 0 0.475113 0.496640 0.164441 0.246416\n",
      "✅ 1 Objekte gespeichert in: C:\\Python\\ML Seminar\\Seminararbeit WS24_25\\frames_output\\frame_000076_2533ms.txt\n",
      "📄 Verarbeite Datei: C:\\Python\\ML Seminar\\Seminararbeit WS24_25\\frames_output\\frame_000078_2600ms.json\n",
      "✅ Bounding Box gespeichert: 0 0.471963 0.498880 0.166961 0.255376\n",
      "✅ 1 Objekte gespeichert in: C:\\Python\\ML Seminar\\Seminararbeit WS24_25\\frames_output\\frame_000078_2600ms.txt\n",
      "📄 Verarbeite Datei: C:\\Python\\ML Seminar\\Seminararbeit WS24_25\\frames_output\\frame_000083_2766ms.json\n",
      "✅ Bounding Box gespeichert: 0 0.473223 0.484879 0.185862 0.265457\n",
      "✅ 1 Objekte gespeichert in: C:\\Python\\ML Seminar\\Seminararbeit WS24_25\\frames_output\\frame_000083_2766ms.txt\n",
      "📄 Verarbeite Datei: C:\\Python\\ML Seminar\\Seminararbeit WS24_25\\frames_output\\frame_000088_2933ms.json\n",
      "✅ Bounding Box gespeichert: 0 0.494645 0.465838 0.195943 0.236335\n",
      "✅ 1 Objekte gespeichert in: C:\\Python\\ML Seminar\\Seminararbeit WS24_25\\frames_output\\frame_000088_2933ms.txt\n",
      "📄 Verarbeite Datei: C:\\Python\\ML Seminar\\Seminararbeit WS24_25\\frames_output\\frame_000089_2966ms.json\n",
      "✅ Bounding Box gespeichert: 0 0.494645 0.468078 0.195943 0.211694\n",
      "✅ 1 Objekte gespeichert in: C:\\Python\\ML Seminar\\Seminararbeit WS24_25\\frames_output\\frame_000089_2966ms.txt\n",
      "📄 Verarbeite Datei: C:\\Python\\ML Seminar\\Seminararbeit WS24_25\\frames_output\\frame_000091_3033ms.json\n",
      "✅ Bounding Box gespeichert: 0 0.501890 0.466398 0.212954 0.239695\n",
      "✅ 1 Objekte gespeichert in: C:\\Python\\ML Seminar\\Seminararbeit WS24_25\\frames_output\\frame_000091_3033ms.txt\n",
      "📄 Verarbeite Datei: C:\\Python\\ML Seminar\\Seminararbeit WS24_25\\frames_output\\frame_000097_3233ms.json\n",
      "✅ Bounding Box gespeichert: 0 0.528352 0.432236 0.191532 0.213934\n",
      "✅ 1 Objekte gespeichert in: C:\\Python\\ML Seminar\\Seminararbeit WS24_25\\frames_output\\frame_000097_3233ms.txt\n",
      "📄 Verarbeite Datei: C:\\Python\\ML Seminar\\Seminararbeit WS24_25\\frames_output\\frame_000100_3333ms.json\n",
      "✅ Bounding Box gespeichert: 0 0.525202 0.438396 0.231855 0.192652\n",
      "✅ 1 Objekte gespeichert in: C:\\Python\\ML Seminar\\Seminararbeit WS24_25\\frames_output\\frame_000100_3333ms.txt\n",
      "📄 Verarbeite Datei: C:\\Python\\ML Seminar\\Seminararbeit WS24_25\\frames_output\\frame_000102_3400ms.json\n",
      "✅ Bounding Box gespeichert: 0 0.546623 0.427195 0.199093 0.215054\n",
      "✅ 1 Objekte gespeichert in: C:\\Python\\ML Seminar\\Seminararbeit WS24_25\\frames_output\\frame_000102_3400ms.txt\n",
      "📄 Verarbeite Datei: C:\\Python\\ML Seminar\\Seminararbeit WS24_25\\frames_output\\frame_000105_3500ms.json\n",
      "✅ Bounding Box gespeichert: 0 0.554183 0.427195 0.200353 0.212814\n",
      "✅ 1 Objekte gespeichert in: C:\\Python\\ML Seminar\\Seminararbeit WS24_25\\frames_output\\frame_000105_3500ms.txt\n",
      "📄 Verarbeite Datei: C:\\Python\\ML Seminar\\Seminararbeit WS24_25\\frames_output\\frame_000107_3566ms.json\n",
      "✅ Bounding Box gespeichert: 0 0.553238 0.431676 0.190902 0.226254\n",
      "✅ 1 Objekte gespeichert in: C:\\Python\\ML Seminar\\Seminararbeit WS24_25\\frames_output\\frame_000107_3566ms.txt\n",
      "📄 Verarbeite Datei: C:\\Python\\ML Seminar\\Seminararbeit WS24_25\\frames_output\\frame_000109_3633ms.json\n",
      "✅ Bounding Box gespeichert: 0 0.558909 0.424395 0.192162 0.196013\n",
      "✅ 1 Objekte gespeichert in: C:\\Python\\ML Seminar\\Seminararbeit WS24_25\\frames_output\\frame_000109_3633ms.txt\n",
      "📄 Verarbeite Datei: C:\\Python\\ML Seminar\\Seminararbeit WS24_25\\frames_output\\frame_000115_3833ms.json\n",
      "✅ Bounding Box gespeichert: 0 0.557019 0.401994 0.206023 0.198253\n",
      "✅ 1 Objekte gespeichert in: C:\\Python\\ML Seminar\\Seminararbeit WS24_25\\frames_output\\frame_000115_3833ms.txt\n",
      "📄 Verarbeite Datei: C:\\Python\\ML Seminar\\Seminararbeit WS24_25\\frames_output\\frame_000118_3933ms.json\n",
      "✅ Bounding Box gespeichert: 0 0.559854 0.418795 0.199093 0.207213\n",
      "✅ 1 Objekte gespeichert in: C:\\Python\\ML Seminar\\Seminararbeit WS24_25\\frames_output\\frame_000118_3933ms.txt\n",
      "📄 Verarbeite Datei: C:\\Python\\ML Seminar\\Seminararbeit WS24_25\\frames_output\\frame_000121_4033ms.json\n",
      "✅ Bounding Box gespeichert: 0 0.561744 0.432796 0.214214 0.192652\n",
      "✅ 1 Objekte gespeichert in: C:\\Python\\ML Seminar\\Seminararbeit WS24_25\\frames_output\\frame_000121_4033ms.txt\n",
      "📄 Verarbeite Datei: C:\\Python\\ML Seminar\\Seminararbeit WS24_25\\frames_output\\frame_000123_4100ms.json\n",
      "✅ Bounding Box gespeichert: 0 0.572770 0.444556 0.194682 0.184812\n",
      "✅ 1 Objekte gespeichert in: C:\\Python\\ML Seminar\\Seminararbeit WS24_25\\frames_output\\frame_000123_4100ms.txt\n",
      "📄 Verarbeite Datei: C:\\Python\\ML Seminar\\Seminararbeit WS24_25\\frames_output\\frame_000127_4233ms.json\n",
      "✅ Bounding Box gespeichert: 0 0.581275 0.453517 0.205393 0.196013\n",
      "✅ 1 Objekte gespeichert in: C:\\Python\\ML Seminar\\Seminararbeit WS24_25\\frames_output\\frame_000127_4233ms.txt\n",
      "📄 Verarbeite Datei: C:\\Python\\ML Seminar\\Seminararbeit WS24_25\\frames_output\\frame_000131_4366ms.json\n",
      "✅ Bounding Box gespeichert: 0 0.594821 0.497760 0.208543 0.210573\n",
      "✅ 1 Objekte gespeichert in: C:\\Python\\ML Seminar\\Seminararbeit WS24_25\\frames_output\\frame_000131_4366ms.txt\n",
      "📄 Verarbeite Datei: C:\\Python\\ML Seminar\\Seminararbeit WS24_25\\frames_output\\frame_000134_4466ms.json\n",
      "✅ Bounding Box gespeichert: 0 0.603642 0.536402 0.224924 0.200493\n",
      "✅ 1 Objekte gespeichert in: C:\\Python\\ML Seminar\\Seminararbeit WS24_25\\frames_output\\frame_000134_4466ms.txt\n",
      "📄 Verarbeite Datei: C:\\Python\\ML Seminar\\Seminararbeit WS24_25\\frames_output\\frame_000137_4566ms.json\n",
      "✅ Bounding Box gespeichert: 0 0.631363 0.564404 0.190902 0.200493\n",
      "✅ 1 Objekte gespeichert in: C:\\Python\\ML Seminar\\Seminararbeit WS24_25\\frames_output\\frame_000137_4566ms.txt\n",
      "📄 Verarbeite Datei: C:\\Python\\ML Seminar\\Seminararbeit WS24_25\\frames_output\\frame_000139_4633ms.json\n",
      "✅ Bounding Box gespeichert: 0 0.641759 0.586806 0.178931 0.234095\n",
      "✅ 1 Objekte gespeichert in: C:\\Python\\ML Seminar\\Seminararbeit WS24_25\\frames_output\\frame_000139_4633ms.txt\n",
      "📄 Verarbeite Datei: C:\\Python\\ML Seminar\\Seminararbeit WS24_25\\frames_output\\frame_000143_4766ms.json\n",
      "✅ Bounding Box gespeichert: 0 0.659400 0.623768 0.166331 0.238575\n",
      "✅ 1 Objekte gespeichert in: C:\\Python\\ML Seminar\\Seminararbeit WS24_25\\frames_output\\frame_000143_4766ms.txt\n",
      "📄 Verarbeite Datei: C:\\Python\\ML Seminar\\Seminararbeit WS24_25\\frames_output\\frame_000145_4833ms.json\n",
      "✅ Bounding Box gespeichert: 0 0.675151 0.634969 0.185232 0.227375\n",
      "✅ 1 Objekte gespeichert in: C:\\Python\\ML Seminar\\Seminararbeit WS24_25\\frames_output\\frame_000145_4833ms.txt\n",
      "📄 Verarbeite Datei: C:\\Python\\ML Seminar\\Seminararbeit WS24_25\\frames_output\\frame_000150_5000ms.json\n",
      "✅ Bounding Box gespeichert: 0 0.688697 0.653450 0.170741 0.273297\n",
      "✅ 1 Objekte gespeichert in: C:\\Python\\ML Seminar\\Seminararbeit WS24_25\\frames_output\\frame_000150_5000ms.txt\n",
      "📄 Verarbeite Datei: C:\\Python\\ML Seminar\\Seminararbeit WS24_25\\frames_output\\frame_000153_5100ms.json\n",
      "✅ Bounding Box gespeichert: 0 0.689327 0.686492 0.185862 0.285618\n",
      "✅ 1 Objekte gespeichert in: C:\\Python\\ML Seminar\\Seminararbeit WS24_25\\frames_output\\frame_000153_5100ms.txt\n",
      "📄 Verarbeite Datei: C:\\Python\\ML Seminar\\Seminararbeit WS24_25\\frames_output\\frame_000156_5200ms.json\n",
      "✅ Bounding Box gespeichert: 0 0.693107 0.703293 0.177041 0.292339\n",
      "✅ 1 Objekte gespeichert in: C:\\Python\\ML Seminar\\Seminararbeit WS24_25\\frames_output\\frame_000156_5200ms.txt\n",
      "📄 Verarbeite Datei: C:\\Python\\ML Seminar\\Seminararbeit WS24_25\\frames_output\\frame_000162_5400ms.json\n",
      "✅ Bounding Box gespeichert: 0 0.695312 0.702733 0.177671 0.295699\n",
      "✅ 1 Objekte gespeichert in: C:\\Python\\ML Seminar\\Seminararbeit WS24_25\\frames_output\\frame_000162_5400ms.txt\n",
      "📄 Verarbeite Datei: C:\\Python\\ML Seminar\\Seminararbeit WS24_25\\frames_output\\frame_000170_5666ms.json\n",
      "✅ Bounding Box gespeichert: 0 0.692162 0.700493 0.182712 0.286738\n",
      "✅ 1 Objekte gespeichert in: C:\\Python\\ML Seminar\\Seminararbeit WS24_25\\frames_output\\frame_000170_5666ms.txt\n",
      "📄 Verarbeite Datei: C:\\Python\\ML Seminar\\Seminararbeit WS24_25\\frames_output\\frame_000177_5900ms.json\n",
      "✅ Bounding Box gespeichert: 0 0.702243 0.682572 0.182712 0.275538\n",
      "✅ 1 Objekte gespeichert in: C:\\Python\\ML Seminar\\Seminararbeit WS24_25\\frames_output\\frame_000177_5900ms.txt\n",
      "📄 Verarbeite Datei: C:\\Python\\ML Seminar\\Seminararbeit WS24_25\\frames_output\\frame_000188_6266ms.json\n",
      "✅ Bounding Box gespeichert: 0 0.675781 0.676971 0.171371 0.280018\n",
      "✅ 1 Objekte gespeichert in: C:\\Python\\ML Seminar\\Seminararbeit WS24_25\\frames_output\\frame_000188_6266ms.txt\n",
      "📄 Verarbeite Datei: C:\\Python\\ML Seminar\\Seminararbeit WS24_25\\frames_output\\frame_000190_6333ms.json\n",
      "✅ Bounding Box gespeichert: 0 0.668221 0.676971 0.167591 0.275538\n",
      "✅ 1 Objekte gespeichert in: C:\\Python\\ML Seminar\\Seminararbeit WS24_25\\frames_output\\frame_000190_6333ms.txt\n",
      "📄 Verarbeite Datei: C:\\Python\\ML Seminar\\Seminararbeit WS24_25\\frames_output\\frame_000193_6433ms.json\n",
      "✅ Bounding Box gespeichert: 0 0.645539 0.664651 0.163810 0.275538\n",
      "✅ 1 Objekte gespeichert in: C:\\Python\\ML Seminar\\Seminararbeit WS24_25\\frames_output\\frame_000193_6433ms.txt\n",
      "📄 Verarbeite Datei: C:\\Python\\ML Seminar\\Seminararbeit WS24_25\\frames_output\\frame_000199_6633ms.json\n",
      "✅ Bounding Box gespeichert: 0 0.598286 0.656810 0.163810 0.275538\n",
      "✅ 1 Objekte gespeichert in: C:\\Python\\ML Seminar\\Seminararbeit WS24_25\\frames_output\\frame_000199_6633ms.txt\n",
      "📄 Verarbeite Datei: C:\\Python\\ML Seminar\\Seminararbeit WS24_25\\frames_output\\frame_000204_6800ms.json\n",
      "✅ Bounding Box gespeichert: 0 0.565839 0.641689 0.149320 0.263217\n",
      "✅ 1 Objekte gespeichert in: C:\\Python\\ML Seminar\\Seminararbeit WS24_25\\frames_output\\frame_000204_6800ms.txt\n",
      "📄 Verarbeite Datei: C:\\Python\\ML Seminar\\Seminararbeit WS24_25\\frames_output\\frame_000207_6899ms.json\n",
      "✅ Bounding Box gespeichert: 0 0.543473 0.654010 0.148690 0.254256\n",
      "✅ 1 Objekte gespeichert in: C:\\Python\\ML Seminar\\Seminararbeit WS24_25\\frames_output\\frame_000207_6899ms.txt\n",
      "📄 Verarbeite Datei: C:\\Python\\ML Seminar\\Seminararbeit WS24_25\\frames_output\\frame_000210_7000ms.json\n",
      "✅ Bounding Box gespeichert: 0 0.507560 0.623768 0.153730 0.231855\n",
      "✅ 1 Objekte gespeichert in: C:\\Python\\ML Seminar\\Seminararbeit WS24_25\\frames_output\\frame_000210_7000ms.txt\n",
      "📄 Verarbeite Datei: C:\\Python\\ML Seminar\\Seminararbeit WS24_25\\frames_output\\frame_000211_7033ms.json\n",
      "✅ Bounding Box gespeichert: 0 0.501890 0.625448 0.128528 0.210573\n",
      "✅ 1 Objekte gespeichert in: C:\\Python\\ML Seminar\\Seminararbeit WS24_25\\frames_output\\frame_000211_7033ms.txt\n",
      "📄 Verarbeite Datei: C:\\Python\\ML Seminar\\Seminararbeit WS24_25\\frames_output\\frame_000216_7200ms.json\n",
      "✅ Bounding Box gespeichert: 0 0.456212 0.616487 0.160660 0.246416\n",
      "✅ 1 Objekte gespeichert in: C:\\Python\\ML Seminar\\Seminararbeit WS24_25\\frames_output\\frame_000216_7200ms.txt\n",
      "📄 Verarbeite Datei: C:\\Python\\ML Seminar\\Seminararbeit WS24_25\\frames_output\\frame_000218_7266ms.json\n",
      "✅ Bounding Box gespeichert: 0 0.431326 0.608087 0.139869 0.256496\n",
      "✅ 1 Objekte gespeichert in: C:\\Python\\ML Seminar\\Seminararbeit WS24_25\\frames_output\\frame_000218_7266ms.txt\n",
      "📄 Verarbeite Datei: C:\\Python\\ML Seminar\\Seminararbeit WS24_25\\frames_output\\frame_000224_7466ms.json\n",
      "✅ Bounding Box gespeichert: 0 0.373047 0.606407 0.144279 0.241935\n",
      "✅ 1 Objekte gespeichert in: C:\\Python\\ML Seminar\\Seminararbeit WS24_25\\frames_output\\frame_000224_7466ms.txt\n",
      "📄 Verarbeite Datei: C:\\Python\\ML Seminar\\Seminararbeit WS24_25\\frames_output\\frame_000226_7533ms.json\n",
      "✅ Bounding Box gespeichert: 0 0.370212 0.600806 0.131048 0.235215\n",
      "✅ 1 Objekte gespeichert in: C:\\Python\\ML Seminar\\Seminararbeit WS24_25\\frames_output\\frame_000226_7533ms.txt\n",
      "📄 Verarbeite Datei: C:\\Python\\ML Seminar\\Seminararbeit WS24_25\\frames_output\\frame_000234_7800ms.json\n",
      "✅ Bounding Box gespeichert: 0 0.352256 0.590166 0.088836 0.222894\n",
      "✅ 1 Objekte gespeichert in: C:\\Python\\ML Seminar\\Seminararbeit WS24_25\\frames_output\\frame_000234_7800ms.txt\n",
      "📄 Verarbeite Datei: C:\\Python\\ML Seminar\\Seminararbeit WS24_25\\frames_output\\frame_000277_9233ms.json\n",
      "✅ Bounding Box gespeichert: 0 0.220262 0.616487 0.036542 0.201613\n",
      "✅ 1 Objekte gespeichert in: C:\\Python\\ML Seminar\\Seminararbeit WS24_25\\frames_output\\frame_000277_9233ms.txt\n",
      "📄 Verarbeite Datei: C:\\Python\\ML Seminar\\Seminararbeit WS24_25\\frames_output\\frame_000299_9966ms.json\n",
      "✅ Bounding Box gespeichert: 0 0.423450 0.503920 0.159400 0.180332\n",
      "✅ 1 Objekte gespeichert in: C:\\Python\\ML Seminar\\Seminararbeit WS24_25\\frames_output\\frame_000299_9966ms.txt\n",
      "📄 Verarbeite Datei: C:\\Python\\ML Seminar\\Seminararbeit WS24_25\\frames_output\\frame_000315_10500ms.json\n",
      "✅ Bounding Box gespeichert: 0 0.484879 0.418235 0.167591 0.210573\n",
      "✅ 1 Objekte gespeichert in: C:\\Python\\ML Seminar\\Seminararbeit WS24_25\\frames_output\\frame_000315_10500ms.txt\n",
      "📄 Verarbeite Datei: C:\\Python\\ML Seminar\\Seminararbeit WS24_25\\frames_output\\frame_000367_12233ms.json\n",
      "✅ Bounding Box gespeichert: 0 0.759262 0.299507 0.146799 0.255376\n",
      "✅ Bounding Box gespeichert: 1 0.576235 0.235103 0.085685 0.157930\n",
      "✅ 2 Objekte gespeichert in: C:\\Python\\ML Seminar\\Seminararbeit WS24_25\\frames_output\\frame_000367_12233ms.txt\n",
      "📄 Verarbeite Datei: C:\\Python\\ML Seminar\\Seminararbeit WS24_25\\frames_output\\frame_000375_12500ms.json\n",
      "✅ Bounding Box gespeichert: 0 0.775643 0.263665 0.218624 0.313620\n",
      "✅ Bounding Box gespeichert: 1 0.552923 0.247984 0.060484 0.147849\n",
      "✅ 2 Objekte gespeichert in: C:\\Python\\ML Seminar\\Seminararbeit WS24_25\\frames_output\\frame_000375_12500ms.txt\n",
      "📄 Verarbeite Datei: C:\\Python\\ML Seminar\\Seminararbeit WS24_25\\frames_output\\frame_000389_12966ms.json\n",
      "✅ Bounding Box gespeichert: 0 0.670426 0.407594 0.241305 0.260977\n",
      "✅ Bounding Box gespeichert: 1 0.508506 0.261985 0.056074 0.153450\n",
      "✅ 2 Objekte gespeichert in: C:\\Python\\ML Seminar\\Seminararbeit WS24_25\\frames_output\\frame_000389_12966ms.txt\n",
      "📄 Verarbeite Datei: C:\\Python\\ML Seminar\\Seminararbeit WS24_25\\frames_output\\frame_000397_13233ms.json\n",
      "✅ Bounding Box gespeichert: 0 0.646799 0.454637 0.286038 0.278898\n",
      "✅ Bounding Box gespeichert: 1 0.505670 0.251344 0.078125 0.174731\n",
      "✅ 2 Objekte gespeichert in: C:\\Python\\ML Seminar\\Seminararbeit WS24_25\\frames_output\\frame_000397_13233ms.txt\n",
      "📄 Verarbeite Datei: C:\\Python\\ML Seminar\\Seminararbeit WS24_25\\frames_output\\frame_000433_14433ms.json\n",
      "✅ Bounding Box gespeichert: 1 0.488659 0.251344 0.091986 0.197133\n",
      "✅ Bounding Box gespeichert: 0 0.675781 0.499440 0.386845 0.368504\n",
      "✅ 2 Objekte gespeichert in: C:\\Python\\ML Seminar\\Seminararbeit WS24_25\\frames_output\\frame_000433_14433ms.txt\n",
      "📄 Verarbeite Datei: C:\\Python\\ML Seminar\\Seminararbeit WS24_25\\frames_output\\frame_000469_15633ms.json\n",
      "✅ Bounding Box gespeichert: 1 0.474483 0.253024 0.087576 0.178091\n",
      "✅ Bounding Box gespeichert: 0 0.660975 0.418795 0.255166 0.321461\n",
      "✅ 2 Objekte gespeichert in: C:\\Python\\ML Seminar\\Seminararbeit WS24_25\\frames_output\\frame_000469_15633ms.txt\n",
      "📄 Verarbeite Datei: C:\\Python\\ML Seminar\\Seminararbeit WS24_25\\frames_output\\frame_000517_17233ms.json\n",
      "✅ Bounding Box gespeichert: 0 0.566154 0.503360 0.279738 0.392025\n",
      "✅ Bounding Box gespeichert: 1 0.443296 0.230623 0.064264 0.182572\n",
      "✅ 2 Objekte gespeichert in: C:\\Python\\ML Seminar\\Seminararbeit WS24_25\\frames_output\\frame_000517_17233ms.txt\n",
      "📄 Verarbeite Datei: C:\\Python\\ML Seminar\\Seminararbeit WS24_25\\frames_output\\frame_000556_18533ms.json\n",
      "✅ Bounding Box gespeichert: 0 0.540008 0.357191 0.238785 0.355063\n",
      "✅ Bounding Box gespeichert: 1 0.440146 0.215502 0.063004 0.147849\n",
      "✅ 2 Objekte gespeichert in: C:\\Python\\ML Seminar\\Seminararbeit WS24_25\\frames_output\\frame_000556_18533ms.txt\n",
      "📄 Verarbeite Datei: C:\\Python\\ML Seminar\\Seminararbeit WS24_25\\frames_output\\frame_000571_19033ms.json\n",
      "✅ Bounding Box gespeichert: 1 0.439516 0.244064 0.059224 0.151210\n",
      "✅ Bounding Box gespeichert: 0 0.606477 0.327509 0.241935 0.320341\n",
      "✅ 2 Objekte gespeichert in: C:\\Python\\ML Seminar\\Seminararbeit WS24_25\\frames_output\\frame_000571_19033ms.txt\n",
      "📄 Verarbeite Datei: C:\\Python\\ML Seminar\\Seminararbeit WS24_25\\frames_output\\frame_000586_19533ms.json\n",
      "✅ Bounding Box gespeichert: 0 0.599231 0.375112 0.245086 0.301299\n",
      "✅ Bounding Box gespeichert: 1 0.419670 0.236783 0.069934 0.168011\n",
      "✅ 2 Objekte gespeichert in: C:\\Python\\ML Seminar\\Seminararbeit WS24_25\\frames_output\\frame_000586_19533ms.txt\n",
      "✅ Datenset erstellt: 51 Trainingsbilder, 13 Validierungsbilder\n",
      "✅ `data.yaml` wurde erfolgreich erstellt unter: C:\\Python\\ML Seminar\\Seminararbeit WS24_25\\dataset\\data.yaml\n"
     ]
    }
   ],
   "source": [
    "import os\n",
    "import json\n",
    "import shutil\n",
    "import random\n",
    "\n",
    "# **Pfad anpassen** (Quelldaten)\n",
    "source_images = r\"C:\\Python\\ML Seminar\\Seminararbeit WS24_25\\frames_output\"  # Bilder-Ordner\n",
    "source_labels = r\"C:\\Python\\ML Seminar\\Seminararbeit WS24_25\\frames_output\"  # JSON-Ordner\n",
    "output_folder = r\"C:\\Python\\ML Seminar\\Seminararbeit WS24_25\\dataset\"  # Zielordner für YOLO-Format\n",
    "\n",
    "# Setze den Seed für Reproduzierbarkeit\n",
    "random.seed(42)\n",
    "\n",
    "# **YOLO-Ordnerstruktur erstellen**\n",
    "train_img_dir = os.path.join(output_folder, \"images/train\")\n",
    "val_img_dir = os.path.join(output_folder, \"images/val\")\n",
    "train_label_dir = os.path.join(output_folder, \"labels/train\")\n",
    "val_label_dir = os.path.join(output_folder, \"labels/val\")\n",
    "\n",
    "os.makedirs(train_img_dir, exist_ok=True)\n",
    "os.makedirs(val_img_dir, exist_ok=True)\n",
    "os.makedirs(train_label_dir, exist_ok=True)\n",
    "os.makedirs(val_label_dir, exist_ok=True)\n",
    "\n",
    "# **Klassen-Mapping für YOLO**\n",
    "class_map = {\"Werkzeug\": 0, \"Fräser\": 1}  # UTF-8 Korrektur für \"Fräser\"\n",
    "\n",
    "def convert_labelme_to_yolo(json_path, output_txt_path, img_width, img_height):\n",
    "    \"\"\" \n",
    "    Konvertiert eine LabelMe-JSON-Datei ins YOLO-Format und speichert alle Objekte.\n",
    "    \n",
    "    Parameter:\n",
    "    - json_path (str): Pfad zur JSON-Datei mit den Bounding Boxen.\n",
    "    - output_txt_path (str): Pfad zur Ausgabe-TXT-Datei im YOLO-Format.\n",
    "    - img_width (int): Breite des Bildes.\n",
    "    - img_height (int): Höhe des Bildes.\n",
    "\n",
    "    Ablauf:\n",
    "    - Liest die Bounding Boxen aus der JSON-Datei.\n",
    "    - Konvertiert die Koordinaten in das YOLO-Format.\n",
    "    - Speichert die Labels in einer `.txt`-Datei.\n",
    "    \"\"\"\n",
    "    with open(json_path, \"r\", encoding=\"utf-8\") as f:\n",
    "        data = json.load(f)\n",
    "\n",
    "    yolo_labels = []\n",
    "    print(f\"📄 Verarbeite Datei: {json_path}\")\n",
    "\n",
    "    for shape in data[\"shapes\"]:\n",
    "        label = shape[\"label\"]\n",
    "        if label not in class_map:\n",
    "            print(f\"⚠ Warnung: Label '{label}' nicht in class_map! Datei wird ignoriert.\")\n",
    "            continue  # Unbekannte Labels überspringen\n",
    "\n",
    "        if shape.get(\"shape_type\") != \"rectangle\":\n",
    "            print(f\"❌ Fehler: '{label}' hat kein shape_type=rectangle! Datei wird ignoriert.\")\n",
    "            continue\n",
    "\n",
    "        if len(shape[\"points\"]) < 2:\n",
    "            print(f\"❌ Fehler: Bounding Box für '{label}' hat weniger als 2 Punkte! Datei wird ignoriert.\")\n",
    "            continue\n",
    "\n",
    "        x1, y1 = shape[\"points\"][0]\n",
    "        x2, y2 = shape[\"points\"][1]\n",
    "\n",
    "        # **YOLO-Format (Mittelpunkt + Größe)**\n",
    "        x_center = ((x1 + x2) / 2) / img_width\n",
    "        y_center = ((y1 + y2) / 2) / img_height\n",
    "        width = abs(x2 - x1) / img_width\n",
    "        height = abs(y2 - y1) / img_height\n",
    "\n",
    "        yolo_labels.append(f\"{class_map[label]} {x_center:.6f} {y_center:.6f} {width:.6f} {height:.6f}\")\n",
    "        print(f\"✅ Bounding Box gespeichert: {yolo_labels[-1]}\")\n",
    "\n",
    "    # **Speichert alle Labels in die .txt-Datei**\n",
    "    if yolo_labels:\n",
    "        with open(output_txt_path, \"w\", encoding=\"utf-8\") as f:\n",
    "            f.write(\"\\n\".join(yolo_labels))\n",
    "        print(f\"✅ {len(yolo_labels)} Objekte gespeichert in: {output_txt_path}\")\n",
    "    else:\n",
    "        print(f\"⚠ Warnung: Keine gültigen Labels in {json_path}\")\n",
    "\n",
    "def process_json_to_yolo():\n",
    "    \"\"\" \n",
    "    Durchläuft alle JSON-Dateien im Label-Ordner, konvertiert sie ins YOLO-Format \n",
    "    und speichert die Labels als `.txt`.\n",
    "    \"\"\"\n",
    "    valid_images = []\n",
    "\n",
    "    for json_file in os.listdir(source_labels):\n",
    "        if json_file.endswith(\".json\"):\n",
    "            json_path = os.path.join(source_labels, json_file)\n",
    "            img_filename = json_file.replace(\".json\", \".jpg\")  # Falls PNG oder JPEG, anpassen\n",
    "            img_path = os.path.join(source_images, img_filename)\n",
    "\n",
    "            if not os.path.exists(img_path):\n",
    "                print(f\"❌ Fehler: Kein passendes Bild für {json_file} gefunden! Überspringe...\")\n",
    "                continue  # Falls kein Bild existiert, überspringen\n",
    "\n",
    "            txt_filename = json_file.replace(\".json\", \".txt\")\n",
    "            output_txt_path = os.path.join(source_labels, txt_filename)\n",
    "\n",
    "            # **Bildgröße aus JSON lesen**\n",
    "            with open(json_path, \"r\", encoding=\"utf-8\") as f:\n",
    "                data = json.load(f)\n",
    "            img_width = data[\"imageWidth\"]\n",
    "            img_height = data[\"imageHeight\"]\n",
    "\n",
    "            # **JSON in YOLO-TXT konvertieren**\n",
    "            convert_labelme_to_yolo(json_path, output_txt_path, img_width, img_height)\n",
    "            valid_images.append(img_filename)\n",
    "\n",
    "    return valid_images\n",
    "\n",
    "def split_data(valid_images):\n",
    "    \"\"\"\n",
    "    Teilt die Bilder in Trainings- und Validierungssets auf (80/20-Split).\n",
    "    \n",
    "    Parameter:\n",
    "    - valid_images (list): Liste der verarbeiteten Bilddateien.\n",
    "    \"\"\"\n",
    "    random.shuffle(valid_images)\n",
    "    split_idx = int(0.8 * len(valid_images))\n",
    "    train_files = valid_images[:split_idx]\n",
    "    val_files = valid_images[split_idx:]\n",
    "\n",
    "    # **Bilder und Labels in `train/val` verschieben**\n",
    "    for img in train_files:\n",
    "        label = img.replace(img.split('.')[-1], \"txt\")\n",
    "        shutil.copy(os.path.join(source_images, img), os.path.join(train_img_dir, img))\n",
    "        shutil.copy(os.path.join(source_labels, label), os.path.join(train_label_dir, label))\n",
    "\n",
    "    for img in val_files:\n",
    "        label = img.replace(img.split('.')[-1], \"txt\")\n",
    "        shutil.copy(os.path.join(source_images, img), os.path.join(val_img_dir, img))\n",
    "        shutil.copy(os.path.join(source_labels, label), os.path.join(val_label_dir, label))\n",
    "\n",
    "    print(f\"✅ Datenset erstellt: {len(train_files)} Trainingsbilder, {len(val_files)} Validierungsbilder\")\n",
    "\n",
    "def create_data_yaml():\n",
    "    \"\"\" \n",
    "    Erstellt die `data.yaml` Datei für das YOLO-Training.\n",
    "    \"\"\"\n",
    "    data_yaml_content = f\"\"\"train: {output_folder}/images/train\n",
    "val: {output_folder}/images/val\n",
    "nc: {len(class_map)}\n",
    "names: {list(class_map.keys())}\n",
    "\"\"\"\n",
    "\n",
    "    # Datei sicher schreiben\n",
    "    data_yaml_path = os.path.join(output_folder, \"data.yaml\")\n",
    "    with open(data_yaml_path, \"w\", encoding=\"utf-8\") as f:\n",
    "        f.write(data_yaml_content)\n",
    "\n",
    "    print(f\"✅ `data.yaml` wurde erfolgreich erstellt unter: {data_yaml_path}\")\n",
    "\n",
    "# **Workflow ausführen**\n",
    "valid_images = process_json_to_yolo()\n",
    "split_data(valid_images)\n",
    "create_data_yaml()\n"
   ]
  },
  {
   "cell_type": "markdown",
   "id": "5d384567-5e96-492f-b0c6-da3a33b23c33",
   "metadata": {},
   "source": [
    "# 📌 YOLOv8 Training mit Transfer Learning  \n",
    "\n",
    "## 🔹 Übersicht  \n",
    "In diesem Abschnitt wird das **YOLOv8-Modell mit Transfer Learning trainiert**.  \n",
    "Dabei wird ein **vortrainiertes YOLOv8 Nano-Modell (`yolov8n.pt`)** genutzt, das durch das neue Datenset weiter optimiert wird.  \n",
    "\n",
    "---\n",
    "\n",
    "## 🔹 Ablauf des YOLO-Trainings  \n",
    "1. **Laden des vortrainierten YOLOv8-Modells**  \n",
    "   - Das Modell `yolov8n.pt` dient als Ausgangspunkt.  \n",
    "   - Dieses Modell wurde bereits auf dem COCO-Datensatz trainiert und bietet eine gute Basis.  \n",
    "\n",
    "2. **Feinabstimmung mit Transfer Learning**  \n",
    "   - Statt das gesamte Modell von Grund auf neu zu trainieren, werden nur die **letzten Layer angepasst**.  \n",
    "   - Die **ersten 10 Layer werden eingefroren** (`freeze=10`), um Zeit und Rechenleistung zu sparen.  \n",
    "\n",
    "3. **Definieren der Trainingsparameter**  \n",
    "   - `epochs=100`: Mehr Epochen verbessern die Erkennung, erfordern aber mehr Rechenzeit.  \n",
    "   - `imgsz=640`: Die Bildgröße bleibt bei **640x640** (YOLO-Standard).  \n",
    "   - `batch=8`: Batch-Größe – kann je nach GPU-Speicher angepasst werden.  \n",
    "   - `workers=4`: Anzahl der CPU-Threads für das schnellere Laden der Daten.  \n",
    "   - `lr0=0.001`: Reduzierte Lernrate für bessere Stabilität beim Transfer Learning.  \n",
    "\n",
    "4. **Start des Trainings**  \n",
    "   - Das Modell wird mit den Trainingsdaten aus `data.yaml` trainiert.  \n",
    "   - Während des Trainings wird die Erkennungsleistung kontinuierlich evaluiert.  \n",
    "\n",
    "---\n",
    "\n",
    "## 🔹 Vorteile des Transfer Learnings  \n",
    "✅ **Schnellere Trainingszeit** durch Freezing der frühen Schichten  \n",
    "✅ **Weniger Daten erforderlich** im Vergleich zu einem Training von Grund auf  \n",
    "✅ **Bessere Genauigkeit** durch Anpassung an das spezifische Datenset  \n",
    "\n",
    "---\n",
    "\n",
    "## 🔹 Beispielaufruf  \n",
    "Das Training wird mit folgendem Code gestartet:  \n",
    "```python\n",
    "train_yolo_model()\n"
   ]
  },
  {
   "cell_type": "code",
   "execution_count": 9,
   "id": "ad6d8e85-e696-4226-b258-1d78282f703b",
   "metadata": {},
   "outputs": [
    {
     "name": "stdout",
     "output_type": "stream",
     "text": [
      "Ultralytics 8.3.70  Python-3.11.11 torch-2.6.0+cpu CPU (Intel Core(TM) i7-7600U 2.80GHz)\n",
      "\u001b[34m\u001b[1mengine\\trainer: \u001b[0mtask=detect, mode=train, model=yolov8n.pt, data=C:\\Python\\ML Seminar\\Seminararbeit WS24_25\\dataset\\data.yaml, epochs=100, time=None, patience=100, batch=8, imgsz=640, save=True, save_period=-1, cache=False, device=None, workers=4, project=None, name=train22, exist_ok=False, pretrained=True, optimizer=auto, verbose=True, seed=0, deterministic=True, single_cls=False, rect=False, cos_lr=False, close_mosaic=10, resume=False, amp=True, fraction=1.0, profile=False, freeze=10, multi_scale=False, overlap_mask=True, mask_ratio=4, dropout=0.0, val=True, split=val, save_json=False, save_hybrid=False, conf=None, iou=0.7, max_det=300, half=False, dnn=False, plots=True, source=None, vid_stride=1, stream_buffer=False, visualize=False, augment=False, agnostic_nms=False, classes=None, retina_masks=False, embed=None, show=False, save_frames=False, save_txt=False, save_conf=False, save_crop=False, show_labels=True, show_conf=True, show_boxes=True, line_width=None, format=torchscript, keras=False, optimize=False, int8=False, dynamic=False, simplify=True, opset=None, workspace=None, nms=False, lr0=0.001, lrf=0.01, momentum=0.937, weight_decay=0.0005, warmup_epochs=3.0, warmup_momentum=0.8, warmup_bias_lr=0.1, box=7.5, cls=0.5, dfl=1.5, pose=12.0, kobj=1.0, nbs=64, hsv_h=0.015, hsv_s=0.7, hsv_v=0.4, degrees=0.0, translate=0.1, scale=0.5, shear=0.0, perspective=0.0, flipud=0.0, fliplr=0.5, bgr=0.0, mosaic=1.0, mixup=0.0, copy_paste=0.0, copy_paste_mode=flip, auto_augment=randaugment, erasing=0.4, crop_fraction=1.0, cfg=None, tracker=botsort.yaml, save_dir=runs\\detect\\train22\n",
      "Overriding model.yaml nc=80 with nc=2\n",
      "\n",
      "                   from  n    params  module                                       arguments                     \n",
      "  0                  -1  1       464  ultralytics.nn.modules.conv.Conv             [3, 16, 3, 2]                 \n",
      "  1                  -1  1      4672  ultralytics.nn.modules.conv.Conv             [16, 32, 3, 2]                \n",
      "  2                  -1  1      7360  ultralytics.nn.modules.block.C2f             [32, 32, 1, True]             \n",
      "  3                  -1  1     18560  ultralytics.nn.modules.conv.Conv             [32, 64, 3, 2]                \n",
      "  4                  -1  2     49664  ultralytics.nn.modules.block.C2f             [64, 64, 2, True]             \n",
      "  5                  -1  1     73984  ultralytics.nn.modules.conv.Conv             [64, 128, 3, 2]               \n",
      "  6                  -1  2    197632  ultralytics.nn.modules.block.C2f             [128, 128, 2, True]           \n",
      "  7                  -1  1    295424  ultralytics.nn.modules.conv.Conv             [128, 256, 3, 2]              \n",
      "  8                  -1  1    460288  ultralytics.nn.modules.block.C2f             [256, 256, 1, True]           \n",
      "  9                  -1  1    164608  ultralytics.nn.modules.block.SPPF            [256, 256, 5]                 \n",
      " 10                  -1  1         0  torch.nn.modules.upsampling.Upsample         [None, 2, 'nearest']          \n",
      " 11             [-1, 6]  1         0  ultralytics.nn.modules.conv.Concat           [1]                           \n",
      " 12                  -1  1    148224  ultralytics.nn.modules.block.C2f             [384, 128, 1]                 \n",
      " 13                  -1  1         0  torch.nn.modules.upsampling.Upsample         [None, 2, 'nearest']          \n",
      " 14             [-1, 4]  1         0  ultralytics.nn.modules.conv.Concat           [1]                           \n",
      " 15                  -1  1     37248  ultralytics.nn.modules.block.C2f             [192, 64, 1]                  \n",
      " 16                  -1  1     36992  ultralytics.nn.modules.conv.Conv             [64, 64, 3, 2]                \n",
      " 17            [-1, 12]  1         0  ultralytics.nn.modules.conv.Concat           [1]                           \n",
      " 18                  -1  1    123648  ultralytics.nn.modules.block.C2f             [192, 128, 1]                 \n",
      " 19                  -1  1    147712  ultralytics.nn.modules.conv.Conv             [128, 128, 3, 2]              \n",
      " 20             [-1, 9]  1         0  ultralytics.nn.modules.conv.Concat           [1]                           \n",
      " 21                  -1  1    493056  ultralytics.nn.modules.block.C2f             [384, 256, 1]                 \n",
      " 22        [15, 18, 21]  1    751702  ultralytics.nn.modules.head.Detect           [2, [64, 128, 256]]           \n",
      "Model summary: 225 layers, 3,011,238 parameters, 3,011,222 gradients, 8.2 GFLOPs\n",
      "\n",
      "Transferred 319/355 items from pretrained weights\n",
      "Freezing layer 'model.0.conv.weight'\n",
      "Freezing layer 'model.0.bn.weight'\n",
      "Freezing layer 'model.0.bn.bias'\n",
      "Freezing layer 'model.1.conv.weight'\n",
      "Freezing layer 'model.1.bn.weight'\n",
      "Freezing layer 'model.1.bn.bias'\n",
      "Freezing layer 'model.2.cv1.conv.weight'\n",
      "Freezing layer 'model.2.cv1.bn.weight'\n",
      "Freezing layer 'model.2.cv1.bn.bias'\n",
      "Freezing layer 'model.2.cv2.conv.weight'\n",
      "Freezing layer 'model.2.cv2.bn.weight'\n",
      "Freezing layer 'model.2.cv2.bn.bias'\n",
      "Freezing layer 'model.2.m.0.cv1.conv.weight'\n",
      "Freezing layer 'model.2.m.0.cv1.bn.weight'\n",
      "Freezing layer 'model.2.m.0.cv1.bn.bias'\n",
      "Freezing layer 'model.2.m.0.cv2.conv.weight'\n",
      "Freezing layer 'model.2.m.0.cv2.bn.weight'\n",
      "Freezing layer 'model.2.m.0.cv2.bn.bias'\n",
      "Freezing layer 'model.3.conv.weight'\n",
      "Freezing layer 'model.3.bn.weight'\n",
      "Freezing layer 'model.3.bn.bias'\n",
      "Freezing layer 'model.4.cv1.conv.weight'\n",
      "Freezing layer 'model.4.cv1.bn.weight'\n",
      "Freezing layer 'model.4.cv1.bn.bias'\n",
      "Freezing layer 'model.4.cv2.conv.weight'\n",
      "Freezing layer 'model.4.cv2.bn.weight'\n",
      "Freezing layer 'model.4.cv2.bn.bias'\n",
      "Freezing layer 'model.4.m.0.cv1.conv.weight'\n",
      "Freezing layer 'model.4.m.0.cv1.bn.weight'\n",
      "Freezing layer 'model.4.m.0.cv1.bn.bias'\n",
      "Freezing layer 'model.4.m.0.cv2.conv.weight'\n",
      "Freezing layer 'model.4.m.0.cv2.bn.weight'\n",
      "Freezing layer 'model.4.m.0.cv2.bn.bias'\n",
      "Freezing layer 'model.4.m.1.cv1.conv.weight'\n",
      "Freezing layer 'model.4.m.1.cv1.bn.weight'\n",
      "Freezing layer 'model.4.m.1.cv1.bn.bias'\n",
      "Freezing layer 'model.4.m.1.cv2.conv.weight'\n",
      "Freezing layer 'model.4.m.1.cv2.bn.weight'\n",
      "Freezing layer 'model.4.m.1.cv2.bn.bias'\n",
      "Freezing layer 'model.5.conv.weight'\n",
      "Freezing layer 'model.5.bn.weight'\n",
      "Freezing layer 'model.5.bn.bias'\n",
      "Freezing layer 'model.6.cv1.conv.weight'\n",
      "Freezing layer 'model.6.cv1.bn.weight'\n",
      "Freezing layer 'model.6.cv1.bn.bias'\n",
      "Freezing layer 'model.6.cv2.conv.weight'\n",
      "Freezing layer 'model.6.cv2.bn.weight'\n",
      "Freezing layer 'model.6.cv2.bn.bias'\n",
      "Freezing layer 'model.6.m.0.cv1.conv.weight'\n",
      "Freezing layer 'model.6.m.0.cv1.bn.weight'\n",
      "Freezing layer 'model.6.m.0.cv1.bn.bias'\n",
      "Freezing layer 'model.6.m.0.cv2.conv.weight'\n",
      "Freezing layer 'model.6.m.0.cv2.bn.weight'\n",
      "Freezing layer 'model.6.m.0.cv2.bn.bias'\n",
      "Freezing layer 'model.6.m.1.cv1.conv.weight'\n",
      "Freezing layer 'model.6.m.1.cv1.bn.weight'\n",
      "Freezing layer 'model.6.m.1.cv1.bn.bias'\n",
      "Freezing layer 'model.6.m.1.cv2.conv.weight'\n",
      "Freezing layer 'model.6.m.1.cv2.bn.weight'\n",
      "Freezing layer 'model.6.m.1.cv2.bn.bias'\n",
      "Freezing layer 'model.7.conv.weight'\n",
      "Freezing layer 'model.7.bn.weight'\n",
      "Freezing layer 'model.7.bn.bias'\n",
      "Freezing layer 'model.8.cv1.conv.weight'\n",
      "Freezing layer 'model.8.cv1.bn.weight'\n",
      "Freezing layer 'model.8.cv1.bn.bias'\n",
      "Freezing layer 'model.8.cv2.conv.weight'\n",
      "Freezing layer 'model.8.cv2.bn.weight'\n",
      "Freezing layer 'model.8.cv2.bn.bias'\n",
      "Freezing layer 'model.8.m.0.cv1.conv.weight'\n",
      "Freezing layer 'model.8.m.0.cv1.bn.weight'\n",
      "Freezing layer 'model.8.m.0.cv1.bn.bias'\n",
      "Freezing layer 'model.8.m.0.cv2.conv.weight'\n",
      "Freezing layer 'model.8.m.0.cv2.bn.weight'\n",
      "Freezing layer 'model.8.m.0.cv2.bn.bias'\n",
      "Freezing layer 'model.9.cv1.conv.weight'\n",
      "Freezing layer 'model.9.cv1.bn.weight'\n",
      "Freezing layer 'model.9.cv1.bn.bias'\n",
      "Freezing layer 'model.9.cv2.conv.weight'\n",
      "Freezing layer 'model.9.cv2.bn.weight'\n",
      "Freezing layer 'model.9.cv2.bn.bias'\n",
      "Freezing layer 'model.22.dfl.conv.weight'\n"
     ]
    },
    {
     "name": "stderr",
     "output_type": "stream",
     "text": [
      "\u001b[34m\u001b[1mtrain: \u001b[0mScanning C:\\Python\\ML Seminar\\Seminararbeit WS24_25\\dataset\\labels\\train.cache... 54 images, 0 backgrounds, 0 co\u001b[0m\n",
      "\u001b[34m\u001b[1mval: \u001b[0mScanning C:\\Python\\ML Seminar\\Seminararbeit WS24_25\\dataset\\labels\\val.cache... 17 images, 0 backgrounds, 0 corrup\u001b[0m"
     ]
    },
    {
     "name": "stdout",
     "output_type": "stream",
     "text": [
      "Plotting labels to runs\\detect\\train22\\labels.jpg... \n"
     ]
    },
    {
     "name": "stderr",
     "output_type": "stream",
     "text": [
      "\n"
     ]
    },
    {
     "name": "stdout",
     "output_type": "stream",
     "text": [
      "\u001b[34m\u001b[1moptimizer:\u001b[0m 'optimizer=auto' found, ignoring 'lr0=0.001' and 'momentum=0.937' and determining best 'optimizer', 'lr0' and 'momentum' automatically... \n",
      "\u001b[34m\u001b[1moptimizer:\u001b[0m AdamW(lr=0.001667, momentum=0.9) with parameter groups 57 weight(decay=0.0), 64 weight(decay=0.0005), 63 bias(decay=0.0)\n",
      "Image sizes 640 train, 640 val\n",
      "Using 0 dataloader workers\n",
      "Logging results to \u001b[1mruns\\detect\\train22\u001b[0m\n",
      "Starting training for 100 epochs...\n",
      "\n",
      "      Epoch    GPU_mem   box_loss   cls_loss   dfl_loss  Instances       Size\n"
     ]
    },
    {
     "name": "stderr",
     "output_type": "stream",
     "text": [
      "      1/100         0G      2.322      4.715      1.986         17        640: 100%|██████████| 7/7 [00:20<00:00,  2.99\n",
      "                 Class     Images  Instances      Box(P          R      mAP50  mAP50-95): 100%|██████████| 2/2 [00:02<0"
     ]
    },
    {
     "name": "stdout",
     "output_type": "stream",
     "text": [
      "                   all         17         21    0.00411      0.382    0.00366    0.00169\n"
     ]
    },
    {
     "name": "stderr",
     "output_type": "stream",
     "text": [
      "\n"
     ]
    },
    {
     "name": "stdout",
     "output_type": "stream",
     "text": [
      "\n",
      "      Epoch    GPU_mem   box_loss   cls_loss   dfl_loss  Instances       Size\n"
     ]
    },
    {
     "name": "stderr",
     "output_type": "stream",
     "text": [
      "      2/100         0G      1.774      4.223      1.616         12        640: 100%|██████████| 7/7 [00:24<00:00,  3.50\n",
      "                 Class     Images  Instances      Box(P          R      mAP50  mAP50-95): 100%|██████████| 2/2 [00:02<0"
     ]
    },
    {
     "name": "stdout",
     "output_type": "stream",
     "text": [
      "                   all         17         21    0.00449      0.721     0.0071    0.00354\n"
     ]
    },
    {
     "name": "stderr",
     "output_type": "stream",
     "text": [
      "\n"
     ]
    },
    {
     "name": "stdout",
     "output_type": "stream",
     "text": [
      "\n",
      "      Epoch    GPU_mem   box_loss   cls_loss   dfl_loss  Instances       Size\n"
     ]
    },
    {
     "name": "stderr",
     "output_type": "stream",
     "text": [
      "      3/100         0G       1.53      3.377      1.404          7        640: 100%|██████████| 7/7 [00:22<00:00,  3.25\n",
      "                 Class     Images  Instances      Box(P          R      mAP50  mAP50-95): 100%|██████████| 2/2 [00:02<0"
     ]
    },
    {
     "name": "stdout",
     "output_type": "stream",
     "text": [
      "                   all         17         21    0.00421      0.875      0.165     0.0964\n"
     ]
    },
    {
     "name": "stderr",
     "output_type": "stream",
     "text": [
      "\n"
     ]
    },
    {
     "name": "stdout",
     "output_type": "stream",
     "text": [
      "\n",
      "      Epoch    GPU_mem   box_loss   cls_loss   dfl_loss  Instances       Size\n"
     ]
    },
    {
     "name": "stderr",
     "output_type": "stream",
     "text": [
      "      4/100         0G      1.527      2.496      1.344         13        640: 100%|██████████| 7/7 [00:20<00:00,  2.98\n",
      "                 Class     Images  Instances      Box(P          R      mAP50  mAP50-95): 100%|██████████| 2/2 [00:02<0"
     ]
    },
    {
     "name": "stdout",
     "output_type": "stream",
     "text": [
      "                   all         17         21    0.00371       0.75      0.448      0.289\n"
     ]
    },
    {
     "name": "stderr",
     "output_type": "stream",
     "text": [
      "\n"
     ]
    },
    {
     "name": "stdout",
     "output_type": "stream",
     "text": [
      "\n",
      "      Epoch    GPU_mem   box_loss   cls_loss   dfl_loss  Instances       Size\n"
     ]
    },
    {
     "name": "stderr",
     "output_type": "stream",
     "text": [
      "      5/100         0G      1.422       2.55       1.31         20        640: 100%|██████████| 7/7 [00:20<00:00,  2.92\n",
      "                 Class     Images  Instances      Box(P          R      mAP50  mAP50-95): 100%|██████████| 2/2 [00:02<0"
     ]
    },
    {
     "name": "stdout",
     "output_type": "stream",
     "text": [
      "                   all         17         21    0.00387      0.875      0.479      0.303\n"
     ]
    },
    {
     "name": "stderr",
     "output_type": "stream",
     "text": [
      "\n"
     ]
    },
    {
     "name": "stdout",
     "output_type": "stream",
     "text": [
      "\n",
      "      Epoch    GPU_mem   box_loss   cls_loss   dfl_loss  Instances       Size\n"
     ]
    },
    {
     "name": "stderr",
     "output_type": "stream",
     "text": [
      "      6/100         0G      1.325       2.12       1.31         14        640: 100%|██████████| 7/7 [00:20<00:00,  2.91\n",
      "                 Class     Images  Instances      Box(P          R      mAP50  mAP50-95): 100%|██████████| 2/2 [00:02<0"
     ]
    },
    {
     "name": "stdout",
     "output_type": "stream",
     "text": [
      "                   all         17         21    0.00732        0.5      0.492       0.33\n"
     ]
    },
    {
     "name": "stderr",
     "output_type": "stream",
     "text": [
      "\n"
     ]
    },
    {
     "name": "stdout",
     "output_type": "stream",
     "text": [
      "\n",
      "      Epoch    GPU_mem   box_loss   cls_loss   dfl_loss  Instances       Size\n"
     ]
    },
    {
     "name": "stderr",
     "output_type": "stream",
     "text": [
      "      7/100         0G      1.501      2.212      1.379         22        640: 100%|██████████| 7/7 [00:21<00:00,  3.12\n",
      "                 Class     Images  Instances      Box(P          R      mAP50  mAP50-95): 100%|██████████| 2/2 [00:02<0"
     ]
    },
    {
     "name": "stdout",
     "output_type": "stream",
     "text": [
      "                   all         17         21          1      0.367      0.497      0.323\n"
     ]
    },
    {
     "name": "stderr",
     "output_type": "stream",
     "text": [
      "\n"
     ]
    },
    {
     "name": "stdout",
     "output_type": "stream",
     "text": [
      "\n",
      "      Epoch    GPU_mem   box_loss   cls_loss   dfl_loss  Instances       Size\n"
     ]
    },
    {
     "name": "stderr",
     "output_type": "stream",
     "text": [
      "      8/100         0G      1.261      1.767      1.216         13        640: 100%|██████████| 7/7 [00:20<00:00,  2.90\n",
      "                 Class     Images  Instances      Box(P          R      mAP50  mAP50-95): 100%|██████████| 2/2 [00:02<0"
     ]
    },
    {
     "name": "stdout",
     "output_type": "stream",
     "text": [
      "                   all         17         21          1      0.453      0.494      0.335\n"
     ]
    },
    {
     "name": "stderr",
     "output_type": "stream",
     "text": [
      "\n"
     ]
    },
    {
     "name": "stdout",
     "output_type": "stream",
     "text": [
      "\n",
      "      Epoch    GPU_mem   box_loss   cls_loss   dfl_loss  Instances       Size\n"
     ]
    },
    {
     "name": "stderr",
     "output_type": "stream",
     "text": [
      "      9/100         0G      1.239       1.74      1.276         15        640: 100%|██████████| 7/7 [00:20<00:00,  2.90\n",
      "                 Class     Images  Instances      Box(P          R      mAP50  mAP50-95): 100%|██████████| 2/2 [00:02<0\n"
     ]
    },
    {
     "name": "stdout",
     "output_type": "stream",
     "text": [
      "                   all         17         21      0.921      0.471       0.49      0.331\n",
      "\n",
      "      Epoch    GPU_mem   box_loss   cls_loss   dfl_loss  Instances       Size\n"
     ]
    },
    {
     "name": "stderr",
     "output_type": "stream",
     "text": [
      "     10/100         0G      1.245      1.603      1.213         15        640: 100%|██████████| 7/7 [00:20<00:00,  2.89\n",
      "                 Class     Images  Instances      Box(P          R      mAP50  mAP50-95): 100%|██████████| 2/2 [00:02<0"
     ]
    },
    {
     "name": "stdout",
     "output_type": "stream",
     "text": [
      "                   all         17         21       0.91      0.471      0.488      0.324\n"
     ]
    },
    {
     "name": "stderr",
     "output_type": "stream",
     "text": [
      "\n"
     ]
    },
    {
     "name": "stdout",
     "output_type": "stream",
     "text": [
      "\n",
      "      Epoch    GPU_mem   box_loss   cls_loss   dfl_loss  Instances       Size\n"
     ]
    },
    {
     "name": "stderr",
     "output_type": "stream",
     "text": [
      "     11/100         0G      1.233      1.712      1.247         12        640: 100%|██████████| 7/7 [00:20<00:00,  2.88\n",
      "                 Class     Images  Instances      Box(P          R      mAP50  mAP50-95): 100%|██████████| 2/2 [00:02<0"
     ]
    },
    {
     "name": "stdout",
     "output_type": "stream",
     "text": [
      "                   all         17         21       0.86      0.875      0.805       0.37\n"
     ]
    },
    {
     "name": "stderr",
     "output_type": "stream",
     "text": [
      "\n"
     ]
    },
    {
     "name": "stdout",
     "output_type": "stream",
     "text": [
      "\n",
      "      Epoch    GPU_mem   box_loss   cls_loss   dfl_loss  Instances       Size\n"
     ]
    },
    {
     "name": "stderr",
     "output_type": "stream",
     "text": [
      "     12/100         0G      1.244      1.716      1.214         18        640: 100%|██████████| 7/7 [00:20<00:00,  2.90\n",
      "                 Class     Images  Instances      Box(P          R      mAP50  mAP50-95): 100%|██████████| 2/2 [00:02<0"
     ]
    },
    {
     "name": "stdout",
     "output_type": "stream",
     "text": [
      "                   all         17         21      0.975      0.851      0.882      0.519\n"
     ]
    },
    {
     "name": "stderr",
     "output_type": "stream",
     "text": [
      "\n"
     ]
    },
    {
     "name": "stdout",
     "output_type": "stream",
     "text": [
      "\n",
      "      Epoch    GPU_mem   box_loss   cls_loss   dfl_loss  Instances       Size\n"
     ]
    },
    {
     "name": "stderr",
     "output_type": "stream",
     "text": [
      "     13/100         0G      1.219      1.626      1.184         16        640: 100%|██████████| 7/7 [00:20<00:00,  2.88\n",
      "                 Class     Images  Instances      Box(P          R      mAP50  mAP50-95): 100%|██████████| 2/2 [00:02<0"
     ]
    },
    {
     "name": "stdout",
     "output_type": "stream",
     "text": [
      "                   all         17         21       0.92      0.875       0.87      0.489\n"
     ]
    },
    {
     "name": "stderr",
     "output_type": "stream",
     "text": [
      "\n"
     ]
    },
    {
     "name": "stdout",
     "output_type": "stream",
     "text": [
      "\n",
      "      Epoch    GPU_mem   box_loss   cls_loss   dfl_loss  Instances       Size\n"
     ]
    },
    {
     "name": "stderr",
     "output_type": "stream",
     "text": [
      "     14/100         0G        1.2      1.612      1.255         11        640: 100%|██████████| 7/7 [00:20<00:00,  2.88\n",
      "                 Class     Images  Instances      Box(P          R      mAP50  mAP50-95): 100%|██████████| 2/2 [00:02<0"
     ]
    },
    {
     "name": "stdout",
     "output_type": "stream",
     "text": [
      "                   all         17         21       0.92      0.875       0.87      0.489\n"
     ]
    },
    {
     "name": "stderr",
     "output_type": "stream",
     "text": [
      "\n"
     ]
    },
    {
     "name": "stdout",
     "output_type": "stream",
     "text": [
      "\n",
      "      Epoch    GPU_mem   box_loss   cls_loss   dfl_loss  Instances       Size\n"
     ]
    },
    {
     "name": "stderr",
     "output_type": "stream",
     "text": [
      "     15/100         0G      1.151      1.433      1.172         10        640: 100%|██████████| 7/7 [00:20<00:00,  2.95\n",
      "                 Class     Images  Instances      Box(P          R      mAP50  mAP50-95): 100%|██████████| 2/2 [00:02<0"
     ]
    },
    {
     "name": "stdout",
     "output_type": "stream",
     "text": [
      "                   all         17         21      0.908      0.875      0.901      0.532\n"
     ]
    },
    {
     "name": "stderr",
     "output_type": "stream",
     "text": [
      "\n"
     ]
    },
    {
     "name": "stdout",
     "output_type": "stream",
     "text": [
      "\n",
      "      Epoch    GPU_mem   box_loss   cls_loss   dfl_loss  Instances       Size\n"
     ]
    },
    {
     "name": "stderr",
     "output_type": "stream",
     "text": [
      "     16/100         0G      1.173      1.489      1.203         15        640: 100%|██████████| 7/7 [00:20<00:00,  2.90\n",
      "                 Class     Images  Instances      Box(P          R      mAP50  mAP50-95): 100%|██████████| 2/2 [00:02<0"
     ]
    },
    {
     "name": "stdout",
     "output_type": "stream",
     "text": [
      "                   all         17         21      0.943      0.852      0.937      0.527\n"
     ]
    },
    {
     "name": "stderr",
     "output_type": "stream",
     "text": [
      "\n"
     ]
    },
    {
     "name": "stdout",
     "output_type": "stream",
     "text": [
      "\n",
      "      Epoch    GPU_mem   box_loss   cls_loss   dfl_loss  Instances       Size\n"
     ]
    },
    {
     "name": "stderr",
     "output_type": "stream",
     "text": [
      "     17/100         0G      1.215      1.432      1.234         16        640: 100%|██████████| 7/7 [00:21<00:00,  3.00\n",
      "                 Class     Images  Instances      Box(P          R      mAP50  mAP50-95): 100%|██████████| 2/2 [00:02<0"
     ]
    },
    {
     "name": "stdout",
     "output_type": "stream",
     "text": [
      "                   all         17         21      0.987       0.85      0.953      0.548\n"
     ]
    },
    {
     "name": "stderr",
     "output_type": "stream",
     "text": [
      "\n"
     ]
    },
    {
     "name": "stdout",
     "output_type": "stream",
     "text": [
      "\n",
      "      Epoch    GPU_mem   box_loss   cls_loss   dfl_loss  Instances       Size\n"
     ]
    },
    {
     "name": "stderr",
     "output_type": "stream",
     "text": [
      "     18/100         0G      1.125        1.3      1.196         15        640: 100%|██████████| 7/7 [00:20<00:00,  2.88\n",
      "                 Class     Images  Instances      Box(P          R      mAP50  mAP50-95): 100%|██████████| 2/2 [00:02<0"
     ]
    },
    {
     "name": "stdout",
     "output_type": "stream",
     "text": [
      "                   all         17         21      0.896      0.875      0.933      0.573\n"
     ]
    },
    {
     "name": "stderr",
     "output_type": "stream",
     "text": [
      "\n"
     ]
    },
    {
     "name": "stdout",
     "output_type": "stream",
     "text": [
      "\n",
      "      Epoch    GPU_mem   box_loss   cls_loss   dfl_loss  Instances       Size\n"
     ]
    },
    {
     "name": "stderr",
     "output_type": "stream",
     "text": [
      "     19/100         0G      1.047      1.256      1.131          9        640: 100%|██████████| 7/7 [00:20<00:00,  2.88\n",
      "                 Class     Images  Instances      Box(P          R      mAP50  mAP50-95): 100%|██████████| 2/2 [00:02<0"
     ]
    },
    {
     "name": "stdout",
     "output_type": "stream",
     "text": [
      "                   all         17         21      0.965      0.875       0.97      0.559\n"
     ]
    },
    {
     "name": "stderr",
     "output_type": "stream",
     "text": [
      "\n"
     ]
    },
    {
     "name": "stdout",
     "output_type": "stream",
     "text": [
      "\n",
      "      Epoch    GPU_mem   box_loss   cls_loss   dfl_loss  Instances       Size\n"
     ]
    },
    {
     "name": "stderr",
     "output_type": "stream",
     "text": [
      "     20/100         0G      1.112       1.36      1.197         15        640: 100%|██████████| 7/7 [00:20<00:00,  2.90\n",
      "                 Class     Images  Instances      Box(P          R      mAP50  mAP50-95): 100%|██████████| 2/2 [00:02<0"
     ]
    },
    {
     "name": "stdout",
     "output_type": "stream",
     "text": [
      "                   all         17         21      0.982      0.993      0.995      0.549\n"
     ]
    },
    {
     "name": "stderr",
     "output_type": "stream",
     "text": [
      "\n"
     ]
    },
    {
     "name": "stdout",
     "output_type": "stream",
     "text": [
      "\n",
      "      Epoch    GPU_mem   box_loss   cls_loss   dfl_loss  Instances       Size\n"
     ]
    },
    {
     "name": "stderr",
     "output_type": "stream",
     "text": [
      "     21/100         0G      1.041      1.196      1.113         10        640: 100%|██████████| 7/7 [00:20<00:00,  2.87\n",
      "                 Class     Images  Instances      Box(P          R      mAP50  mAP50-95): 100%|██████████| 2/2 [00:02<0"
     ]
    },
    {
     "name": "stdout",
     "output_type": "stream",
     "text": [
      "                   all         17         21      0.977      0.996      0.995      0.522\n"
     ]
    },
    {
     "name": "stderr",
     "output_type": "stream",
     "text": [
      "\n"
     ]
    },
    {
     "name": "stdout",
     "output_type": "stream",
     "text": [
      "\n",
      "      Epoch    GPU_mem   box_loss   cls_loss   dfl_loss  Instances       Size\n"
     ]
    },
    {
     "name": "stderr",
     "output_type": "stream",
     "text": [
      "     22/100         0G       1.18      1.259      1.192         18        640: 100%|██████████| 7/7 [00:20<00:00,  2.89\n",
      "                 Class     Images  Instances      Box(P          R      mAP50  mAP50-95): 100%|██████████| 2/2 [00:02<0"
     ]
    },
    {
     "name": "stdout",
     "output_type": "stream",
     "text": [
      "                   all         17         21      0.977      0.996      0.995      0.522\n"
     ]
    },
    {
     "name": "stderr",
     "output_type": "stream",
     "text": [
      "\n"
     ]
    },
    {
     "name": "stdout",
     "output_type": "stream",
     "text": [
      "\n",
      "      Epoch    GPU_mem   box_loss   cls_loss   dfl_loss  Instances       Size\n"
     ]
    },
    {
     "name": "stderr",
     "output_type": "stream",
     "text": [
      "     23/100         0G      1.112      1.277      1.122         13        640: 100%|██████████| 7/7 [00:20<00:00,  2.89\n",
      "                 Class     Images  Instances      Box(P          R      mAP50  mAP50-95): 100%|██████████| 2/2 [00:02<0"
     ]
    },
    {
     "name": "stdout",
     "output_type": "stream",
     "text": [
      "                   all         17         21      0.972      0.985      0.995      0.561\n"
     ]
    },
    {
     "name": "stderr",
     "output_type": "stream",
     "text": [
      "\n"
     ]
    },
    {
     "name": "stdout",
     "output_type": "stream",
     "text": [
      "\n",
      "      Epoch    GPU_mem   box_loss   cls_loss   dfl_loss  Instances       Size\n"
     ]
    },
    {
     "name": "stderr",
     "output_type": "stream",
     "text": [
      "     24/100         0G      1.034      1.222      1.131         11        640: 100%|██████████| 7/7 [00:20<00:00,  2.88\n",
      "                 Class     Images  Instances      Box(P          R      mAP50  mAP50-95): 100%|██████████| 2/2 [00:02<0"
     ]
    },
    {
     "name": "stdout",
     "output_type": "stream",
     "text": [
      "                   all         17         21      0.997          1      0.995      0.595\n"
     ]
    },
    {
     "name": "stderr",
     "output_type": "stream",
     "text": [
      "\n"
     ]
    },
    {
     "name": "stdout",
     "output_type": "stream",
     "text": [
      "\n",
      "      Epoch    GPU_mem   box_loss   cls_loss   dfl_loss  Instances       Size\n"
     ]
    },
    {
     "name": "stderr",
     "output_type": "stream",
     "text": [
      "     25/100         0G       1.09      1.199      1.136         19        640: 100%|██████████| 7/7 [00:20<00:00,  2.89\n",
      "                 Class     Images  Instances      Box(P          R      mAP50  mAP50-95): 100%|██████████| 2/2 [00:02<0"
     ]
    },
    {
     "name": "stdout",
     "output_type": "stream",
     "text": [
      "                   all         17         21      0.957      0.992      0.995      0.624\n"
     ]
    },
    {
     "name": "stderr",
     "output_type": "stream",
     "text": [
      "\n"
     ]
    },
    {
     "name": "stdout",
     "output_type": "stream",
     "text": [
      "\n",
      "      Epoch    GPU_mem   box_loss   cls_loss   dfl_loss  Instances       Size\n"
     ]
    },
    {
     "name": "stderr",
     "output_type": "stream",
     "text": [
      "     26/100         0G      1.033      1.216      1.099         15        640: 100%|██████████| 7/7 [00:20<00:00,  2.88\n",
      "                 Class     Images  Instances      Box(P          R      mAP50  mAP50-95): 100%|██████████| 2/2 [00:02<0"
     ]
    },
    {
     "name": "stdout",
     "output_type": "stream",
     "text": [
      "                   all         17         21      0.929      0.993      0.995      0.674\n"
     ]
    },
    {
     "name": "stderr",
     "output_type": "stream",
     "text": [
      "\n"
     ]
    },
    {
     "name": "stdout",
     "output_type": "stream",
     "text": [
      "\n",
      "      Epoch    GPU_mem   box_loss   cls_loss   dfl_loss  Instances       Size\n"
     ]
    },
    {
     "name": "stderr",
     "output_type": "stream",
     "text": [
      "     27/100         0G      1.124      1.218      1.177         15        640: 100%|██████████| 7/7 [00:20<00:00,  2.91\n",
      "                 Class     Images  Instances      Box(P          R      mAP50  mAP50-95): 100%|██████████| 2/2 [00:02<0"
     ]
    },
    {
     "name": "stdout",
     "output_type": "stream",
     "text": [
      "                   all         17         21      0.983      0.999      0.995      0.658\n"
     ]
    },
    {
     "name": "stderr",
     "output_type": "stream",
     "text": [
      "\n"
     ]
    },
    {
     "name": "stdout",
     "output_type": "stream",
     "text": [
      "\n",
      "      Epoch    GPU_mem   box_loss   cls_loss   dfl_loss  Instances       Size\n"
     ]
    },
    {
     "name": "stderr",
     "output_type": "stream",
     "text": [
      "     28/100         0G      1.071      1.159      1.174         20        640: 100%|██████████| 7/7 [00:20<00:00,  2.91\n",
      "                 Class     Images  Instances      Box(P          R      mAP50  mAP50-95): 100%|██████████| 2/2 [00:02<0"
     ]
    },
    {
     "name": "stdout",
     "output_type": "stream",
     "text": [
      "                   all         17         21       0.97          1      0.995      0.628\n"
     ]
    },
    {
     "name": "stderr",
     "output_type": "stream",
     "text": [
      "\n"
     ]
    },
    {
     "name": "stdout",
     "output_type": "stream",
     "text": [
      "\n",
      "      Epoch    GPU_mem   box_loss   cls_loss   dfl_loss  Instances       Size\n"
     ]
    },
    {
     "name": "stderr",
     "output_type": "stream",
     "text": [
      "     29/100         0G      1.055      1.084      1.083         11        640: 100%|██████████| 7/7 [00:20<00:00,  2.89\n",
      "                 Class     Images  Instances      Box(P          R      mAP50  mAP50-95): 100%|██████████| 2/2 [00:02<0"
     ]
    },
    {
     "name": "stdout",
     "output_type": "stream",
     "text": [
      "                   all         17         21       0.99          1      0.995      0.621\n"
     ]
    },
    {
     "name": "stderr",
     "output_type": "stream",
     "text": [
      "\n"
     ]
    },
    {
     "name": "stdout",
     "output_type": "stream",
     "text": [
      "\n",
      "      Epoch    GPU_mem   box_loss   cls_loss   dfl_loss  Instances       Size\n"
     ]
    },
    {
     "name": "stderr",
     "output_type": "stream",
     "text": [
      "     30/100         0G      1.068      1.142      1.156          8        640: 100%|██████████| 7/7 [00:20<00:00,  2.88\n",
      "                 Class     Images  Instances      Box(P          R      mAP50  mAP50-95): 100%|██████████| 2/2 [00:02<0"
     ]
    },
    {
     "name": "stdout",
     "output_type": "stream",
     "text": [
      "                   all         17         21       0.99          1      0.995      0.621\n"
     ]
    },
    {
     "name": "stderr",
     "output_type": "stream",
     "text": [
      "\n"
     ]
    },
    {
     "name": "stdout",
     "output_type": "stream",
     "text": [
      "\n",
      "      Epoch    GPU_mem   box_loss   cls_loss   dfl_loss  Instances       Size\n"
     ]
    },
    {
     "name": "stderr",
     "output_type": "stream",
     "text": [
      "     31/100         0G      1.021      1.067       1.07         11        640: 100%|██████████| 7/7 [00:20<00:00,  2.88\n",
      "                 Class     Images  Instances      Box(P          R      mAP50  mAP50-95): 100%|██████████| 2/2 [00:02<0"
     ]
    },
    {
     "name": "stdout",
     "output_type": "stream",
     "text": [
      "                   all         17         21      0.957       0.99      0.995      0.637\n"
     ]
    },
    {
     "name": "stderr",
     "output_type": "stream",
     "text": [
      "\n"
     ]
    },
    {
     "name": "stdout",
     "output_type": "stream",
     "text": [
      "\n",
      "      Epoch    GPU_mem   box_loss   cls_loss   dfl_loss  Instances       Size\n"
     ]
    },
    {
     "name": "stderr",
     "output_type": "stream",
     "text": [
      "     32/100         0G      1.107      1.113      1.151         13        640: 100%|██████████| 7/7 [00:20<00:00,  2.87\n",
      "                 Class     Images  Instances      Box(P          R      mAP50  mAP50-95): 100%|██████████| 2/2 [00:02<0"
     ]
    },
    {
     "name": "stdout",
     "output_type": "stream",
     "text": [
      "                   all         17         21      0.928      0.966      0.995      0.651\n"
     ]
    },
    {
     "name": "stderr",
     "output_type": "stream",
     "text": [
      "\n"
     ]
    },
    {
     "name": "stdout",
     "output_type": "stream",
     "text": [
      "\n",
      "      Epoch    GPU_mem   box_loss   cls_loss   dfl_loss  Instances       Size\n"
     ]
    },
    {
     "name": "stderr",
     "output_type": "stream",
     "text": [
      "     33/100         0G      1.065      1.121      1.212         13        640: 100%|██████████| 7/7 [00:20<00:00,  2.88\n",
      "                 Class     Images  Instances      Box(P          R      mAP50  mAP50-95): 100%|██████████| 2/2 [00:02<0"
     ]
    },
    {
     "name": "stdout",
     "output_type": "stream",
     "text": [
      "                   all         17         21      0.951      0.988      0.995      0.642\n"
     ]
    },
    {
     "name": "stderr",
     "output_type": "stream",
     "text": [
      "\n"
     ]
    },
    {
     "name": "stdout",
     "output_type": "stream",
     "text": [
      "\n",
      "      Epoch    GPU_mem   box_loss   cls_loss   dfl_loss  Instances       Size\n"
     ]
    },
    {
     "name": "stderr",
     "output_type": "stream",
     "text": [
      "     34/100         0G      1.026       1.19      1.085          9        640: 100%|██████████| 7/7 [00:20<00:00,  2.87\n",
      "                 Class     Images  Instances      Box(P          R      mAP50  mAP50-95): 100%|██████████| 2/2 [00:02<0"
     ]
    },
    {
     "name": "stdout",
     "output_type": "stream",
     "text": [
      "                   all         17         21      0.969      0.989      0.995      0.635\n"
     ]
    },
    {
     "name": "stderr",
     "output_type": "stream",
     "text": [
      "\n"
     ]
    },
    {
     "name": "stdout",
     "output_type": "stream",
     "text": [
      "\n",
      "      Epoch    GPU_mem   box_loss   cls_loss   dfl_loss  Instances       Size\n"
     ]
    },
    {
     "name": "stderr",
     "output_type": "stream",
     "text": [
      "     35/100         0G      1.008      1.056      1.066         16        640: 100%|██████████| 7/7 [00:20<00:00,  2.87\n",
      "                 Class     Images  Instances      Box(P          R      mAP50  mAP50-95): 100%|██████████| 2/2 [00:02<0"
     ]
    },
    {
     "name": "stdout",
     "output_type": "stream",
     "text": [
      "                   all         17         21      0.997      0.986      0.995      0.649\n"
     ]
    },
    {
     "name": "stderr",
     "output_type": "stream",
     "text": [
      "\n"
     ]
    },
    {
     "name": "stdout",
     "output_type": "stream",
     "text": [
      "\n",
      "      Epoch    GPU_mem   box_loss   cls_loss   dfl_loss  Instances       Size\n"
     ]
    },
    {
     "name": "stderr",
     "output_type": "stream",
     "text": [
      "     36/100         0G     0.9349      1.001      1.058         13        640: 100%|██████████| 7/7 [00:20<00:00,  2.91\n",
      "                 Class     Images  Instances      Box(P          R      mAP50  mAP50-95): 100%|██████████| 2/2 [00:02<0"
     ]
    },
    {
     "name": "stdout",
     "output_type": "stream",
     "text": [
      "                   all         17         21          1      0.976      0.995      0.642\n"
     ]
    },
    {
     "name": "stderr",
     "output_type": "stream",
     "text": [
      "\n"
     ]
    },
    {
     "name": "stdout",
     "output_type": "stream",
     "text": [
      "\n",
      "      Epoch    GPU_mem   box_loss   cls_loss   dfl_loss  Instances       Size\n"
     ]
    },
    {
     "name": "stderr",
     "output_type": "stream",
     "text": [
      "     37/100         0G     0.9985      1.046       1.08          8        640: 100%|██████████| 7/7 [00:20<00:00,  2.90\n",
      "                 Class     Images  Instances      Box(P          R      mAP50  mAP50-95): 100%|██████████| 2/2 [00:02<0"
     ]
    },
    {
     "name": "stdout",
     "output_type": "stream",
     "text": [
      "                   all         17         21      0.966      0.985      0.995      0.622\n"
     ]
    },
    {
     "name": "stderr",
     "output_type": "stream",
     "text": [
      "\n"
     ]
    },
    {
     "name": "stdout",
     "output_type": "stream",
     "text": [
      "\n",
      "      Epoch    GPU_mem   box_loss   cls_loss   dfl_loss  Instances       Size\n"
     ]
    },
    {
     "name": "stderr",
     "output_type": "stream",
     "text": [
      "     38/100         0G     0.9531       1.01      1.051         17        640: 100%|██████████| 7/7 [00:20<00:00,  2.88\n",
      "                 Class     Images  Instances      Box(P          R      mAP50  mAP50-95): 100%|██████████| 2/2 [00:02<0"
     ]
    },
    {
     "name": "stdout",
     "output_type": "stream",
     "text": [
      "                   all         17         21      0.966      0.985      0.995      0.622\n"
     ]
    },
    {
     "name": "stderr",
     "output_type": "stream",
     "text": [
      "\n"
     ]
    },
    {
     "name": "stdout",
     "output_type": "stream",
     "text": [
      "\n",
      "      Epoch    GPU_mem   box_loss   cls_loss   dfl_loss  Instances       Size\n"
     ]
    },
    {
     "name": "stderr",
     "output_type": "stream",
     "text": [
      "     39/100         0G     0.9127     0.8802     0.9956         16        640: 100%|██████████| 7/7 [00:20<00:00,  2.88\n",
      "                 Class     Images  Instances      Box(P          R      mAP50  mAP50-95): 100%|██████████| 2/2 [00:02<0"
     ]
    },
    {
     "name": "stdout",
     "output_type": "stream",
     "text": [
      "                   all         17         21      0.954      0.994      0.995      0.635\n"
     ]
    },
    {
     "name": "stderr",
     "output_type": "stream",
     "text": [
      "\n"
     ]
    },
    {
     "name": "stdout",
     "output_type": "stream",
     "text": [
      "\n",
      "      Epoch    GPU_mem   box_loss   cls_loss   dfl_loss  Instances       Size\n"
     ]
    },
    {
     "name": "stderr",
     "output_type": "stream",
     "text": [
      "     40/100         0G     0.8911     0.9437      1.031         11        640: 100%|██████████| 7/7 [00:20<00:00,  2.87\n",
      "                 Class     Images  Instances      Box(P          R      mAP50  mAP50-95): 100%|██████████| 2/2 [00:02<0"
     ]
    },
    {
     "name": "stdout",
     "output_type": "stream",
     "text": [
      "                   all         17         21      0.951      0.994      0.995      0.636\n"
     ]
    },
    {
     "name": "stderr",
     "output_type": "stream",
     "text": [
      "\n"
     ]
    },
    {
     "name": "stdout",
     "output_type": "stream",
     "text": [
      "\n",
      "      Epoch    GPU_mem   box_loss   cls_loss   dfl_loss  Instances       Size\n"
     ]
    },
    {
     "name": "stderr",
     "output_type": "stream",
     "text": [
      "     41/100         0G     0.9817      0.984      1.083          8        640: 100%|██████████| 7/7 [00:20<00:00,  2.90\n",
      "                 Class     Images  Instances      Box(P          R      mAP50  mAP50-95): 100%|██████████| 2/2 [00:02<0"
     ]
    },
    {
     "name": "stdout",
     "output_type": "stream",
     "text": [
      "                   all         17         21      0.964      0.997      0.995      0.683\n"
     ]
    },
    {
     "name": "stderr",
     "output_type": "stream",
     "text": [
      "\n"
     ]
    },
    {
     "name": "stdout",
     "output_type": "stream",
     "text": [
      "\n",
      "      Epoch    GPU_mem   box_loss   cls_loss   dfl_loss  Instances       Size\n"
     ]
    },
    {
     "name": "stderr",
     "output_type": "stream",
     "text": [
      "     42/100         0G     0.9909     0.9485      1.078         16        640: 100%|██████████| 7/7 [00:20<00:00,  2.87\n",
      "                 Class     Images  Instances      Box(P          R      mAP50  mAP50-95): 100%|██████████| 2/2 [00:02<0"
     ]
    },
    {
     "name": "stdout",
     "output_type": "stream",
     "text": [
      "                   all         17         21      0.968      0.999      0.995        0.7\n"
     ]
    },
    {
     "name": "stderr",
     "output_type": "stream",
     "text": [
      "\n"
     ]
    },
    {
     "name": "stdout",
     "output_type": "stream",
     "text": [
      "\n",
      "      Epoch    GPU_mem   box_loss   cls_loss   dfl_loss  Instances       Size\n"
     ]
    },
    {
     "name": "stderr",
     "output_type": "stream",
     "text": [
      "     43/100         0G     0.8816      0.905      1.008         13        640: 100%|██████████| 7/7 [00:20<00:00,  2.88\n",
      "                 Class     Images  Instances      Box(P          R      mAP50  mAP50-95): 100%|██████████| 2/2 [00:02<0"
     ]
    },
    {
     "name": "stdout",
     "output_type": "stream",
     "text": [
      "                   all         17         21      0.976      0.991      0.995      0.691\n"
     ]
    },
    {
     "name": "stderr",
     "output_type": "stream",
     "text": [
      "\n"
     ]
    },
    {
     "name": "stdout",
     "output_type": "stream",
     "text": [
      "\n",
      "      Epoch    GPU_mem   box_loss   cls_loss   dfl_loss  Instances       Size\n"
     ]
    },
    {
     "name": "stderr",
     "output_type": "stream",
     "text": [
      "     44/100         0G      1.025      1.039      1.127         10        640: 100%|██████████| 7/7 [00:20<00:00,  2.90\n",
      "                 Class     Images  Instances      Box(P          R      mAP50  mAP50-95): 100%|██████████| 2/2 [00:02<0"
     ]
    },
    {
     "name": "stdout",
     "output_type": "stream",
     "text": [
      "                   all         17         21      0.976      0.995      0.995      0.677\n"
     ]
    },
    {
     "name": "stderr",
     "output_type": "stream",
     "text": [
      "\n"
     ]
    },
    {
     "name": "stdout",
     "output_type": "stream",
     "text": [
      "\n",
      "      Epoch    GPU_mem   box_loss   cls_loss   dfl_loss  Instances       Size\n"
     ]
    },
    {
     "name": "stderr",
     "output_type": "stream",
     "text": [
      "     45/100         0G     0.9301     0.9022      1.077         10        640: 100%|██████████| 7/7 [00:20<00:00,  2.90\n",
      "                 Class     Images  Instances      Box(P          R      mAP50  mAP50-95): 100%|██████████| 2/2 [00:02<0"
     ]
    },
    {
     "name": "stdout",
     "output_type": "stream",
     "text": [
      "                   all         17         21      0.968      0.998      0.995      0.631\n"
     ]
    },
    {
     "name": "stderr",
     "output_type": "stream",
     "text": [
      "\n"
     ]
    },
    {
     "name": "stdout",
     "output_type": "stream",
     "text": [
      "\n",
      "      Epoch    GPU_mem   box_loss   cls_loss   dfl_loss  Instances       Size\n"
     ]
    },
    {
     "name": "stderr",
     "output_type": "stream",
     "text": [
      "     46/100         0G     0.9756     0.9526      1.102         13        640: 100%|██████████| 7/7 [00:20<00:00,  2.90\n",
      "                 Class     Images  Instances      Box(P          R      mAP50  mAP50-95): 100%|██████████| 2/2 [00:02<0"
     ]
    },
    {
     "name": "stdout",
     "output_type": "stream",
     "text": [
      "                   all         17         21      0.968      0.998      0.995      0.631\n"
     ]
    },
    {
     "name": "stderr",
     "output_type": "stream",
     "text": [
      "\n"
     ]
    },
    {
     "name": "stdout",
     "output_type": "stream",
     "text": [
      "\n",
      "      Epoch    GPU_mem   box_loss   cls_loss   dfl_loss  Instances       Size\n"
     ]
    },
    {
     "name": "stderr",
     "output_type": "stream",
     "text": [
      "     47/100         0G      0.987     0.9782      1.073         10        640: 100%|██████████| 7/7 [00:20<00:00,  2.87\n",
      "                 Class     Images  Instances      Box(P          R      mAP50  mAP50-95): 100%|██████████| 2/2 [00:02<0"
     ]
    },
    {
     "name": "stdout",
     "output_type": "stream",
     "text": [
      "                   all         17         21      0.962      0.999      0.995      0.608\n"
     ]
    },
    {
     "name": "stderr",
     "output_type": "stream",
     "text": [
      "\n"
     ]
    },
    {
     "name": "stdout",
     "output_type": "stream",
     "text": [
      "\n",
      "      Epoch    GPU_mem   box_loss   cls_loss   dfl_loss  Instances       Size\n"
     ]
    },
    {
     "name": "stderr",
     "output_type": "stream",
     "text": [
      "     48/100         0G     0.8954     0.8741      1.034         13        640: 100%|██████████| 7/7 [00:20<00:00,  2.87\n",
      "                 Class     Images  Instances      Box(P          R      mAP50  mAP50-95): 100%|██████████| 2/2 [00:02<0"
     ]
    },
    {
     "name": "stdout",
     "output_type": "stream",
     "text": [
      "                   all         17         21       0.96          1      0.994      0.596\n"
     ]
    },
    {
     "name": "stderr",
     "output_type": "stream",
     "text": [
      "\n"
     ]
    },
    {
     "name": "stdout",
     "output_type": "stream",
     "text": [
      "\n",
      "      Epoch    GPU_mem   box_loss   cls_loss   dfl_loss  Instances       Size\n"
     ]
    },
    {
     "name": "stderr",
     "output_type": "stream",
     "text": [
      "     49/100         0G     0.8956     0.8501      1.054         12        640: 100%|██████████| 7/7 [00:20<00:00,  2.89\n",
      "                 Class     Images  Instances      Box(P          R      mAP50  mAP50-95): 100%|██████████| 2/2 [00:01<0"
     ]
    },
    {
     "name": "stdout",
     "output_type": "stream",
     "text": [
      "                   all         17         21      0.963          1      0.994      0.608\n"
     ]
    },
    {
     "name": "stderr",
     "output_type": "stream",
     "text": [
      "\n"
     ]
    },
    {
     "name": "stdout",
     "output_type": "stream",
     "text": [
      "\n",
      "      Epoch    GPU_mem   box_loss   cls_loss   dfl_loss  Instances       Size\n"
     ]
    },
    {
     "name": "stderr",
     "output_type": "stream",
     "text": [
      "     50/100         0G     0.9195     0.8598      1.057         18        640: 100%|██████████| 7/7 [00:20<00:00,  2.88\n",
      "                 Class     Images  Instances      Box(P          R      mAP50  mAP50-95): 100%|██████████| 2/2 [00:01<0"
     ]
    },
    {
     "name": "stdout",
     "output_type": "stream",
     "text": [
      "                   all         17         21      0.965          1      0.994       0.63\n"
     ]
    },
    {
     "name": "stderr",
     "output_type": "stream",
     "text": [
      "\n"
     ]
    },
    {
     "name": "stdout",
     "output_type": "stream",
     "text": [
      "\n",
      "      Epoch    GPU_mem   box_loss   cls_loss   dfl_loss  Instances       Size\n"
     ]
    },
    {
     "name": "stderr",
     "output_type": "stream",
     "text": [
      "     51/100         0G     0.8653     0.8223      1.011         16        640: 100%|██████████| 7/7 [00:20<00:00,  2.89\n",
      "                 Class     Images  Instances      Box(P          R      mAP50  mAP50-95): 100%|██████████| 2/2 [00:02<0"
     ]
    },
    {
     "name": "stdout",
     "output_type": "stream",
     "text": [
      "                   all         17         21      0.973          1      0.995      0.637\n"
     ]
    },
    {
     "name": "stderr",
     "output_type": "stream",
     "text": [
      "\n"
     ]
    },
    {
     "name": "stdout",
     "output_type": "stream",
     "text": [
      "\n",
      "      Epoch    GPU_mem   box_loss   cls_loss   dfl_loss  Instances       Size\n"
     ]
    },
    {
     "name": "stderr",
     "output_type": "stream",
     "text": [
      "     52/100         0G     0.8213     0.8437      1.054         17        640: 100%|██████████| 7/7 [00:20<00:00,  3.00\n",
      "                 Class     Images  Instances      Box(P          R      mAP50  mAP50-95): 100%|██████████| 2/2 [00:02<0"
     ]
    },
    {
     "name": "stdout",
     "output_type": "stream",
     "text": [
      "                   all         17         21      0.994      0.995      0.995      0.646\n"
     ]
    },
    {
     "name": "stderr",
     "output_type": "stream",
     "text": [
      "\n"
     ]
    },
    {
     "name": "stdout",
     "output_type": "stream",
     "text": [
      "\n",
      "      Epoch    GPU_mem   box_loss   cls_loss   dfl_loss  Instances       Size\n"
     ]
    },
    {
     "name": "stderr",
     "output_type": "stream",
     "text": [
      "     53/100         0G     0.9273     0.8828      1.084          8        640: 100%|██████████| 7/7 [00:20<00:00,  2.88\n",
      "                 Class     Images  Instances      Box(P          R      mAP50  mAP50-95): 100%|██████████| 2/2 [00:01<0"
     ]
    },
    {
     "name": "stdout",
     "output_type": "stream",
     "text": [
      "                   all         17         21      0.992      0.991      0.995      0.666\n"
     ]
    },
    {
     "name": "stderr",
     "output_type": "stream",
     "text": [
      "\n"
     ]
    },
    {
     "name": "stdout",
     "output_type": "stream",
     "text": [
      "\n",
      "      Epoch    GPU_mem   box_loss   cls_loss   dfl_loss  Instances       Size\n"
     ]
    },
    {
     "name": "stderr",
     "output_type": "stream",
     "text": [
      "     54/100         0G     0.9049     0.8053      1.039         11        640: 100%|██████████| 7/7 [00:20<00:00,  2.88\n",
      "                 Class     Images  Instances      Box(P          R      mAP50  mAP50-95): 100%|██████████| 2/2 [00:01<0"
     ]
    },
    {
     "name": "stdout",
     "output_type": "stream",
     "text": [
      "                   all         17         21      0.992      0.991      0.995      0.666\n"
     ]
    },
    {
     "name": "stderr",
     "output_type": "stream",
     "text": [
      "\n"
     ]
    },
    {
     "name": "stdout",
     "output_type": "stream",
     "text": [
      "\n",
      "      Epoch    GPU_mem   box_loss   cls_loss   dfl_loss  Instances       Size\n"
     ]
    },
    {
     "name": "stderr",
     "output_type": "stream",
     "text": [
      "     55/100         0G     0.9094     0.9189      1.048         16        640: 100%|██████████| 7/7 [00:20<00:00,  2.88\n",
      "                 Class     Images  Instances      Box(P          R      mAP50  mAP50-95): 100%|██████████| 2/2 [00:01<0"
     ]
    },
    {
     "name": "stdout",
     "output_type": "stream",
     "text": [
      "                   all         17         21      0.995          1      0.995      0.665\n"
     ]
    },
    {
     "name": "stderr",
     "output_type": "stream",
     "text": [
      "\n"
     ]
    },
    {
     "name": "stdout",
     "output_type": "stream",
     "text": [
      "\n",
      "      Epoch    GPU_mem   box_loss   cls_loss   dfl_loss  Instances       Size\n"
     ]
    },
    {
     "name": "stderr",
     "output_type": "stream",
     "text": [
      "     56/100         0G     0.8697     0.8531      1.045         13        640: 100%|██████████| 7/7 [00:20<00:00,  2.89\n",
      "                 Class     Images  Instances      Box(P          R      mAP50  mAP50-95): 100%|██████████| 2/2 [00:01<0"
     ]
    },
    {
     "name": "stdout",
     "output_type": "stream",
     "text": [
      "                   all         17         21      0.986      0.997      0.995      0.643\n"
     ]
    },
    {
     "name": "stderr",
     "output_type": "stream",
     "text": [
      "\n"
     ]
    },
    {
     "name": "stdout",
     "output_type": "stream",
     "text": [
      "\n",
      "      Epoch    GPU_mem   box_loss   cls_loss   dfl_loss  Instances       Size\n"
     ]
    },
    {
     "name": "stderr",
     "output_type": "stream",
     "text": [
      "     57/100         0G     0.9033     0.8319      1.033         18        640: 100%|██████████| 7/7 [00:20<00:00,  2.96\n",
      "                 Class     Images  Instances      Box(P          R      mAP50  mAP50-95): 100%|██████████| 2/2 [00:01<0"
     ]
    },
    {
     "name": "stdout",
     "output_type": "stream",
     "text": [
      "                   all         17         21      0.976      0.997      0.995      0.638\n"
     ]
    },
    {
     "name": "stderr",
     "output_type": "stream",
     "text": [
      "\n"
     ]
    },
    {
     "name": "stdout",
     "output_type": "stream",
     "text": [
      "\n",
      "      Epoch    GPU_mem   box_loss   cls_loss   dfl_loss  Instances       Size\n"
     ]
    },
    {
     "name": "stderr",
     "output_type": "stream",
     "text": [
      "     58/100         0G     0.9671     0.9209      1.119          9        640: 100%|██████████| 7/7 [00:20<00:00,  2.89\n",
      "                 Class     Images  Instances      Box(P          R      mAP50  mAP50-95): 100%|██████████| 2/2 [00:02<0"
     ]
    },
    {
     "name": "stdout",
     "output_type": "stream",
     "text": [
      "                   all         17         21      0.967          1      0.995      0.669\n"
     ]
    },
    {
     "name": "stderr",
     "output_type": "stream",
     "text": [
      "\n"
     ]
    },
    {
     "name": "stdout",
     "output_type": "stream",
     "text": [
      "\n",
      "      Epoch    GPU_mem   box_loss   cls_loss   dfl_loss  Instances       Size\n"
     ]
    },
    {
     "name": "stderr",
     "output_type": "stream",
     "text": [
      "     59/100         0G     0.8825     0.8104      1.022         17        640: 100%|██████████| 7/7 [00:20<00:00,  2.89\n",
      "                 Class     Images  Instances      Box(P          R      mAP50  mAP50-95): 100%|██████████| 2/2 [00:01<0"
     ]
    },
    {
     "name": "stdout",
     "output_type": "stream",
     "text": [
      "                   all         17         21      0.965          1      0.995      0.672\n"
     ]
    },
    {
     "name": "stderr",
     "output_type": "stream",
     "text": [
      "\n"
     ]
    },
    {
     "name": "stdout",
     "output_type": "stream",
     "text": [
      "\n",
      "      Epoch    GPU_mem   box_loss   cls_loss   dfl_loss  Instances       Size\n"
     ]
    },
    {
     "name": "stderr",
     "output_type": "stream",
     "text": [
      "     60/100         0G     0.8599     0.7993      1.036         11        640: 100%|██████████| 7/7 [00:20<00:00,  2.88\n",
      "                 Class     Images  Instances      Box(P          R      mAP50  mAP50-95): 100%|██████████| 2/2 [00:01<0"
     ]
    },
    {
     "name": "stdout",
     "output_type": "stream",
     "text": [
      "                   all         17         21      0.964          1      0.995      0.677\n"
     ]
    },
    {
     "name": "stderr",
     "output_type": "stream",
     "text": [
      "\n"
     ]
    },
    {
     "name": "stdout",
     "output_type": "stream",
     "text": [
      "\n",
      "      Epoch    GPU_mem   box_loss   cls_loss   dfl_loss  Instances       Size\n"
     ]
    },
    {
     "name": "stderr",
     "output_type": "stream",
     "text": [
      "     61/100         0G     0.9189      0.849      1.119         10        640: 100%|██████████| 7/7 [00:20<00:00,  2.88\n",
      "                 Class     Images  Instances      Box(P          R      mAP50  mAP50-95): 100%|██████████| 2/2 [00:01<0"
     ]
    },
    {
     "name": "stdout",
     "output_type": "stream",
     "text": [
      "                   all         17         21      0.965          1      0.995      0.675\n"
     ]
    },
    {
     "name": "stderr",
     "output_type": "stream",
     "text": [
      "\n"
     ]
    },
    {
     "name": "stdout",
     "output_type": "stream",
     "text": [
      "\n",
      "      Epoch    GPU_mem   box_loss   cls_loss   dfl_loss  Instances       Size\n"
     ]
    },
    {
     "name": "stderr",
     "output_type": "stream",
     "text": [
      "     62/100         0G     0.7958     0.8614      1.019          6        640: 100%|██████████| 7/7 [00:20<00:00,  2.87\n",
      "                 Class     Images  Instances      Box(P          R      mAP50  mAP50-95): 100%|██████████| 2/2 [00:01<0"
     ]
    },
    {
     "name": "stdout",
     "output_type": "stream",
     "text": [
      "                   all         17         21      0.965          1      0.995      0.675\n"
     ]
    },
    {
     "name": "stderr",
     "output_type": "stream",
     "text": [
      "\n"
     ]
    },
    {
     "name": "stdout",
     "output_type": "stream",
     "text": [
      "\n",
      "      Epoch    GPU_mem   box_loss   cls_loss   dfl_loss  Instances       Size\n"
     ]
    },
    {
     "name": "stderr",
     "output_type": "stream",
     "text": [
      "     63/100         0G     0.8176     0.7695      1.013         14        640: 100%|██████████| 7/7 [00:20<00:00,  2.87\n",
      "                 Class     Images  Instances      Box(P          R      mAP50  mAP50-95): 100%|██████████| 2/2 [00:01<0"
     ]
    },
    {
     "name": "stdout",
     "output_type": "stream",
     "text": [
      "                   all         17         21      0.967          1      0.995      0.663\n"
     ]
    },
    {
     "name": "stderr",
     "output_type": "stream",
     "text": [
      "\n"
     ]
    },
    {
     "name": "stdout",
     "output_type": "stream",
     "text": [
      "\n",
      "      Epoch    GPU_mem   box_loss   cls_loss   dfl_loss  Instances       Size\n"
     ]
    },
    {
     "name": "stderr",
     "output_type": "stream",
     "text": [
      "     64/100         0G     0.8492      0.795      1.043         13        640: 100%|██████████| 7/7 [00:20<00:00,  2.88\n",
      "                 Class     Images  Instances      Box(P          R      mAP50  mAP50-95): 100%|██████████| 2/2 [00:01<0"
     ]
    },
    {
     "name": "stdout",
     "output_type": "stream",
     "text": [
      "                   all         17         21      0.976          1      0.995      0.671\n"
     ]
    },
    {
     "name": "stderr",
     "output_type": "stream",
     "text": [
      "\n"
     ]
    },
    {
     "name": "stdout",
     "output_type": "stream",
     "text": [
      "\n",
      "      Epoch    GPU_mem   box_loss   cls_loss   dfl_loss  Instances       Size\n"
     ]
    },
    {
     "name": "stderr",
     "output_type": "stream",
     "text": [
      "     65/100         0G     0.9051      0.787      1.033         14        640: 100%|██████████| 7/7 [00:20<00:00,  2.90\n",
      "                 Class     Images  Instances      Box(P          R      mAP50  mAP50-95): 100%|██████████| 2/2 [00:01<0"
     ]
    },
    {
     "name": "stdout",
     "output_type": "stream",
     "text": [
      "                   all         17         21      0.975          1      0.995      0.667\n"
     ]
    },
    {
     "name": "stderr",
     "output_type": "stream",
     "text": [
      "\n"
     ]
    },
    {
     "name": "stdout",
     "output_type": "stream",
     "text": [
      "\n",
      "      Epoch    GPU_mem   box_loss   cls_loss   dfl_loss  Instances       Size\n"
     ]
    },
    {
     "name": "stderr",
     "output_type": "stream",
     "text": [
      "     66/100         0G     0.9365     0.9336      1.114         11        640: 100%|██████████| 7/7 [00:20<00:00,  2.88\n",
      "                 Class     Images  Instances      Box(P          R      mAP50  mAP50-95): 100%|██████████| 2/2 [00:01<0"
     ]
    },
    {
     "name": "stdout",
     "output_type": "stream",
     "text": [
      "                   all         17         21      0.973          1      0.995      0.669\n"
     ]
    },
    {
     "name": "stderr",
     "output_type": "stream",
     "text": [
      "\n"
     ]
    },
    {
     "name": "stdout",
     "output_type": "stream",
     "text": [
      "\n",
      "      Epoch    GPU_mem   box_loss   cls_loss   dfl_loss  Instances       Size\n"
     ]
    },
    {
     "name": "stderr",
     "output_type": "stream",
     "text": [
      "     67/100         0G     0.7989     0.7571      1.017         13        640: 100%|██████████| 7/7 [00:20<00:00,  2.91\n",
      "                 Class     Images  Instances      Box(P          R      mAP50  mAP50-95): 100%|██████████| 2/2 [00:01<0"
     ]
    },
    {
     "name": "stdout",
     "output_type": "stream",
     "text": [
      "                   all         17         21      0.975          1      0.995      0.678\n"
     ]
    },
    {
     "name": "stderr",
     "output_type": "stream",
     "text": [
      "\n"
     ]
    },
    {
     "name": "stdout",
     "output_type": "stream",
     "text": [
      "\n",
      "      Epoch    GPU_mem   box_loss   cls_loss   dfl_loss  Instances       Size\n"
     ]
    },
    {
     "name": "stderr",
     "output_type": "stream",
     "text": [
      "     68/100         0G       0.86     0.7483      1.015         11        640: 100%|██████████| 7/7 [00:20<00:00,  2.99\n",
      "                 Class     Images  Instances      Box(P          R      mAP50  mAP50-95): 100%|██████████| 2/2 [00:01<0"
     ]
    },
    {
     "name": "stdout",
     "output_type": "stream",
     "text": [
      "                   all         17         21       0.98          1      0.995      0.664\n"
     ]
    },
    {
     "name": "stderr",
     "output_type": "stream",
     "text": [
      "\n"
     ]
    },
    {
     "name": "stdout",
     "output_type": "stream",
     "text": [
      "\n",
      "      Epoch    GPU_mem   box_loss   cls_loss   dfl_loss  Instances       Size\n"
     ]
    },
    {
     "name": "stderr",
     "output_type": "stream",
     "text": [
      "     69/100         0G     0.7606     0.7322      1.012          9        640: 100%|██████████| 7/7 [00:20<00:00,  2.88\n",
      "                 Class     Images  Instances      Box(P          R      mAP50  mAP50-95): 100%|██████████| 2/2 [00:01<0"
     ]
    },
    {
     "name": "stdout",
     "output_type": "stream",
     "text": [
      "                   all         17         21      0.986          1      0.995      0.629\n"
     ]
    },
    {
     "name": "stderr",
     "output_type": "stream",
     "text": [
      "\n"
     ]
    },
    {
     "name": "stdout",
     "output_type": "stream",
     "text": [
      "\n",
      "      Epoch    GPU_mem   box_loss   cls_loss   dfl_loss  Instances       Size\n"
     ]
    },
    {
     "name": "stderr",
     "output_type": "stream",
     "text": [
      "     70/100         0G     0.8876     0.7475      1.029         15        640: 100%|██████████| 7/7 [00:20<00:00,  2.89\n",
      "                 Class     Images  Instances      Box(P          R      mAP50  mAP50-95): 100%|██████████| 2/2 [00:01<0"
     ]
    },
    {
     "name": "stdout",
     "output_type": "stream",
     "text": [
      "                   all         17         21      0.986          1      0.995      0.629\n"
     ]
    },
    {
     "name": "stderr",
     "output_type": "stream",
     "text": [
      "\n"
     ]
    },
    {
     "name": "stdout",
     "output_type": "stream",
     "text": [
      "\n",
      "      Epoch    GPU_mem   box_loss   cls_loss   dfl_loss  Instances       Size\n"
     ]
    },
    {
     "name": "stderr",
     "output_type": "stream",
     "text": [
      "     71/100         0G     0.7225     0.7193     0.9423          8        640: 100%|██████████| 7/7 [00:20<00:00,  2.88\n",
      "                 Class     Images  Instances      Box(P          R      mAP50  mAP50-95): 100%|██████████| 2/2 [00:01<0"
     ]
    },
    {
     "name": "stdout",
     "output_type": "stream",
     "text": [
      "                   all         17         21      0.986          1      0.995       0.64\n"
     ]
    },
    {
     "name": "stderr",
     "output_type": "stream",
     "text": [
      "\n"
     ]
    },
    {
     "name": "stdout",
     "output_type": "stream",
     "text": [
      "\n",
      "      Epoch    GPU_mem   box_loss   cls_loss   dfl_loss  Instances       Size\n"
     ]
    },
    {
     "name": "stderr",
     "output_type": "stream",
     "text": [
      "     72/100         0G     0.7896     0.7875      1.028          8        640: 100%|██████████| 7/7 [00:20<00:00,  2.90\n",
      "                 Class     Images  Instances      Box(P          R      mAP50  mAP50-95): 100%|██████████| 2/2 [00:01<0"
     ]
    },
    {
     "name": "stdout",
     "output_type": "stream",
     "text": [
      "                   all         17         21      0.984          1      0.995      0.647\n"
     ]
    },
    {
     "name": "stderr",
     "output_type": "stream",
     "text": [
      "\n"
     ]
    },
    {
     "name": "stdout",
     "output_type": "stream",
     "text": [
      "\n",
      "      Epoch    GPU_mem   box_loss   cls_loss   dfl_loss  Instances       Size\n"
     ]
    },
    {
     "name": "stderr",
     "output_type": "stream",
     "text": [
      "     73/100         0G     0.8407     0.7486      1.043         15        640: 100%|██████████| 7/7 [00:20<00:00,  2.90\n",
      "                 Class     Images  Instances      Box(P          R      mAP50  mAP50-95): 100%|██████████| 2/2 [00:01<0"
     ]
    },
    {
     "name": "stdout",
     "output_type": "stream",
     "text": [
      "                   all         17         21      0.973          1      0.995      0.662\n"
     ]
    },
    {
     "name": "stderr",
     "output_type": "stream",
     "text": [
      "\n"
     ]
    },
    {
     "name": "stdout",
     "output_type": "stream",
     "text": [
      "\n",
      "      Epoch    GPU_mem   box_loss   cls_loss   dfl_loss  Instances       Size\n"
     ]
    },
    {
     "name": "stderr",
     "output_type": "stream",
     "text": [
      "     74/100         0G     0.8271     0.6986      1.002         17        640: 100%|██████████| 7/7 [00:20<00:00,  2.90\n",
      "                 Class     Images  Instances      Box(P          R      mAP50  mAP50-95): 100%|██████████| 2/2 [00:01<0"
     ]
    },
    {
     "name": "stdout",
     "output_type": "stream",
     "text": [
      "                   all         17         21      0.963          1      0.995      0.629\n"
     ]
    },
    {
     "name": "stderr",
     "output_type": "stream",
     "text": [
      "\n"
     ]
    },
    {
     "name": "stdout",
     "output_type": "stream",
     "text": [
      "\n",
      "      Epoch    GPU_mem   box_loss   cls_loss   dfl_loss  Instances       Size\n"
     ]
    },
    {
     "name": "stderr",
     "output_type": "stream",
     "text": [
      "     75/100         0G     0.7735     0.7246     0.9477         11        640: 100%|██████████| 7/7 [00:20<00:00,  2.88\n",
      "                 Class     Images  Instances      Box(P          R      mAP50  mAP50-95): 100%|██████████| 2/2 [00:01<0"
     ]
    },
    {
     "name": "stdout",
     "output_type": "stream",
     "text": [
      "                   all         17         21       0.98          1      0.995      0.623\n"
     ]
    },
    {
     "name": "stderr",
     "output_type": "stream",
     "text": [
      "\n"
     ]
    },
    {
     "name": "stdout",
     "output_type": "stream",
     "text": [
      "\n",
      "      Epoch    GPU_mem   box_loss   cls_loss   dfl_loss  Instances       Size\n"
     ]
    },
    {
     "name": "stderr",
     "output_type": "stream",
     "text": [
      "     76/100         0G      0.793     0.6933     0.9538         16        640: 100%|██████████| 7/7 [00:20<00:00,  2.89\n",
      "                 Class     Images  Instances      Box(P          R      mAP50  mAP50-95): 100%|██████████| 2/2 [00:01<0"
     ]
    },
    {
     "name": "stdout",
     "output_type": "stream",
     "text": [
      "                   all         17         21      0.983          1      0.995      0.622\n"
     ]
    },
    {
     "name": "stderr",
     "output_type": "stream",
     "text": [
      "\n"
     ]
    },
    {
     "name": "stdout",
     "output_type": "stream",
     "text": [
      "\n",
      "      Epoch    GPU_mem   box_loss   cls_loss   dfl_loss  Instances       Size\n"
     ]
    },
    {
     "name": "stderr",
     "output_type": "stream",
     "text": [
      "     77/100         0G     0.7788     0.6604     0.9651         19        640: 100%|██████████| 7/7 [00:20<00:00,  2.88\n",
      "                 Class     Images  Instances      Box(P          R      mAP50  mAP50-95): 100%|██████████| 2/2 [00:01<0"
     ]
    },
    {
     "name": "stdout",
     "output_type": "stream",
     "text": [
      "                   all         17         21      0.986          1      0.995      0.615\n"
     ]
    },
    {
     "name": "stderr",
     "output_type": "stream",
     "text": [
      "\n"
     ]
    },
    {
     "name": "stdout",
     "output_type": "stream",
     "text": [
      "\n",
      "      Epoch    GPU_mem   box_loss   cls_loss   dfl_loss  Instances       Size\n"
     ]
    },
    {
     "name": "stderr",
     "output_type": "stream",
     "text": [
      "     78/100         0G     0.7652     0.7285     0.9954         18        640: 100%|██████████| 7/7 [00:20<00:00,  2.89\n",
      "                 Class     Images  Instances      Box(P          R      mAP50  mAP50-95): 100%|██████████| 2/2 [00:01<0"
     ]
    },
    {
     "name": "stdout",
     "output_type": "stream",
     "text": [
      "                   all         17         21      0.986          1      0.995      0.615\n"
     ]
    },
    {
     "name": "stderr",
     "output_type": "stream",
     "text": [
      "\n"
     ]
    },
    {
     "name": "stdout",
     "output_type": "stream",
     "text": [
      "\n",
      "      Epoch    GPU_mem   box_loss   cls_loss   dfl_loss  Instances       Size\n"
     ]
    },
    {
     "name": "stderr",
     "output_type": "stream",
     "text": [
      "     79/100         0G     0.7843     0.7366      1.009         15        640: 100%|██████████| 7/7 [00:20<00:00,  2.87\n",
      "                 Class     Images  Instances      Box(P          R      mAP50  mAP50-95): 100%|██████████| 2/2 [00:01<0"
     ]
    },
    {
     "name": "stdout",
     "output_type": "stream",
     "text": [
      "                   all         17         21      0.989          1      0.995      0.599\n"
     ]
    },
    {
     "name": "stderr",
     "output_type": "stream",
     "text": [
      "\n"
     ]
    },
    {
     "name": "stdout",
     "output_type": "stream",
     "text": [
      "\n",
      "      Epoch    GPU_mem   box_loss   cls_loss   dfl_loss  Instances       Size\n"
     ]
    },
    {
     "name": "stderr",
     "output_type": "stream",
     "text": [
      "     80/100         0G     0.7507     0.6916     0.9953         13        640: 100%|██████████| 7/7 [00:20<00:00,  2.88\n",
      "                 Class     Images  Instances      Box(P          R      mAP50  mAP50-95): 100%|██████████| 2/2 [00:01<0"
     ]
    },
    {
     "name": "stdout",
     "output_type": "stream",
     "text": [
      "                   all         17         21      0.997      0.997      0.995      0.601\n"
     ]
    },
    {
     "name": "stderr",
     "output_type": "stream",
     "text": [
      "\n"
     ]
    },
    {
     "name": "stdout",
     "output_type": "stream",
     "text": [
      "\n",
      "      Epoch    GPU_mem   box_loss   cls_loss   dfl_loss  Instances       Size\n"
     ]
    },
    {
     "name": "stderr",
     "output_type": "stream",
     "text": [
      "     81/100         0G     0.7925     0.7102     0.9775         11        640: 100%|██████████| 7/7 [00:20<00:00,  2.90\n",
      "                 Class     Images  Instances      Box(P          R      mAP50  mAP50-95): 100%|██████████| 2/2 [00:01<0"
     ]
    },
    {
     "name": "stdout",
     "output_type": "stream",
     "text": [
      "                   all         17         21      0.995          1      0.995      0.642\n"
     ]
    },
    {
     "name": "stderr",
     "output_type": "stream",
     "text": [
      "\n"
     ]
    },
    {
     "name": "stdout",
     "output_type": "stream",
     "text": [
      "\n",
      "      Epoch    GPU_mem   box_loss   cls_loss   dfl_loss  Instances       Size\n"
     ]
    },
    {
     "name": "stderr",
     "output_type": "stream",
     "text": [
      "     82/100         0G     0.8075     0.7299       1.03         11        640: 100%|██████████| 7/7 [00:20<00:00,  2.89\n",
      "                 Class     Images  Instances      Box(P          R      mAP50  mAP50-95): 100%|██████████| 2/2 [00:01<0"
     ]
    },
    {
     "name": "stdout",
     "output_type": "stream",
     "text": [
      "                   all         17         21      0.991          1      0.995      0.641\n"
     ]
    },
    {
     "name": "stderr",
     "output_type": "stream",
     "text": [
      "\n"
     ]
    },
    {
     "name": "stdout",
     "output_type": "stream",
     "text": [
      "\n",
      "      Epoch    GPU_mem   box_loss   cls_loss   dfl_loss  Instances       Size\n"
     ]
    },
    {
     "name": "stderr",
     "output_type": "stream",
     "text": [
      "     83/100         0G      0.721     0.6755          1          9        640: 100%|██████████| 7/7 [00:20<00:00,  2.89\n",
      "                 Class     Images  Instances      Box(P          R      mAP50  mAP50-95): 100%|██████████| 2/2 [00:01<0"
     ]
    },
    {
     "name": "stdout",
     "output_type": "stream",
     "text": [
      "                   all         17         21      0.994          1      0.995      0.649\n"
     ]
    },
    {
     "name": "stderr",
     "output_type": "stream",
     "text": [
      "\n"
     ]
    },
    {
     "name": "stdout",
     "output_type": "stream",
     "text": [
      "\n",
      "      Epoch    GPU_mem   box_loss   cls_loss   dfl_loss  Instances       Size\n"
     ]
    },
    {
     "name": "stderr",
     "output_type": "stream",
     "text": [
      "     84/100         0G     0.7489     0.6304     0.9619         17        640: 100%|██████████| 7/7 [00:20<00:00,  2.88\n",
      "                 Class     Images  Instances      Box(P          R      mAP50  mAP50-95): 100%|██████████| 2/2 [00:01<0"
     ]
    },
    {
     "name": "stdout",
     "output_type": "stream",
     "text": [
      "                   all         17         21      0.994      0.997      0.995      0.654\n"
     ]
    },
    {
     "name": "stderr",
     "output_type": "stream",
     "text": [
      "\n"
     ]
    },
    {
     "name": "stdout",
     "output_type": "stream",
     "text": [
      "\n",
      "      Epoch    GPU_mem   box_loss   cls_loss   dfl_loss  Instances       Size\n"
     ]
    },
    {
     "name": "stderr",
     "output_type": "stream",
     "text": [
      "     85/100         0G     0.7443     0.6358     0.9496         14        640: 100%|██████████| 7/7 [00:20<00:00,  2.87\n",
      "                 Class     Images  Instances      Box(P          R      mAP50  mAP50-95): 100%|██████████| 2/2 [00:01<0"
     ]
    },
    {
     "name": "stdout",
     "output_type": "stream",
     "text": [
      "                   all         17         21      0.994      0.997      0.995      0.641\n"
     ]
    },
    {
     "name": "stderr",
     "output_type": "stream",
     "text": [
      "\n"
     ]
    },
    {
     "name": "stdout",
     "output_type": "stream",
     "text": [
      "\n",
      "      Epoch    GPU_mem   box_loss   cls_loss   dfl_loss  Instances       Size\n"
     ]
    },
    {
     "name": "stderr",
     "output_type": "stream",
     "text": [
      "     86/100         0G     0.8118      0.705      1.015         11        640: 100%|██████████| 7/7 [00:20<00:00,  2.88\n",
      "                 Class     Images  Instances      Box(P          R      mAP50  mAP50-95): 100%|██████████| 2/2 [00:01<0"
     ]
    },
    {
     "name": "stdout",
     "output_type": "stream",
     "text": [
      "                   all         17         21      0.994      0.997      0.995      0.641\n"
     ]
    },
    {
     "name": "stderr",
     "output_type": "stream",
     "text": [
      "\n"
     ]
    },
    {
     "name": "stdout",
     "output_type": "stream",
     "text": [
      "\n",
      "      Epoch    GPU_mem   box_loss   cls_loss   dfl_loss  Instances       Size\n"
     ]
    },
    {
     "name": "stderr",
     "output_type": "stream",
     "text": [
      "     87/100         0G     0.8286     0.6692     0.9934         13        640: 100%|██████████| 7/7 [00:20<00:00,  2.86\n",
      "                 Class     Images  Instances      Box(P          R      mAP50  mAP50-95): 100%|██████████| 2/2 [00:01<0"
     ]
    },
    {
     "name": "stdout",
     "output_type": "stream",
     "text": [
      "                   all         17         21      0.995      0.999      0.995      0.649\n"
     ]
    },
    {
     "name": "stderr",
     "output_type": "stream",
     "text": [
      "\n"
     ]
    },
    {
     "name": "stdout",
     "output_type": "stream",
     "text": [
      "\n",
      "      Epoch    GPU_mem   box_loss   cls_loss   dfl_loss  Instances       Size\n"
     ]
    },
    {
     "name": "stderr",
     "output_type": "stream",
     "text": [
      "     88/100         0G     0.7416     0.7037          1         10        640: 100%|██████████| 7/7 [00:20<00:00,  2.88\n",
      "                 Class     Images  Instances      Box(P          R      mAP50  mAP50-95): 100%|██████████| 2/2 [00:01<0"
     ]
    },
    {
     "name": "stdout",
     "output_type": "stream",
     "text": [
      "                   all         17         21      0.994      0.999      0.995      0.644\n"
     ]
    },
    {
     "name": "stderr",
     "output_type": "stream",
     "text": [
      "\n"
     ]
    },
    {
     "name": "stdout",
     "output_type": "stream",
     "text": [
      "\n",
      "      Epoch    GPU_mem   box_loss   cls_loss   dfl_loss  Instances       Size\n"
     ]
    },
    {
     "name": "stderr",
     "output_type": "stream",
     "text": [
      "     89/100         0G     0.7491     0.6567     0.9845         16        640: 100%|██████████| 7/7 [00:20<00:00,  2.91\n",
      "                 Class     Images  Instances      Box(P          R      mAP50  mAP50-95): 100%|██████████| 2/2 [00:01<0"
     ]
    },
    {
     "name": "stdout",
     "output_type": "stream",
     "text": [
      "                   all         17         21      0.995      0.999      0.995      0.638\n"
     ]
    },
    {
     "name": "stderr",
     "output_type": "stream",
     "text": [
      "\n"
     ]
    },
    {
     "name": "stdout",
     "output_type": "stream",
     "text": [
      "\n",
      "      Epoch    GPU_mem   box_loss   cls_loss   dfl_loss  Instances       Size\n"
     ]
    },
    {
     "name": "stderr",
     "output_type": "stream",
     "text": [
      "     90/100         0G     0.7031     0.6392     0.9311         14        640: 100%|██████████| 7/7 [00:20<00:00,  2.90\n",
      "                 Class     Images  Instances      Box(P          R      mAP50  mAP50-95): 100%|██████████| 2/2 [00:01<0"
     ]
    },
    {
     "name": "stdout",
     "output_type": "stream",
     "text": [
      "                   all         17         21      0.995          1      0.995      0.639\n"
     ]
    },
    {
     "name": "stderr",
     "output_type": "stream",
     "text": [
      "\n"
     ]
    },
    {
     "name": "stdout",
     "output_type": "stream",
     "text": [
      "Closing dataloader mosaic\n",
      "\n",
      "      Epoch    GPU_mem   box_loss   cls_loss   dfl_loss  Instances       Size\n"
     ]
    },
    {
     "name": "stderr",
     "output_type": "stream",
     "text": [
      "     91/100         0G      0.814     0.9038      1.024          6        640: 100%|██████████| 7/7 [00:19<00:00,  2.85\n",
      "                 Class     Images  Instances      Box(P          R      mAP50  mAP50-95): 100%|██████████| 2/2 [00:02<0"
     ]
    },
    {
     "name": "stdout",
     "output_type": "stream",
     "text": [
      "                   all         17         21      0.993      0.997      0.995      0.647\n"
     ]
    },
    {
     "name": "stderr",
     "output_type": "stream",
     "text": [
      "\n"
     ]
    },
    {
     "name": "stdout",
     "output_type": "stream",
     "text": [
      "\n",
      "      Epoch    GPU_mem   box_loss   cls_loss   dfl_loss  Instances       Size\n"
     ]
    },
    {
     "name": "stderr",
     "output_type": "stream",
     "text": [
      "     92/100         0G      0.832     0.8899      1.024          6        640: 100%|██████████| 7/7 [00:19<00:00,  2.82\n",
      "                 Class     Images  Instances      Box(P          R      mAP50  mAP50-95): 100%|██████████| 2/2 [00:01<0"
     ]
    },
    {
     "name": "stdout",
     "output_type": "stream",
     "text": [
      "                   all         17         21      0.993      0.991      0.995      0.637\n"
     ]
    },
    {
     "name": "stderr",
     "output_type": "stream",
     "text": [
      "\n"
     ]
    },
    {
     "name": "stdout",
     "output_type": "stream",
     "text": [
      "\n",
      "      Epoch    GPU_mem   box_loss   cls_loss   dfl_loss  Instances       Size\n"
     ]
    },
    {
     "name": "stderr",
     "output_type": "stream",
     "text": [
      "     93/100         0G     0.8382     0.8905      1.057          8        640: 100%|██████████| 7/7 [00:19<00:00,  2.83\n",
      "                 Class     Images  Instances      Box(P          R      mAP50  mAP50-95): 100%|██████████| 2/2 [00:01<0"
     ]
    },
    {
     "name": "stdout",
     "output_type": "stream",
     "text": [
      "                   all         17         21       0.99      0.997      0.995      0.623\n"
     ]
    },
    {
     "name": "stderr",
     "output_type": "stream",
     "text": [
      "\n"
     ]
    },
    {
     "name": "stdout",
     "output_type": "stream",
     "text": [
      "\n",
      "      Epoch    GPU_mem   box_loss   cls_loss   dfl_loss  Instances       Size\n"
     ]
    },
    {
     "name": "stderr",
     "output_type": "stream",
     "text": [
      "     94/100         0G     0.7961     0.7893      1.026          6        640: 100%|██████████| 7/7 [00:19<00:00,  2.84\n",
      "                 Class     Images  Instances      Box(P          R      mAP50  mAP50-95): 100%|██████████| 2/2 [00:01<0"
     ]
    },
    {
     "name": "stdout",
     "output_type": "stream",
     "text": [
      "                   all         17         21       0.99      0.997      0.995      0.623\n"
     ]
    },
    {
     "name": "stderr",
     "output_type": "stream",
     "text": [
      "\n"
     ]
    },
    {
     "name": "stdout",
     "output_type": "stream",
     "text": [
      "\n",
      "      Epoch    GPU_mem   box_loss   cls_loss   dfl_loss  Instances       Size\n"
     ]
    },
    {
     "name": "stderr",
     "output_type": "stream",
     "text": [
      "     95/100         0G     0.7893     0.8624     0.9796          6        640: 100%|██████████| 7/7 [00:19<00:00,  2.83\n",
      "                 Class     Images  Instances      Box(P          R      mAP50  mAP50-95): 100%|██████████| 2/2 [00:01<0"
     ]
    },
    {
     "name": "stdout",
     "output_type": "stream",
     "text": [
      "                   all         17         21      0.983          1      0.995       0.62\n"
     ]
    },
    {
     "name": "stderr",
     "output_type": "stream",
     "text": [
      "\n"
     ]
    },
    {
     "name": "stdout",
     "output_type": "stream",
     "text": [
      "\n",
      "      Epoch    GPU_mem   box_loss   cls_loss   dfl_loss  Instances       Size\n"
     ]
    },
    {
     "name": "stderr",
     "output_type": "stream",
     "text": [
      "     96/100         0G     0.7421     0.7605     0.9624          6        640: 100%|██████████| 7/7 [00:20<00:00,  2.86\n",
      "                 Class     Images  Instances      Box(P          R      mAP50  mAP50-95): 100%|██████████| 2/2 [00:01<0"
     ]
    },
    {
     "name": "stdout",
     "output_type": "stream",
     "text": [
      "                   all         17         21      0.987      0.994      0.995       0.61\n"
     ]
    },
    {
     "name": "stderr",
     "output_type": "stream",
     "text": [
      "\n"
     ]
    },
    {
     "name": "stdout",
     "output_type": "stream",
     "text": [
      "\n",
      "      Epoch    GPU_mem   box_loss   cls_loss   dfl_loss  Instances       Size\n"
     ]
    },
    {
     "name": "stderr",
     "output_type": "stream",
     "text": [
      "     97/100         0G     0.7118     0.7768     0.9617          8        640: 100%|██████████| 7/7 [00:20<00:00,  2.93\n",
      "                 Class     Images  Instances      Box(P          R      mAP50  mAP50-95): 100%|██████████| 2/2 [00:01<0"
     ]
    },
    {
     "name": "stdout",
     "output_type": "stream",
     "text": [
      "                   all         17         21      0.988      0.995      0.995      0.608\n"
     ]
    },
    {
     "name": "stderr",
     "output_type": "stream",
     "text": [
      "\n"
     ]
    },
    {
     "name": "stdout",
     "output_type": "stream",
     "text": [
      "\n",
      "      Epoch    GPU_mem   box_loss   cls_loss   dfl_loss  Instances       Size\n"
     ]
    },
    {
     "name": "stderr",
     "output_type": "stream",
     "text": [
      "     98/100         0G     0.6748     0.7872     0.9819          6        640: 100%|██████████| 7/7 [00:19<00:00,  2.85\n",
      "                 Class     Images  Instances      Box(P          R      mAP50  mAP50-95): 100%|██████████| 2/2 [00:01<0"
     ]
    },
    {
     "name": "stdout",
     "output_type": "stream",
     "text": [
      "                   all         17         21      0.987      0.997      0.995      0.574\n"
     ]
    },
    {
     "name": "stderr",
     "output_type": "stream",
     "text": [
      "\n"
     ]
    },
    {
     "name": "stdout",
     "output_type": "stream",
     "text": [
      "\n",
      "      Epoch    GPU_mem   box_loss   cls_loss   dfl_loss  Instances       Size\n"
     ]
    },
    {
     "name": "stderr",
     "output_type": "stream",
     "text": [
      "     99/100         0G     0.7257     0.8219     0.9938          8        640: 100%|██████████| 7/7 [00:20<00:00,  2.86\n",
      "                 Class     Images  Instances      Box(P          R      mAP50  mAP50-95): 100%|██████████| 2/2 [00:01<0"
     ]
    },
    {
     "name": "stdout",
     "output_type": "stream",
     "text": [
      "                   all         17         21      0.987      0.996      0.995      0.567\n"
     ]
    },
    {
     "name": "stderr",
     "output_type": "stream",
     "text": [
      "\n"
     ]
    },
    {
     "name": "stdout",
     "output_type": "stream",
     "text": [
      "\n",
      "      Epoch    GPU_mem   box_loss   cls_loss   dfl_loss  Instances       Size\n"
     ]
    },
    {
     "name": "stderr",
     "output_type": "stream",
     "text": [
      "    100/100         0G     0.7139     0.7974     0.9934          7        640: 100%|██████████| 7/7 [00:19<00:00,  2.84\n",
      "                 Class     Images  Instances      Box(P          R      mAP50  mAP50-95): 100%|██████████| 2/2 [00:01<0"
     ]
    },
    {
     "name": "stdout",
     "output_type": "stream",
     "text": [
      "                   all         17         21      0.985      0.997      0.995      0.561\n"
     ]
    },
    {
     "name": "stderr",
     "output_type": "stream",
     "text": [
      "\n"
     ]
    },
    {
     "name": "stdout",
     "output_type": "stream",
     "text": [
      "\n",
      "100 epochs completed in 0.634 hours.\n",
      "Optimizer stripped from runs\\detect\\train22\\weights\\last.pt, 6.2MB\n",
      "Optimizer stripped from runs\\detect\\train22\\weights\\best.pt, 6.2MB\n",
      "\n",
      "Validating runs\\detect\\train22\\weights\\best.pt...\n",
      "Ultralytics 8.3.70  Python-3.11.11 torch-2.6.0+cpu CPU (Intel Core(TM) i7-7600U 2.80GHz)\n",
      "Model summary (fused): 168 layers, 3,006,038 parameters, 0 gradients, 8.1 GFLOPs\n"
     ]
    },
    {
     "name": "stderr",
     "output_type": "stream",
     "text": [
      "                 Class     Images  Instances      Box(P          R      mAP50  mAP50-95): 100%|██████████| 2/2 [00:01<0\n"
     ]
    },
    {
     "name": "stdout",
     "output_type": "stream",
     "text": [
      "                   all         17         21      0.968      0.999      0.995        0.7\n",
      "              Werkzeug         17         17      0.936          1      0.995      0.738\n",
      "                Frser          4          4          1      0.998      0.995      0.662\n",
      "Speed: 1.8ms preprocess, 94.6ms inference, 0.0ms loss, 7.6ms postprocess per image\n",
      "Results saved to \u001b[1mruns\\detect\\train22\u001b[0m\n"
     ]
    },
    {
     "data": {
      "text/plain": [
       "ultralytics.utils.metrics.DetMetrics object with attributes:\n",
       "\n",
       "ap_class_index: array([0, 1])\n",
       "box: ultralytics.utils.metrics.Metric object\n",
       "confusion_matrix: <ultralytics.utils.metrics.ConfusionMatrix object at 0x000001DD68B2D650>\n",
       "curves: ['Precision-Recall(B)', 'F1-Confidence(B)', 'Precision-Confidence(B)', 'Recall-Confidence(B)']\n",
       "curves_results: [[array([          0,    0.001001,    0.002002,    0.003003,    0.004004,    0.005005,    0.006006,    0.007007,    0.008008,    0.009009,     0.01001,    0.011011,    0.012012,    0.013013,    0.014014,    0.015015,    0.016016,    0.017017,    0.018018,    0.019019,     0.02002,    0.021021,    0.022022,    0.023023,\n",
       "          0.024024,    0.025025,    0.026026,    0.027027,    0.028028,    0.029029,     0.03003,    0.031031,    0.032032,    0.033033,    0.034034,    0.035035,    0.036036,    0.037037,    0.038038,    0.039039,     0.04004,    0.041041,    0.042042,    0.043043,    0.044044,    0.045045,    0.046046,    0.047047,\n",
       "          0.048048,    0.049049,     0.05005,    0.051051,    0.052052,    0.053053,    0.054054,    0.055055,    0.056056,    0.057057,    0.058058,    0.059059,     0.06006,    0.061061,    0.062062,    0.063063,    0.064064,    0.065065,    0.066066,    0.067067,    0.068068,    0.069069,     0.07007,    0.071071,\n",
       "          0.072072,    0.073073,    0.074074,    0.075075,    0.076076,    0.077077,    0.078078,    0.079079,     0.08008,    0.081081,    0.082082,    0.083083,    0.084084,    0.085085,    0.086086,    0.087087,    0.088088,    0.089089,     0.09009,    0.091091,    0.092092,    0.093093,    0.094094,    0.095095,\n",
       "          0.096096,    0.097097,    0.098098,    0.099099,      0.1001,      0.1011,      0.1021,      0.1031,      0.1041,     0.10511,     0.10611,     0.10711,     0.10811,     0.10911,     0.11011,     0.11111,     0.11211,     0.11311,     0.11411,     0.11512,     0.11612,     0.11712,     0.11812,     0.11912,\n",
       "           0.12012,     0.12112,     0.12212,     0.12312,     0.12412,     0.12513,     0.12613,     0.12713,     0.12813,     0.12913,     0.13013,     0.13113,     0.13213,     0.13313,     0.13413,     0.13514,     0.13614,     0.13714,     0.13814,     0.13914,     0.14014,     0.14114,     0.14214,     0.14314,\n",
       "           0.14414,     0.14515,     0.14615,     0.14715,     0.14815,     0.14915,     0.15015,     0.15115,     0.15215,     0.15315,     0.15415,     0.15516,     0.15616,     0.15716,     0.15816,     0.15916,     0.16016,     0.16116,     0.16216,     0.16316,     0.16416,     0.16517,     0.16617,     0.16717,\n",
       "           0.16817,     0.16917,     0.17017,     0.17117,     0.17217,     0.17317,     0.17417,     0.17518,     0.17618,     0.17718,     0.17818,     0.17918,     0.18018,     0.18118,     0.18218,     0.18318,     0.18418,     0.18519,     0.18619,     0.18719,     0.18819,     0.18919,     0.19019,     0.19119,\n",
       "           0.19219,     0.19319,     0.19419,      0.1952,      0.1962,      0.1972,      0.1982,      0.1992,      0.2002,      0.2012,      0.2022,      0.2032,      0.2042,     0.20521,     0.20621,     0.20721,     0.20821,     0.20921,     0.21021,     0.21121,     0.21221,     0.21321,     0.21421,     0.21522,\n",
       "           0.21622,     0.21722,     0.21822,     0.21922,     0.22022,     0.22122,     0.22222,     0.22322,     0.22422,     0.22523,     0.22623,     0.22723,     0.22823,     0.22923,     0.23023,     0.23123,     0.23223,     0.23323,     0.23423,     0.23524,     0.23624,     0.23724,     0.23824,     0.23924,\n",
       "           0.24024,     0.24124,     0.24224,     0.24324,     0.24424,     0.24525,     0.24625,     0.24725,     0.24825,     0.24925,     0.25025,     0.25125,     0.25225,     0.25325,     0.25425,     0.25526,     0.25626,     0.25726,     0.25826,     0.25926,     0.26026,     0.26126,     0.26226,     0.26326,\n",
       "           0.26426,     0.26527,     0.26627,     0.26727,     0.26827,     0.26927,     0.27027,     0.27127,     0.27227,     0.27327,     0.27427,     0.27528,     0.27628,     0.27728,     0.27828,     0.27928,     0.28028,     0.28128,     0.28228,     0.28328,     0.28428,     0.28529,     0.28629,     0.28729,\n",
       "           0.28829,     0.28929,     0.29029,     0.29129,     0.29229,     0.29329,     0.29429,      0.2953,      0.2963,      0.2973,      0.2983,      0.2993,      0.3003,      0.3013,      0.3023,      0.3033,      0.3043,     0.30531,     0.30631,     0.30731,     0.30831,     0.30931,     0.31031,     0.31131,\n",
       "           0.31231,     0.31331,     0.31431,     0.31532,     0.31632,     0.31732,     0.31832,     0.31932,     0.32032,     0.32132,     0.32232,     0.32332,     0.32432,     0.32533,     0.32633,     0.32733,     0.32833,     0.32933,     0.33033,     0.33133,     0.33233,     0.33333,     0.33433,     0.33534,\n",
       "           0.33634,     0.33734,     0.33834,     0.33934,     0.34034,     0.34134,     0.34234,     0.34334,     0.34434,     0.34535,     0.34635,     0.34735,     0.34835,     0.34935,     0.35035,     0.35135,     0.35235,     0.35335,     0.35435,     0.35536,     0.35636,     0.35736,     0.35836,     0.35936,\n",
       "           0.36036,     0.36136,     0.36236,     0.36336,     0.36436,     0.36537,     0.36637,     0.36737,     0.36837,     0.36937,     0.37037,     0.37137,     0.37237,     0.37337,     0.37437,     0.37538,     0.37638,     0.37738,     0.37838,     0.37938,     0.38038,     0.38138,     0.38238,     0.38338,\n",
       "           0.38438,     0.38539,     0.38639,     0.38739,     0.38839,     0.38939,     0.39039,     0.39139,     0.39239,     0.39339,     0.39439,      0.3954,      0.3964,      0.3974,      0.3984,      0.3994,      0.4004,      0.4014,      0.4024,      0.4034,      0.4044,     0.40541,     0.40641,     0.40741,\n",
       "           0.40841,     0.40941,     0.41041,     0.41141,     0.41241,     0.41341,     0.41441,     0.41542,     0.41642,     0.41742,     0.41842,     0.41942,     0.42042,     0.42142,     0.42242,     0.42342,     0.42442,     0.42543,     0.42643,     0.42743,     0.42843,     0.42943,     0.43043,     0.43143,\n",
       "           0.43243,     0.43343,     0.43443,     0.43544,     0.43644,     0.43744,     0.43844,     0.43944,     0.44044,     0.44144,     0.44244,     0.44344,     0.44444,     0.44545,     0.44645,     0.44745,     0.44845,     0.44945,     0.45045,     0.45145,     0.45245,     0.45345,     0.45445,     0.45546,\n",
       "           0.45646,     0.45746,     0.45846,     0.45946,     0.46046,     0.46146,     0.46246,     0.46346,     0.46446,     0.46547,     0.46647,     0.46747,     0.46847,     0.46947,     0.47047,     0.47147,     0.47247,     0.47347,     0.47447,     0.47548,     0.47648,     0.47748,     0.47848,     0.47948,\n",
       "           0.48048,     0.48148,     0.48248,     0.48348,     0.48448,     0.48549,     0.48649,     0.48749,     0.48849,     0.48949,     0.49049,     0.49149,     0.49249,     0.49349,     0.49449,      0.4955,      0.4965,      0.4975,      0.4985,      0.4995,      0.5005,      0.5015,      0.5025,      0.5035,\n",
       "            0.5045,     0.50551,     0.50651,     0.50751,     0.50851,     0.50951,     0.51051,     0.51151,     0.51251,     0.51351,     0.51451,     0.51552,     0.51652,     0.51752,     0.51852,     0.51952,     0.52052,     0.52152,     0.52252,     0.52352,     0.52452,     0.52553,     0.52653,     0.52753,\n",
       "           0.52853,     0.52953,     0.53053,     0.53153,     0.53253,     0.53353,     0.53453,     0.53554,     0.53654,     0.53754,     0.53854,     0.53954,     0.54054,     0.54154,     0.54254,     0.54354,     0.54454,     0.54555,     0.54655,     0.54755,     0.54855,     0.54955,     0.55055,     0.55155,\n",
       "           0.55255,     0.55355,     0.55455,     0.55556,     0.55656,     0.55756,     0.55856,     0.55956,     0.56056,     0.56156,     0.56256,     0.56356,     0.56456,     0.56557,     0.56657,     0.56757,     0.56857,     0.56957,     0.57057,     0.57157,     0.57257,     0.57357,     0.57457,     0.57558,\n",
       "           0.57658,     0.57758,     0.57858,     0.57958,     0.58058,     0.58158,     0.58258,     0.58358,     0.58458,     0.58559,     0.58659,     0.58759,     0.58859,     0.58959,     0.59059,     0.59159,     0.59259,     0.59359,     0.59459,      0.5956,      0.5966,      0.5976,      0.5986,      0.5996,\n",
       "            0.6006,      0.6016,      0.6026,      0.6036,      0.6046,     0.60561,     0.60661,     0.60761,     0.60861,     0.60961,     0.61061,     0.61161,     0.61261,     0.61361,     0.61461,     0.61562,     0.61662,     0.61762,     0.61862,     0.61962,     0.62062,     0.62162,     0.62262,     0.62362,\n",
       "           0.62462,     0.62563,     0.62663,     0.62763,     0.62863,     0.62963,     0.63063,     0.63163,     0.63263,     0.63363,     0.63463,     0.63564,     0.63664,     0.63764,     0.63864,     0.63964,     0.64064,     0.64164,     0.64264,     0.64364,     0.64464,     0.64565,     0.64665,     0.64765,\n",
       "           0.64865,     0.64965,     0.65065,     0.65165,     0.65265,     0.65365,     0.65465,     0.65566,     0.65666,     0.65766,     0.65866,     0.65966,     0.66066,     0.66166,     0.66266,     0.66366,     0.66466,     0.66567,     0.66667,     0.66767,     0.66867,     0.66967,     0.67067,     0.67167,\n",
       "           0.67267,     0.67367,     0.67467,     0.67568,     0.67668,     0.67768,     0.67868,     0.67968,     0.68068,     0.68168,     0.68268,     0.68368,     0.68468,     0.68569,     0.68669,     0.68769,     0.68869,     0.68969,     0.69069,     0.69169,     0.69269,     0.69369,     0.69469,      0.6957,\n",
       "            0.6967,      0.6977,      0.6987,      0.6997,      0.7007,      0.7017,      0.7027,      0.7037,      0.7047,     0.70571,     0.70671,     0.70771,     0.70871,     0.70971,     0.71071,     0.71171,     0.71271,     0.71371,     0.71471,     0.71572,     0.71672,     0.71772,     0.71872,     0.71972,\n",
       "           0.72072,     0.72172,     0.72272,     0.72372,     0.72472,     0.72573,     0.72673,     0.72773,     0.72873,     0.72973,     0.73073,     0.73173,     0.73273,     0.73373,     0.73473,     0.73574,     0.73674,     0.73774,     0.73874,     0.73974,     0.74074,     0.74174,     0.74274,     0.74374,\n",
       "           0.74474,     0.74575,     0.74675,     0.74775,     0.74875,     0.74975,     0.75075,     0.75175,     0.75275,     0.75375,     0.75475,     0.75576,     0.75676,     0.75776,     0.75876,     0.75976,     0.76076,     0.76176,     0.76276,     0.76376,     0.76476,     0.76577,     0.76677,     0.76777,\n",
       "           0.76877,     0.76977,     0.77077,     0.77177,     0.77277,     0.77377,     0.77477,     0.77578,     0.77678,     0.77778,     0.77878,     0.77978,     0.78078,     0.78178,     0.78278,     0.78378,     0.78478,     0.78579,     0.78679,     0.78779,     0.78879,     0.78979,     0.79079,     0.79179,\n",
       "           0.79279,     0.79379,     0.79479,      0.7958,      0.7968,      0.7978,      0.7988,      0.7998,      0.8008,      0.8018,      0.8028,      0.8038,      0.8048,     0.80581,     0.80681,     0.80781,     0.80881,     0.80981,     0.81081,     0.81181,     0.81281,     0.81381,     0.81481,     0.81582,\n",
       "           0.81682,     0.81782,     0.81882,     0.81982,     0.82082,     0.82182,     0.82282,     0.82382,     0.82482,     0.82583,     0.82683,     0.82783,     0.82883,     0.82983,     0.83083,     0.83183,     0.83283,     0.83383,     0.83483,     0.83584,     0.83684,     0.83784,     0.83884,     0.83984,\n",
       "           0.84084,     0.84184,     0.84284,     0.84384,     0.84484,     0.84585,     0.84685,     0.84785,     0.84885,     0.84985,     0.85085,     0.85185,     0.85285,     0.85385,     0.85485,     0.85586,     0.85686,     0.85786,     0.85886,     0.85986,     0.86086,     0.86186,     0.86286,     0.86386,\n",
       "           0.86486,     0.86587,     0.86687,     0.86787,     0.86887,     0.86987,     0.87087,     0.87187,     0.87287,     0.87387,     0.87487,     0.87588,     0.87688,     0.87788,     0.87888,     0.87988,     0.88088,     0.88188,     0.88288,     0.88388,     0.88488,     0.88589,     0.88689,     0.88789,\n",
       "           0.88889,     0.88989,     0.89089,     0.89189,     0.89289,     0.89389,     0.89489,      0.8959,      0.8969,      0.8979,      0.8989,      0.8999,      0.9009,      0.9019,      0.9029,      0.9039,      0.9049,     0.90591,     0.90691,     0.90791,     0.90891,     0.90991,     0.91091,     0.91191,\n",
       "           0.91291,     0.91391,     0.91491,     0.91592,     0.91692,     0.91792,     0.91892,     0.91992,     0.92092,     0.92192,     0.92292,     0.92392,     0.92492,     0.92593,     0.92693,     0.92793,     0.92893,     0.92993,     0.93093,     0.93193,     0.93293,     0.93393,     0.93493,     0.93594,\n",
       "           0.93694,     0.93794,     0.93894,     0.93994,     0.94094,     0.94194,     0.94294,     0.94394,     0.94494,     0.94595,     0.94695,     0.94795,     0.94895,     0.94995,     0.95095,     0.95195,     0.95295,     0.95395,     0.95495,     0.95596,     0.95696,     0.95796,     0.95896,     0.95996,\n",
       "           0.96096,     0.96196,     0.96296,     0.96396,     0.96496,     0.96597,     0.96697,     0.96797,     0.96897,     0.96997,     0.97097,     0.97197,     0.97297,     0.97397,     0.97497,     0.97598,     0.97698,     0.97798,     0.97898,     0.97998,     0.98098,     0.98198,     0.98298,     0.98398,\n",
       "           0.98498,     0.98599,     0.98699,     0.98799,     0.98899,     0.98999,     0.99099,     0.99199,     0.99299,     0.99399,     0.99499,       0.996,       0.997,       0.998,       0.999,           1]), array([[          1,           1,           1, ...,           1,           1,           0],\n",
       "       [          1,           1,           1, ...,           1,           1,           0]]), 'Recall', 'Precision'], [array([          0,    0.001001,    0.002002,    0.003003,    0.004004,    0.005005,    0.006006,    0.007007,    0.008008,    0.009009,     0.01001,    0.011011,    0.012012,    0.013013,    0.014014,    0.015015,    0.016016,    0.017017,    0.018018,    0.019019,     0.02002,    0.021021,    0.022022,    0.023023,\n",
       "          0.024024,    0.025025,    0.026026,    0.027027,    0.028028,    0.029029,     0.03003,    0.031031,    0.032032,    0.033033,    0.034034,    0.035035,    0.036036,    0.037037,    0.038038,    0.039039,     0.04004,    0.041041,    0.042042,    0.043043,    0.044044,    0.045045,    0.046046,    0.047047,\n",
       "          0.048048,    0.049049,     0.05005,    0.051051,    0.052052,    0.053053,    0.054054,    0.055055,    0.056056,    0.057057,    0.058058,    0.059059,     0.06006,    0.061061,    0.062062,    0.063063,    0.064064,    0.065065,    0.066066,    0.067067,    0.068068,    0.069069,     0.07007,    0.071071,\n",
       "          0.072072,    0.073073,    0.074074,    0.075075,    0.076076,    0.077077,    0.078078,    0.079079,     0.08008,    0.081081,    0.082082,    0.083083,    0.084084,    0.085085,    0.086086,    0.087087,    0.088088,    0.089089,     0.09009,    0.091091,    0.092092,    0.093093,    0.094094,    0.095095,\n",
       "          0.096096,    0.097097,    0.098098,    0.099099,      0.1001,      0.1011,      0.1021,      0.1031,      0.1041,     0.10511,     0.10611,     0.10711,     0.10811,     0.10911,     0.11011,     0.11111,     0.11211,     0.11311,     0.11411,     0.11512,     0.11612,     0.11712,     0.11812,     0.11912,\n",
       "           0.12012,     0.12112,     0.12212,     0.12312,     0.12412,     0.12513,     0.12613,     0.12713,     0.12813,     0.12913,     0.13013,     0.13113,     0.13213,     0.13313,     0.13413,     0.13514,     0.13614,     0.13714,     0.13814,     0.13914,     0.14014,     0.14114,     0.14214,     0.14314,\n",
       "           0.14414,     0.14515,     0.14615,     0.14715,     0.14815,     0.14915,     0.15015,     0.15115,     0.15215,     0.15315,     0.15415,     0.15516,     0.15616,     0.15716,     0.15816,     0.15916,     0.16016,     0.16116,     0.16216,     0.16316,     0.16416,     0.16517,     0.16617,     0.16717,\n",
       "           0.16817,     0.16917,     0.17017,     0.17117,     0.17217,     0.17317,     0.17417,     0.17518,     0.17618,     0.17718,     0.17818,     0.17918,     0.18018,     0.18118,     0.18218,     0.18318,     0.18418,     0.18519,     0.18619,     0.18719,     0.18819,     0.18919,     0.19019,     0.19119,\n",
       "           0.19219,     0.19319,     0.19419,      0.1952,      0.1962,      0.1972,      0.1982,      0.1992,      0.2002,      0.2012,      0.2022,      0.2032,      0.2042,     0.20521,     0.20621,     0.20721,     0.20821,     0.20921,     0.21021,     0.21121,     0.21221,     0.21321,     0.21421,     0.21522,\n",
       "           0.21622,     0.21722,     0.21822,     0.21922,     0.22022,     0.22122,     0.22222,     0.22322,     0.22422,     0.22523,     0.22623,     0.22723,     0.22823,     0.22923,     0.23023,     0.23123,     0.23223,     0.23323,     0.23423,     0.23524,     0.23624,     0.23724,     0.23824,     0.23924,\n",
       "           0.24024,     0.24124,     0.24224,     0.24324,     0.24424,     0.24525,     0.24625,     0.24725,     0.24825,     0.24925,     0.25025,     0.25125,     0.25225,     0.25325,     0.25425,     0.25526,     0.25626,     0.25726,     0.25826,     0.25926,     0.26026,     0.26126,     0.26226,     0.26326,\n",
       "           0.26426,     0.26527,     0.26627,     0.26727,     0.26827,     0.26927,     0.27027,     0.27127,     0.27227,     0.27327,     0.27427,     0.27528,     0.27628,     0.27728,     0.27828,     0.27928,     0.28028,     0.28128,     0.28228,     0.28328,     0.28428,     0.28529,     0.28629,     0.28729,\n",
       "           0.28829,     0.28929,     0.29029,     0.29129,     0.29229,     0.29329,     0.29429,      0.2953,      0.2963,      0.2973,      0.2983,      0.2993,      0.3003,      0.3013,      0.3023,      0.3033,      0.3043,     0.30531,     0.30631,     0.30731,     0.30831,     0.30931,     0.31031,     0.31131,\n",
       "           0.31231,     0.31331,     0.31431,     0.31532,     0.31632,     0.31732,     0.31832,     0.31932,     0.32032,     0.32132,     0.32232,     0.32332,     0.32432,     0.32533,     0.32633,     0.32733,     0.32833,     0.32933,     0.33033,     0.33133,     0.33233,     0.33333,     0.33433,     0.33534,\n",
       "           0.33634,     0.33734,     0.33834,     0.33934,     0.34034,     0.34134,     0.34234,     0.34334,     0.34434,     0.34535,     0.34635,     0.34735,     0.34835,     0.34935,     0.35035,     0.35135,     0.35235,     0.35335,     0.35435,     0.35536,     0.35636,     0.35736,     0.35836,     0.35936,\n",
       "           0.36036,     0.36136,     0.36236,     0.36336,     0.36436,     0.36537,     0.36637,     0.36737,     0.36837,     0.36937,     0.37037,     0.37137,     0.37237,     0.37337,     0.37437,     0.37538,     0.37638,     0.37738,     0.37838,     0.37938,     0.38038,     0.38138,     0.38238,     0.38338,\n",
       "           0.38438,     0.38539,     0.38639,     0.38739,     0.38839,     0.38939,     0.39039,     0.39139,     0.39239,     0.39339,     0.39439,      0.3954,      0.3964,      0.3974,      0.3984,      0.3994,      0.4004,      0.4014,      0.4024,      0.4034,      0.4044,     0.40541,     0.40641,     0.40741,\n",
       "           0.40841,     0.40941,     0.41041,     0.41141,     0.41241,     0.41341,     0.41441,     0.41542,     0.41642,     0.41742,     0.41842,     0.41942,     0.42042,     0.42142,     0.42242,     0.42342,     0.42442,     0.42543,     0.42643,     0.42743,     0.42843,     0.42943,     0.43043,     0.43143,\n",
       "           0.43243,     0.43343,     0.43443,     0.43544,     0.43644,     0.43744,     0.43844,     0.43944,     0.44044,     0.44144,     0.44244,     0.44344,     0.44444,     0.44545,     0.44645,     0.44745,     0.44845,     0.44945,     0.45045,     0.45145,     0.45245,     0.45345,     0.45445,     0.45546,\n",
       "           0.45646,     0.45746,     0.45846,     0.45946,     0.46046,     0.46146,     0.46246,     0.46346,     0.46446,     0.46547,     0.46647,     0.46747,     0.46847,     0.46947,     0.47047,     0.47147,     0.47247,     0.47347,     0.47447,     0.47548,     0.47648,     0.47748,     0.47848,     0.47948,\n",
       "           0.48048,     0.48148,     0.48248,     0.48348,     0.48448,     0.48549,     0.48649,     0.48749,     0.48849,     0.48949,     0.49049,     0.49149,     0.49249,     0.49349,     0.49449,      0.4955,      0.4965,      0.4975,      0.4985,      0.4995,      0.5005,      0.5015,      0.5025,      0.5035,\n",
       "            0.5045,     0.50551,     0.50651,     0.50751,     0.50851,     0.50951,     0.51051,     0.51151,     0.51251,     0.51351,     0.51451,     0.51552,     0.51652,     0.51752,     0.51852,     0.51952,     0.52052,     0.52152,     0.52252,     0.52352,     0.52452,     0.52553,     0.52653,     0.52753,\n",
       "           0.52853,     0.52953,     0.53053,     0.53153,     0.53253,     0.53353,     0.53453,     0.53554,     0.53654,     0.53754,     0.53854,     0.53954,     0.54054,     0.54154,     0.54254,     0.54354,     0.54454,     0.54555,     0.54655,     0.54755,     0.54855,     0.54955,     0.55055,     0.55155,\n",
       "           0.55255,     0.55355,     0.55455,     0.55556,     0.55656,     0.55756,     0.55856,     0.55956,     0.56056,     0.56156,     0.56256,     0.56356,     0.56456,     0.56557,     0.56657,     0.56757,     0.56857,     0.56957,     0.57057,     0.57157,     0.57257,     0.57357,     0.57457,     0.57558,\n",
       "           0.57658,     0.57758,     0.57858,     0.57958,     0.58058,     0.58158,     0.58258,     0.58358,     0.58458,     0.58559,     0.58659,     0.58759,     0.58859,     0.58959,     0.59059,     0.59159,     0.59259,     0.59359,     0.59459,      0.5956,      0.5966,      0.5976,      0.5986,      0.5996,\n",
       "            0.6006,      0.6016,      0.6026,      0.6036,      0.6046,     0.60561,     0.60661,     0.60761,     0.60861,     0.60961,     0.61061,     0.61161,     0.61261,     0.61361,     0.61461,     0.61562,     0.61662,     0.61762,     0.61862,     0.61962,     0.62062,     0.62162,     0.62262,     0.62362,\n",
       "           0.62462,     0.62563,     0.62663,     0.62763,     0.62863,     0.62963,     0.63063,     0.63163,     0.63263,     0.63363,     0.63463,     0.63564,     0.63664,     0.63764,     0.63864,     0.63964,     0.64064,     0.64164,     0.64264,     0.64364,     0.64464,     0.64565,     0.64665,     0.64765,\n",
       "           0.64865,     0.64965,     0.65065,     0.65165,     0.65265,     0.65365,     0.65465,     0.65566,     0.65666,     0.65766,     0.65866,     0.65966,     0.66066,     0.66166,     0.66266,     0.66366,     0.66466,     0.66567,     0.66667,     0.66767,     0.66867,     0.66967,     0.67067,     0.67167,\n",
       "           0.67267,     0.67367,     0.67467,     0.67568,     0.67668,     0.67768,     0.67868,     0.67968,     0.68068,     0.68168,     0.68268,     0.68368,     0.68468,     0.68569,     0.68669,     0.68769,     0.68869,     0.68969,     0.69069,     0.69169,     0.69269,     0.69369,     0.69469,      0.6957,\n",
       "            0.6967,      0.6977,      0.6987,      0.6997,      0.7007,      0.7017,      0.7027,      0.7037,      0.7047,     0.70571,     0.70671,     0.70771,     0.70871,     0.70971,     0.71071,     0.71171,     0.71271,     0.71371,     0.71471,     0.71572,     0.71672,     0.71772,     0.71872,     0.71972,\n",
       "           0.72072,     0.72172,     0.72272,     0.72372,     0.72472,     0.72573,     0.72673,     0.72773,     0.72873,     0.72973,     0.73073,     0.73173,     0.73273,     0.73373,     0.73473,     0.73574,     0.73674,     0.73774,     0.73874,     0.73974,     0.74074,     0.74174,     0.74274,     0.74374,\n",
       "           0.74474,     0.74575,     0.74675,     0.74775,     0.74875,     0.74975,     0.75075,     0.75175,     0.75275,     0.75375,     0.75475,     0.75576,     0.75676,     0.75776,     0.75876,     0.75976,     0.76076,     0.76176,     0.76276,     0.76376,     0.76476,     0.76577,     0.76677,     0.76777,\n",
       "           0.76877,     0.76977,     0.77077,     0.77177,     0.77277,     0.77377,     0.77477,     0.77578,     0.77678,     0.77778,     0.77878,     0.77978,     0.78078,     0.78178,     0.78278,     0.78378,     0.78478,     0.78579,     0.78679,     0.78779,     0.78879,     0.78979,     0.79079,     0.79179,\n",
       "           0.79279,     0.79379,     0.79479,      0.7958,      0.7968,      0.7978,      0.7988,      0.7998,      0.8008,      0.8018,      0.8028,      0.8038,      0.8048,     0.80581,     0.80681,     0.80781,     0.80881,     0.80981,     0.81081,     0.81181,     0.81281,     0.81381,     0.81481,     0.81582,\n",
       "           0.81682,     0.81782,     0.81882,     0.81982,     0.82082,     0.82182,     0.82282,     0.82382,     0.82482,     0.82583,     0.82683,     0.82783,     0.82883,     0.82983,     0.83083,     0.83183,     0.83283,     0.83383,     0.83483,     0.83584,     0.83684,     0.83784,     0.83884,     0.83984,\n",
       "           0.84084,     0.84184,     0.84284,     0.84384,     0.84484,     0.84585,     0.84685,     0.84785,     0.84885,     0.84985,     0.85085,     0.85185,     0.85285,     0.85385,     0.85485,     0.85586,     0.85686,     0.85786,     0.85886,     0.85986,     0.86086,     0.86186,     0.86286,     0.86386,\n",
       "           0.86486,     0.86587,     0.86687,     0.86787,     0.86887,     0.86987,     0.87087,     0.87187,     0.87287,     0.87387,     0.87487,     0.87588,     0.87688,     0.87788,     0.87888,     0.87988,     0.88088,     0.88188,     0.88288,     0.88388,     0.88488,     0.88589,     0.88689,     0.88789,\n",
       "           0.88889,     0.88989,     0.89089,     0.89189,     0.89289,     0.89389,     0.89489,      0.8959,      0.8969,      0.8979,      0.8989,      0.8999,      0.9009,      0.9019,      0.9029,      0.9039,      0.9049,     0.90591,     0.90691,     0.90791,     0.90891,     0.90991,     0.91091,     0.91191,\n",
       "           0.91291,     0.91391,     0.91491,     0.91592,     0.91692,     0.91792,     0.91892,     0.91992,     0.92092,     0.92192,     0.92292,     0.92392,     0.92492,     0.92593,     0.92693,     0.92793,     0.92893,     0.92993,     0.93093,     0.93193,     0.93293,     0.93393,     0.93493,     0.93594,\n",
       "           0.93694,     0.93794,     0.93894,     0.93994,     0.94094,     0.94194,     0.94294,     0.94394,     0.94494,     0.94595,     0.94695,     0.94795,     0.94895,     0.94995,     0.95095,     0.95195,     0.95295,     0.95395,     0.95495,     0.95596,     0.95696,     0.95796,     0.95896,     0.95996,\n",
       "           0.96096,     0.96196,     0.96296,     0.96396,     0.96496,     0.96597,     0.96697,     0.96797,     0.96897,     0.96997,     0.97097,     0.97197,     0.97297,     0.97397,     0.97497,     0.97598,     0.97698,     0.97798,     0.97898,     0.97998,     0.98098,     0.98198,     0.98298,     0.98398,\n",
       "           0.98498,     0.98599,     0.98699,     0.98799,     0.98899,     0.98999,     0.99099,     0.99199,     0.99299,     0.99399,     0.99499,       0.996,       0.997,       0.998,       0.999,           1]), array([[   0.011432,    0.011432,    0.011788, ...,           0,           0,           0],\n",
       "       [  0.0037261,   0.0037261,   0.0039545, ...,           0,           0,           0]]), 'Confidence', 'F1'], [array([          0,    0.001001,    0.002002,    0.003003,    0.004004,    0.005005,    0.006006,    0.007007,    0.008008,    0.009009,     0.01001,    0.011011,    0.012012,    0.013013,    0.014014,    0.015015,    0.016016,    0.017017,    0.018018,    0.019019,     0.02002,    0.021021,    0.022022,    0.023023,\n",
       "          0.024024,    0.025025,    0.026026,    0.027027,    0.028028,    0.029029,     0.03003,    0.031031,    0.032032,    0.033033,    0.034034,    0.035035,    0.036036,    0.037037,    0.038038,    0.039039,     0.04004,    0.041041,    0.042042,    0.043043,    0.044044,    0.045045,    0.046046,    0.047047,\n",
       "          0.048048,    0.049049,     0.05005,    0.051051,    0.052052,    0.053053,    0.054054,    0.055055,    0.056056,    0.057057,    0.058058,    0.059059,     0.06006,    0.061061,    0.062062,    0.063063,    0.064064,    0.065065,    0.066066,    0.067067,    0.068068,    0.069069,     0.07007,    0.071071,\n",
       "          0.072072,    0.073073,    0.074074,    0.075075,    0.076076,    0.077077,    0.078078,    0.079079,     0.08008,    0.081081,    0.082082,    0.083083,    0.084084,    0.085085,    0.086086,    0.087087,    0.088088,    0.089089,     0.09009,    0.091091,    0.092092,    0.093093,    0.094094,    0.095095,\n",
       "          0.096096,    0.097097,    0.098098,    0.099099,      0.1001,      0.1011,      0.1021,      0.1031,      0.1041,     0.10511,     0.10611,     0.10711,     0.10811,     0.10911,     0.11011,     0.11111,     0.11211,     0.11311,     0.11411,     0.11512,     0.11612,     0.11712,     0.11812,     0.11912,\n",
       "           0.12012,     0.12112,     0.12212,     0.12312,     0.12412,     0.12513,     0.12613,     0.12713,     0.12813,     0.12913,     0.13013,     0.13113,     0.13213,     0.13313,     0.13413,     0.13514,     0.13614,     0.13714,     0.13814,     0.13914,     0.14014,     0.14114,     0.14214,     0.14314,\n",
       "           0.14414,     0.14515,     0.14615,     0.14715,     0.14815,     0.14915,     0.15015,     0.15115,     0.15215,     0.15315,     0.15415,     0.15516,     0.15616,     0.15716,     0.15816,     0.15916,     0.16016,     0.16116,     0.16216,     0.16316,     0.16416,     0.16517,     0.16617,     0.16717,\n",
       "           0.16817,     0.16917,     0.17017,     0.17117,     0.17217,     0.17317,     0.17417,     0.17518,     0.17618,     0.17718,     0.17818,     0.17918,     0.18018,     0.18118,     0.18218,     0.18318,     0.18418,     0.18519,     0.18619,     0.18719,     0.18819,     0.18919,     0.19019,     0.19119,\n",
       "           0.19219,     0.19319,     0.19419,      0.1952,      0.1962,      0.1972,      0.1982,      0.1992,      0.2002,      0.2012,      0.2022,      0.2032,      0.2042,     0.20521,     0.20621,     0.20721,     0.20821,     0.20921,     0.21021,     0.21121,     0.21221,     0.21321,     0.21421,     0.21522,\n",
       "           0.21622,     0.21722,     0.21822,     0.21922,     0.22022,     0.22122,     0.22222,     0.22322,     0.22422,     0.22523,     0.22623,     0.22723,     0.22823,     0.22923,     0.23023,     0.23123,     0.23223,     0.23323,     0.23423,     0.23524,     0.23624,     0.23724,     0.23824,     0.23924,\n",
       "           0.24024,     0.24124,     0.24224,     0.24324,     0.24424,     0.24525,     0.24625,     0.24725,     0.24825,     0.24925,     0.25025,     0.25125,     0.25225,     0.25325,     0.25425,     0.25526,     0.25626,     0.25726,     0.25826,     0.25926,     0.26026,     0.26126,     0.26226,     0.26326,\n",
       "           0.26426,     0.26527,     0.26627,     0.26727,     0.26827,     0.26927,     0.27027,     0.27127,     0.27227,     0.27327,     0.27427,     0.27528,     0.27628,     0.27728,     0.27828,     0.27928,     0.28028,     0.28128,     0.28228,     0.28328,     0.28428,     0.28529,     0.28629,     0.28729,\n",
       "           0.28829,     0.28929,     0.29029,     0.29129,     0.29229,     0.29329,     0.29429,      0.2953,      0.2963,      0.2973,      0.2983,      0.2993,      0.3003,      0.3013,      0.3023,      0.3033,      0.3043,     0.30531,     0.30631,     0.30731,     0.30831,     0.30931,     0.31031,     0.31131,\n",
       "           0.31231,     0.31331,     0.31431,     0.31532,     0.31632,     0.31732,     0.31832,     0.31932,     0.32032,     0.32132,     0.32232,     0.32332,     0.32432,     0.32533,     0.32633,     0.32733,     0.32833,     0.32933,     0.33033,     0.33133,     0.33233,     0.33333,     0.33433,     0.33534,\n",
       "           0.33634,     0.33734,     0.33834,     0.33934,     0.34034,     0.34134,     0.34234,     0.34334,     0.34434,     0.34535,     0.34635,     0.34735,     0.34835,     0.34935,     0.35035,     0.35135,     0.35235,     0.35335,     0.35435,     0.35536,     0.35636,     0.35736,     0.35836,     0.35936,\n",
       "           0.36036,     0.36136,     0.36236,     0.36336,     0.36436,     0.36537,     0.36637,     0.36737,     0.36837,     0.36937,     0.37037,     0.37137,     0.37237,     0.37337,     0.37437,     0.37538,     0.37638,     0.37738,     0.37838,     0.37938,     0.38038,     0.38138,     0.38238,     0.38338,\n",
       "           0.38438,     0.38539,     0.38639,     0.38739,     0.38839,     0.38939,     0.39039,     0.39139,     0.39239,     0.39339,     0.39439,      0.3954,      0.3964,      0.3974,      0.3984,      0.3994,      0.4004,      0.4014,      0.4024,      0.4034,      0.4044,     0.40541,     0.40641,     0.40741,\n",
       "           0.40841,     0.40941,     0.41041,     0.41141,     0.41241,     0.41341,     0.41441,     0.41542,     0.41642,     0.41742,     0.41842,     0.41942,     0.42042,     0.42142,     0.42242,     0.42342,     0.42442,     0.42543,     0.42643,     0.42743,     0.42843,     0.42943,     0.43043,     0.43143,\n",
       "           0.43243,     0.43343,     0.43443,     0.43544,     0.43644,     0.43744,     0.43844,     0.43944,     0.44044,     0.44144,     0.44244,     0.44344,     0.44444,     0.44545,     0.44645,     0.44745,     0.44845,     0.44945,     0.45045,     0.45145,     0.45245,     0.45345,     0.45445,     0.45546,\n",
       "           0.45646,     0.45746,     0.45846,     0.45946,     0.46046,     0.46146,     0.46246,     0.46346,     0.46446,     0.46547,     0.46647,     0.46747,     0.46847,     0.46947,     0.47047,     0.47147,     0.47247,     0.47347,     0.47447,     0.47548,     0.47648,     0.47748,     0.47848,     0.47948,\n",
       "           0.48048,     0.48148,     0.48248,     0.48348,     0.48448,     0.48549,     0.48649,     0.48749,     0.48849,     0.48949,     0.49049,     0.49149,     0.49249,     0.49349,     0.49449,      0.4955,      0.4965,      0.4975,      0.4985,      0.4995,      0.5005,      0.5015,      0.5025,      0.5035,\n",
       "            0.5045,     0.50551,     0.50651,     0.50751,     0.50851,     0.50951,     0.51051,     0.51151,     0.51251,     0.51351,     0.51451,     0.51552,     0.51652,     0.51752,     0.51852,     0.51952,     0.52052,     0.52152,     0.52252,     0.52352,     0.52452,     0.52553,     0.52653,     0.52753,\n",
       "           0.52853,     0.52953,     0.53053,     0.53153,     0.53253,     0.53353,     0.53453,     0.53554,     0.53654,     0.53754,     0.53854,     0.53954,     0.54054,     0.54154,     0.54254,     0.54354,     0.54454,     0.54555,     0.54655,     0.54755,     0.54855,     0.54955,     0.55055,     0.55155,\n",
       "           0.55255,     0.55355,     0.55455,     0.55556,     0.55656,     0.55756,     0.55856,     0.55956,     0.56056,     0.56156,     0.56256,     0.56356,     0.56456,     0.56557,     0.56657,     0.56757,     0.56857,     0.56957,     0.57057,     0.57157,     0.57257,     0.57357,     0.57457,     0.57558,\n",
       "           0.57658,     0.57758,     0.57858,     0.57958,     0.58058,     0.58158,     0.58258,     0.58358,     0.58458,     0.58559,     0.58659,     0.58759,     0.58859,     0.58959,     0.59059,     0.59159,     0.59259,     0.59359,     0.59459,      0.5956,      0.5966,      0.5976,      0.5986,      0.5996,\n",
       "            0.6006,      0.6016,      0.6026,      0.6036,      0.6046,     0.60561,     0.60661,     0.60761,     0.60861,     0.60961,     0.61061,     0.61161,     0.61261,     0.61361,     0.61461,     0.61562,     0.61662,     0.61762,     0.61862,     0.61962,     0.62062,     0.62162,     0.62262,     0.62362,\n",
       "           0.62462,     0.62563,     0.62663,     0.62763,     0.62863,     0.62963,     0.63063,     0.63163,     0.63263,     0.63363,     0.63463,     0.63564,     0.63664,     0.63764,     0.63864,     0.63964,     0.64064,     0.64164,     0.64264,     0.64364,     0.64464,     0.64565,     0.64665,     0.64765,\n",
       "           0.64865,     0.64965,     0.65065,     0.65165,     0.65265,     0.65365,     0.65465,     0.65566,     0.65666,     0.65766,     0.65866,     0.65966,     0.66066,     0.66166,     0.66266,     0.66366,     0.66466,     0.66567,     0.66667,     0.66767,     0.66867,     0.66967,     0.67067,     0.67167,\n",
       "           0.67267,     0.67367,     0.67467,     0.67568,     0.67668,     0.67768,     0.67868,     0.67968,     0.68068,     0.68168,     0.68268,     0.68368,     0.68468,     0.68569,     0.68669,     0.68769,     0.68869,     0.68969,     0.69069,     0.69169,     0.69269,     0.69369,     0.69469,      0.6957,\n",
       "            0.6967,      0.6977,      0.6987,      0.6997,      0.7007,      0.7017,      0.7027,      0.7037,      0.7047,     0.70571,     0.70671,     0.70771,     0.70871,     0.70971,     0.71071,     0.71171,     0.71271,     0.71371,     0.71471,     0.71572,     0.71672,     0.71772,     0.71872,     0.71972,\n",
       "           0.72072,     0.72172,     0.72272,     0.72372,     0.72472,     0.72573,     0.72673,     0.72773,     0.72873,     0.72973,     0.73073,     0.73173,     0.73273,     0.73373,     0.73473,     0.73574,     0.73674,     0.73774,     0.73874,     0.73974,     0.74074,     0.74174,     0.74274,     0.74374,\n",
       "           0.74474,     0.74575,     0.74675,     0.74775,     0.74875,     0.74975,     0.75075,     0.75175,     0.75275,     0.75375,     0.75475,     0.75576,     0.75676,     0.75776,     0.75876,     0.75976,     0.76076,     0.76176,     0.76276,     0.76376,     0.76476,     0.76577,     0.76677,     0.76777,\n",
       "           0.76877,     0.76977,     0.77077,     0.77177,     0.77277,     0.77377,     0.77477,     0.77578,     0.77678,     0.77778,     0.77878,     0.77978,     0.78078,     0.78178,     0.78278,     0.78378,     0.78478,     0.78579,     0.78679,     0.78779,     0.78879,     0.78979,     0.79079,     0.79179,\n",
       "           0.79279,     0.79379,     0.79479,      0.7958,      0.7968,      0.7978,      0.7988,      0.7998,      0.8008,      0.8018,      0.8028,      0.8038,      0.8048,     0.80581,     0.80681,     0.80781,     0.80881,     0.80981,     0.81081,     0.81181,     0.81281,     0.81381,     0.81481,     0.81582,\n",
       "           0.81682,     0.81782,     0.81882,     0.81982,     0.82082,     0.82182,     0.82282,     0.82382,     0.82482,     0.82583,     0.82683,     0.82783,     0.82883,     0.82983,     0.83083,     0.83183,     0.83283,     0.83383,     0.83483,     0.83584,     0.83684,     0.83784,     0.83884,     0.83984,\n",
       "           0.84084,     0.84184,     0.84284,     0.84384,     0.84484,     0.84585,     0.84685,     0.84785,     0.84885,     0.84985,     0.85085,     0.85185,     0.85285,     0.85385,     0.85485,     0.85586,     0.85686,     0.85786,     0.85886,     0.85986,     0.86086,     0.86186,     0.86286,     0.86386,\n",
       "           0.86486,     0.86587,     0.86687,     0.86787,     0.86887,     0.86987,     0.87087,     0.87187,     0.87287,     0.87387,     0.87487,     0.87588,     0.87688,     0.87788,     0.87888,     0.87988,     0.88088,     0.88188,     0.88288,     0.88388,     0.88488,     0.88589,     0.88689,     0.88789,\n",
       "           0.88889,     0.88989,     0.89089,     0.89189,     0.89289,     0.89389,     0.89489,      0.8959,      0.8969,      0.8979,      0.8989,      0.8999,      0.9009,      0.9019,      0.9029,      0.9039,      0.9049,     0.90591,     0.90691,     0.90791,     0.90891,     0.90991,     0.91091,     0.91191,\n",
       "           0.91291,     0.91391,     0.91491,     0.91592,     0.91692,     0.91792,     0.91892,     0.91992,     0.92092,     0.92192,     0.92292,     0.92392,     0.92492,     0.92593,     0.92693,     0.92793,     0.92893,     0.92993,     0.93093,     0.93193,     0.93293,     0.93393,     0.93493,     0.93594,\n",
       "           0.93694,     0.93794,     0.93894,     0.93994,     0.94094,     0.94194,     0.94294,     0.94394,     0.94494,     0.94595,     0.94695,     0.94795,     0.94895,     0.94995,     0.95095,     0.95195,     0.95295,     0.95395,     0.95495,     0.95596,     0.95696,     0.95796,     0.95896,     0.95996,\n",
       "           0.96096,     0.96196,     0.96296,     0.96396,     0.96496,     0.96597,     0.96697,     0.96797,     0.96897,     0.96997,     0.97097,     0.97197,     0.97297,     0.97397,     0.97497,     0.97598,     0.97698,     0.97798,     0.97898,     0.97998,     0.98098,     0.98198,     0.98298,     0.98398,\n",
       "           0.98498,     0.98599,     0.98699,     0.98799,     0.98899,     0.98999,     0.99099,     0.99199,     0.99299,     0.99399,     0.99499,       0.996,       0.997,       0.998,       0.999,           1]), array([[  0.0057491,   0.0057491,   0.0059288, ...,           1,           1,           1],\n",
       "       [  0.0018665,   0.0018665,   0.0019812, ...,           1,           1,           1]]), 'Confidence', 'Precision'], [array([          0,    0.001001,    0.002002,    0.003003,    0.004004,    0.005005,    0.006006,    0.007007,    0.008008,    0.009009,     0.01001,    0.011011,    0.012012,    0.013013,    0.014014,    0.015015,    0.016016,    0.017017,    0.018018,    0.019019,     0.02002,    0.021021,    0.022022,    0.023023,\n",
       "          0.024024,    0.025025,    0.026026,    0.027027,    0.028028,    0.029029,     0.03003,    0.031031,    0.032032,    0.033033,    0.034034,    0.035035,    0.036036,    0.037037,    0.038038,    0.039039,     0.04004,    0.041041,    0.042042,    0.043043,    0.044044,    0.045045,    0.046046,    0.047047,\n",
       "          0.048048,    0.049049,     0.05005,    0.051051,    0.052052,    0.053053,    0.054054,    0.055055,    0.056056,    0.057057,    0.058058,    0.059059,     0.06006,    0.061061,    0.062062,    0.063063,    0.064064,    0.065065,    0.066066,    0.067067,    0.068068,    0.069069,     0.07007,    0.071071,\n",
       "          0.072072,    0.073073,    0.074074,    0.075075,    0.076076,    0.077077,    0.078078,    0.079079,     0.08008,    0.081081,    0.082082,    0.083083,    0.084084,    0.085085,    0.086086,    0.087087,    0.088088,    0.089089,     0.09009,    0.091091,    0.092092,    0.093093,    0.094094,    0.095095,\n",
       "          0.096096,    0.097097,    0.098098,    0.099099,      0.1001,      0.1011,      0.1021,      0.1031,      0.1041,     0.10511,     0.10611,     0.10711,     0.10811,     0.10911,     0.11011,     0.11111,     0.11211,     0.11311,     0.11411,     0.11512,     0.11612,     0.11712,     0.11812,     0.11912,\n",
       "           0.12012,     0.12112,     0.12212,     0.12312,     0.12412,     0.12513,     0.12613,     0.12713,     0.12813,     0.12913,     0.13013,     0.13113,     0.13213,     0.13313,     0.13413,     0.13514,     0.13614,     0.13714,     0.13814,     0.13914,     0.14014,     0.14114,     0.14214,     0.14314,\n",
       "           0.14414,     0.14515,     0.14615,     0.14715,     0.14815,     0.14915,     0.15015,     0.15115,     0.15215,     0.15315,     0.15415,     0.15516,     0.15616,     0.15716,     0.15816,     0.15916,     0.16016,     0.16116,     0.16216,     0.16316,     0.16416,     0.16517,     0.16617,     0.16717,\n",
       "           0.16817,     0.16917,     0.17017,     0.17117,     0.17217,     0.17317,     0.17417,     0.17518,     0.17618,     0.17718,     0.17818,     0.17918,     0.18018,     0.18118,     0.18218,     0.18318,     0.18418,     0.18519,     0.18619,     0.18719,     0.18819,     0.18919,     0.19019,     0.19119,\n",
       "           0.19219,     0.19319,     0.19419,      0.1952,      0.1962,      0.1972,      0.1982,      0.1992,      0.2002,      0.2012,      0.2022,      0.2032,      0.2042,     0.20521,     0.20621,     0.20721,     0.20821,     0.20921,     0.21021,     0.21121,     0.21221,     0.21321,     0.21421,     0.21522,\n",
       "           0.21622,     0.21722,     0.21822,     0.21922,     0.22022,     0.22122,     0.22222,     0.22322,     0.22422,     0.22523,     0.22623,     0.22723,     0.22823,     0.22923,     0.23023,     0.23123,     0.23223,     0.23323,     0.23423,     0.23524,     0.23624,     0.23724,     0.23824,     0.23924,\n",
       "           0.24024,     0.24124,     0.24224,     0.24324,     0.24424,     0.24525,     0.24625,     0.24725,     0.24825,     0.24925,     0.25025,     0.25125,     0.25225,     0.25325,     0.25425,     0.25526,     0.25626,     0.25726,     0.25826,     0.25926,     0.26026,     0.26126,     0.26226,     0.26326,\n",
       "           0.26426,     0.26527,     0.26627,     0.26727,     0.26827,     0.26927,     0.27027,     0.27127,     0.27227,     0.27327,     0.27427,     0.27528,     0.27628,     0.27728,     0.27828,     0.27928,     0.28028,     0.28128,     0.28228,     0.28328,     0.28428,     0.28529,     0.28629,     0.28729,\n",
       "           0.28829,     0.28929,     0.29029,     0.29129,     0.29229,     0.29329,     0.29429,      0.2953,      0.2963,      0.2973,      0.2983,      0.2993,      0.3003,      0.3013,      0.3023,      0.3033,      0.3043,     0.30531,     0.30631,     0.30731,     0.30831,     0.30931,     0.31031,     0.31131,\n",
       "           0.31231,     0.31331,     0.31431,     0.31532,     0.31632,     0.31732,     0.31832,     0.31932,     0.32032,     0.32132,     0.32232,     0.32332,     0.32432,     0.32533,     0.32633,     0.32733,     0.32833,     0.32933,     0.33033,     0.33133,     0.33233,     0.33333,     0.33433,     0.33534,\n",
       "           0.33634,     0.33734,     0.33834,     0.33934,     0.34034,     0.34134,     0.34234,     0.34334,     0.34434,     0.34535,     0.34635,     0.34735,     0.34835,     0.34935,     0.35035,     0.35135,     0.35235,     0.35335,     0.35435,     0.35536,     0.35636,     0.35736,     0.35836,     0.35936,\n",
       "           0.36036,     0.36136,     0.36236,     0.36336,     0.36436,     0.36537,     0.36637,     0.36737,     0.36837,     0.36937,     0.37037,     0.37137,     0.37237,     0.37337,     0.37437,     0.37538,     0.37638,     0.37738,     0.37838,     0.37938,     0.38038,     0.38138,     0.38238,     0.38338,\n",
       "           0.38438,     0.38539,     0.38639,     0.38739,     0.38839,     0.38939,     0.39039,     0.39139,     0.39239,     0.39339,     0.39439,      0.3954,      0.3964,      0.3974,      0.3984,      0.3994,      0.4004,      0.4014,      0.4024,      0.4034,      0.4044,     0.40541,     0.40641,     0.40741,\n",
       "           0.40841,     0.40941,     0.41041,     0.41141,     0.41241,     0.41341,     0.41441,     0.41542,     0.41642,     0.41742,     0.41842,     0.41942,     0.42042,     0.42142,     0.42242,     0.42342,     0.42442,     0.42543,     0.42643,     0.42743,     0.42843,     0.42943,     0.43043,     0.43143,\n",
       "           0.43243,     0.43343,     0.43443,     0.43544,     0.43644,     0.43744,     0.43844,     0.43944,     0.44044,     0.44144,     0.44244,     0.44344,     0.44444,     0.44545,     0.44645,     0.44745,     0.44845,     0.44945,     0.45045,     0.45145,     0.45245,     0.45345,     0.45445,     0.45546,\n",
       "           0.45646,     0.45746,     0.45846,     0.45946,     0.46046,     0.46146,     0.46246,     0.46346,     0.46446,     0.46547,     0.46647,     0.46747,     0.46847,     0.46947,     0.47047,     0.47147,     0.47247,     0.47347,     0.47447,     0.47548,     0.47648,     0.47748,     0.47848,     0.47948,\n",
       "           0.48048,     0.48148,     0.48248,     0.48348,     0.48448,     0.48549,     0.48649,     0.48749,     0.48849,     0.48949,     0.49049,     0.49149,     0.49249,     0.49349,     0.49449,      0.4955,      0.4965,      0.4975,      0.4985,      0.4995,      0.5005,      0.5015,      0.5025,      0.5035,\n",
       "            0.5045,     0.50551,     0.50651,     0.50751,     0.50851,     0.50951,     0.51051,     0.51151,     0.51251,     0.51351,     0.51451,     0.51552,     0.51652,     0.51752,     0.51852,     0.51952,     0.52052,     0.52152,     0.52252,     0.52352,     0.52452,     0.52553,     0.52653,     0.52753,\n",
       "           0.52853,     0.52953,     0.53053,     0.53153,     0.53253,     0.53353,     0.53453,     0.53554,     0.53654,     0.53754,     0.53854,     0.53954,     0.54054,     0.54154,     0.54254,     0.54354,     0.54454,     0.54555,     0.54655,     0.54755,     0.54855,     0.54955,     0.55055,     0.55155,\n",
       "           0.55255,     0.55355,     0.55455,     0.55556,     0.55656,     0.55756,     0.55856,     0.55956,     0.56056,     0.56156,     0.56256,     0.56356,     0.56456,     0.56557,     0.56657,     0.56757,     0.56857,     0.56957,     0.57057,     0.57157,     0.57257,     0.57357,     0.57457,     0.57558,\n",
       "           0.57658,     0.57758,     0.57858,     0.57958,     0.58058,     0.58158,     0.58258,     0.58358,     0.58458,     0.58559,     0.58659,     0.58759,     0.58859,     0.58959,     0.59059,     0.59159,     0.59259,     0.59359,     0.59459,      0.5956,      0.5966,      0.5976,      0.5986,      0.5996,\n",
       "            0.6006,      0.6016,      0.6026,      0.6036,      0.6046,     0.60561,     0.60661,     0.60761,     0.60861,     0.60961,     0.61061,     0.61161,     0.61261,     0.61361,     0.61461,     0.61562,     0.61662,     0.61762,     0.61862,     0.61962,     0.62062,     0.62162,     0.62262,     0.62362,\n",
       "           0.62462,     0.62563,     0.62663,     0.62763,     0.62863,     0.62963,     0.63063,     0.63163,     0.63263,     0.63363,     0.63463,     0.63564,     0.63664,     0.63764,     0.63864,     0.63964,     0.64064,     0.64164,     0.64264,     0.64364,     0.64464,     0.64565,     0.64665,     0.64765,\n",
       "           0.64865,     0.64965,     0.65065,     0.65165,     0.65265,     0.65365,     0.65465,     0.65566,     0.65666,     0.65766,     0.65866,     0.65966,     0.66066,     0.66166,     0.66266,     0.66366,     0.66466,     0.66567,     0.66667,     0.66767,     0.66867,     0.66967,     0.67067,     0.67167,\n",
       "           0.67267,     0.67367,     0.67467,     0.67568,     0.67668,     0.67768,     0.67868,     0.67968,     0.68068,     0.68168,     0.68268,     0.68368,     0.68468,     0.68569,     0.68669,     0.68769,     0.68869,     0.68969,     0.69069,     0.69169,     0.69269,     0.69369,     0.69469,      0.6957,\n",
       "            0.6967,      0.6977,      0.6987,      0.6997,      0.7007,      0.7017,      0.7027,      0.7037,      0.7047,     0.70571,     0.70671,     0.70771,     0.70871,     0.70971,     0.71071,     0.71171,     0.71271,     0.71371,     0.71471,     0.71572,     0.71672,     0.71772,     0.71872,     0.71972,\n",
       "           0.72072,     0.72172,     0.72272,     0.72372,     0.72472,     0.72573,     0.72673,     0.72773,     0.72873,     0.72973,     0.73073,     0.73173,     0.73273,     0.73373,     0.73473,     0.73574,     0.73674,     0.73774,     0.73874,     0.73974,     0.74074,     0.74174,     0.74274,     0.74374,\n",
       "           0.74474,     0.74575,     0.74675,     0.74775,     0.74875,     0.74975,     0.75075,     0.75175,     0.75275,     0.75375,     0.75475,     0.75576,     0.75676,     0.75776,     0.75876,     0.75976,     0.76076,     0.76176,     0.76276,     0.76376,     0.76476,     0.76577,     0.76677,     0.76777,\n",
       "           0.76877,     0.76977,     0.77077,     0.77177,     0.77277,     0.77377,     0.77477,     0.77578,     0.77678,     0.77778,     0.77878,     0.77978,     0.78078,     0.78178,     0.78278,     0.78378,     0.78478,     0.78579,     0.78679,     0.78779,     0.78879,     0.78979,     0.79079,     0.79179,\n",
       "           0.79279,     0.79379,     0.79479,      0.7958,      0.7968,      0.7978,      0.7988,      0.7998,      0.8008,      0.8018,      0.8028,      0.8038,      0.8048,     0.80581,     0.80681,     0.80781,     0.80881,     0.80981,     0.81081,     0.81181,     0.81281,     0.81381,     0.81481,     0.81582,\n",
       "           0.81682,     0.81782,     0.81882,     0.81982,     0.82082,     0.82182,     0.82282,     0.82382,     0.82482,     0.82583,     0.82683,     0.82783,     0.82883,     0.82983,     0.83083,     0.83183,     0.83283,     0.83383,     0.83483,     0.83584,     0.83684,     0.83784,     0.83884,     0.83984,\n",
       "           0.84084,     0.84184,     0.84284,     0.84384,     0.84484,     0.84585,     0.84685,     0.84785,     0.84885,     0.84985,     0.85085,     0.85185,     0.85285,     0.85385,     0.85485,     0.85586,     0.85686,     0.85786,     0.85886,     0.85986,     0.86086,     0.86186,     0.86286,     0.86386,\n",
       "           0.86486,     0.86587,     0.86687,     0.86787,     0.86887,     0.86987,     0.87087,     0.87187,     0.87287,     0.87387,     0.87487,     0.87588,     0.87688,     0.87788,     0.87888,     0.87988,     0.88088,     0.88188,     0.88288,     0.88388,     0.88488,     0.88589,     0.88689,     0.88789,\n",
       "           0.88889,     0.88989,     0.89089,     0.89189,     0.89289,     0.89389,     0.89489,      0.8959,      0.8969,      0.8979,      0.8989,      0.8999,      0.9009,      0.9019,      0.9029,      0.9039,      0.9049,     0.90591,     0.90691,     0.90791,     0.90891,     0.90991,     0.91091,     0.91191,\n",
       "           0.91291,     0.91391,     0.91491,     0.91592,     0.91692,     0.91792,     0.91892,     0.91992,     0.92092,     0.92192,     0.92292,     0.92392,     0.92492,     0.92593,     0.92693,     0.92793,     0.92893,     0.92993,     0.93093,     0.93193,     0.93293,     0.93393,     0.93493,     0.93594,\n",
       "           0.93694,     0.93794,     0.93894,     0.93994,     0.94094,     0.94194,     0.94294,     0.94394,     0.94494,     0.94595,     0.94695,     0.94795,     0.94895,     0.94995,     0.95095,     0.95195,     0.95295,     0.95395,     0.95495,     0.95596,     0.95696,     0.95796,     0.95896,     0.95996,\n",
       "           0.96096,     0.96196,     0.96296,     0.96396,     0.96496,     0.96597,     0.96697,     0.96797,     0.96897,     0.96997,     0.97097,     0.97197,     0.97297,     0.97397,     0.97497,     0.97598,     0.97698,     0.97798,     0.97898,     0.97998,     0.98098,     0.98198,     0.98298,     0.98398,\n",
       "           0.98498,     0.98599,     0.98699,     0.98799,     0.98899,     0.98999,     0.99099,     0.99199,     0.99299,     0.99399,     0.99499,       0.996,       0.997,       0.998,       0.999,           1]), array([[          1,           1,           1, ...,           0,           0,           0],\n",
       "       [          1,           1,           1, ...,           0,           0,           0]]), 'Confidence', 'Recall']]\n",
       "fitness: np.float64(0.7291709834652803)\n",
       "keys: ['metrics/precision(B)', 'metrics/recall(B)', 'metrics/mAP50(B)', 'metrics/mAP50-95(B)']\n",
       "maps: array([    0.73773,     0.66154])\n",
       "names: {0: 'Werkzeug', 1: 'Fräser'}\n",
       "plot: True\n",
       "results_dict: {'metrics/precision(B)': np.float64(0.9682426533726642), 'metrics/recall(B)': np.float64(0.9989533167274804), 'metrics/mAP50(B)': np.float64(0.995), 'metrics/mAP50-95(B)': np.float64(0.6996344260725336), 'fitness': np.float64(0.7291709834652803)}\n",
       "save_dir: WindowsPath('runs/detect/train22')\n",
       "speed: {'preprocess': 1.7598376554601332, 'inference': 94.63105482213638, 'loss': 0.0, 'postprocess': 7.567419725305894}\n",
       "task: 'detect'"
      ]
     },
     "execution_count": 9,
     "metadata": {},
     "output_type": "execute_result"
    }
   ],
   "source": [
    "from ultralytics import YOLO\n",
    "\n",
    "# **Vortrainiertes Modell laden**\n",
    "model = YOLO(\"yolov8n.pt\")  # Nutze YOLOv8 Nano als Basis\n",
    "\n",
    "def train_yolo_model():\n",
    "    \"\"\"\n",
    "    Startet das Training des YOLOv8-Modells mit Transfer Learning.\n",
    "\n",
    "    Parameter:\n",
    "    - data (str): Pfad zur `data.yaml`, die Trainings- und Validierungsdaten definiert.\n",
    "    - epochs (int): Anzahl der Epochen für das Training (höhere Werte verbessern oft die Erkennung).\n",
    "    - imgsz (int): Bildgröße in Pixeln (Standard: 640x640).\n",
    "    - batch (int): Batch-Größe pro GPU-Iteration (abhängig vom verfügbaren Speicher).\n",
    "    - workers (int): Anzahl der CPU-Threads für das Laden der Trainingsdaten.\n",
    "    - lr0 (float): Anfangswert für die Lernrate (niedriger für Transfer Learning).\n",
    "    - freeze (int): Anzahl der eingefrorenen Layer (verhindert Änderungen in den frühen Schichten).\n",
    "\n",
    "    Beschreibung:\n",
    "    - Nutzt ein vortrainiertes YOLOv8-Modell als Basis.\n",
    "    - Optimiert nur die letzten Layer für das spezifische Training.\n",
    "    - Reduziert die Rechenzeit durch Freezing der ersten Schichten.\n",
    "    \"\"\"\n",
    "    model.train(\n",
    "        data=r\"C:\\Python\\ML Seminar\\Seminararbeit WS24_25\\dataset\\data.yaml\",  # Dein YOLO-Datensatz\n",
    "        epochs=100,      # Mehr Epochen für bessere Ergebnisse\n",
    "        imgsz=640,       # Gleiche Bildgröße wie beim Training\n",
    "        batch=8,         # Falls GPU-Speicher begrenzt ist, reduziere auf 4\n",
    "        workers=4,       # CPU-Beschleunigung für Daten-Loading\n",
    "        lr0=0.001,       # Initiale Lernrate (kleiner als Standard für Transfer Learning)\n",
    "        freeze=10        # **Freezt die ersten 10 Schichten** → Spart Rechenzeit!\n",
    "    )\n",
    "\n",
    "# **Training starten**\n",
    "train_yolo_model()\n"
   ]
  },
  {
   "cell_type": "markdown",
   "id": "1824da9a-7820-45bf-b9e8-b45cb9d36783",
   "metadata": {},
   "source": [
    "# 📌 Objekterkennung mit dem trainierten YOLOv8-Modell  \n",
    "\n",
    "## 🔹 Übersicht  \n",
    "Dieser Abschnitt zeigt, wie das **trainierte YOLOv8-Modell** genutzt wird, um Objekte in einem Bild zu erkennen.  \n",
    "Das Modell wurde zuvor trainiert und wird nun zur **Bildanalyse mit Bounding Boxes** verwendet.  \n",
    "\n",
    "---\n",
    "\n",
    "## 🔹 Ablauf der Objekterkennung  \n",
    "1. **Laden des trainierten YOLOv8-Modells**  \n",
    "   - Das Modell `best.pt` aus dem Training wird geladen.  \n",
    "   - Dieses Modell enthält die optimierten Gewichte basierend auf den benutzerdefinierten Trainingsdaten.  \n",
    "\n",
    "2. **Laden eines Testbildes**  \n",
    "   - Ein einzelnes Bild wird aus dem Datensatz oder einem anderen Quellordner geladen.  \n",
    "   - Das Bild enthält Objekte, die das Modell erkennen soll.  \n",
    "\n",
    "3. **Durchführen der Vorhersage**  \n",
    "   - Das Modell wird auf das Bild angewendet (`model.predict()`).  \n",
    "   - Die erkannten Objekte werden mit Bounding Boxes dargestellt.  \n",
    "   - Das **annotierte Bild wird gespeichert** und direkt angezeigt (`save=True, show=True`).  \n",
    "\n",
    "---\n",
    "\n",
    "## 🔹 Beispiel für eine Vorhersage  \n",
    "Falls sich das trainierte Modell unter  \n",
    "`C:\\Python\\ML Seminar\\Seminararbeit WS24_25\\runs\\detect\\train22\\weights\\best.pt` befindet,  \n",
    "kann eine Objekterkennung auf einem Bild wie folgt gestartet werden:  \n",
    "\n",
    "```python\n",
    "results = model.predict(image_path, save=True, show=True)\n"
   ]
  },
  {
   "cell_type": "code",
   "execution_count": 10,
   "id": "51e75238-a92e-4a0e-be8c-9f405d6233cc",
   "metadata": {},
   "outputs": [
    {
     "name": "stdout",
     "output_type": "stream",
     "text": [
      "\n",
      "image 1/1 C:\\Python\\ML Seminar\\Seminararbeit WS24_25\\frames_output\\frame_000027_900ms.jpg: 384x640 1 Werkzeug, 265.3ms\n",
      "Speed: 11.0ms preprocess, 265.3ms inference, 2.0ms postprocess per image at shape (1, 3, 384, 640)\n",
      "Results saved to \u001b[1mruns\\detect\\predict2\u001b[0m\n"
     ]
    }
   ],
   "source": [
    "from ultralytics import YOLO\n",
    "import cv2\n",
    "\n",
    "model = YOLO(r\"C:\\Python\\ML Seminar\\Seminararbeit WS24_25\\runs\\detect\\train22\\weights\\best.pt\")\n",
    "image_path = r\"C:\\Python\\ML Seminar\\Seminararbeit WS24_25\\frames_output\\frame_000027_900ms.jpg\"\n",
    "\n",
    "results = model.predict(image_path, save=True, show=True)  # Speichert und zeigt das Bild mit Bounding Boxes\n"
   ]
  },
  {
   "cell_type": "markdown",
   "id": "fd98e220-f894-46fe-92a0-4ee5e055fe69",
   "metadata": {},
   "source": [
    "# 📌 Live-Objekterkennung in Videos mit YOLOv8  \n",
    "\n",
    "## 🔹 Übersicht  \n",
    "In diesem Abschnitt wird ein **trainiertes YOLOv8-Modell** verwendet, um Objekte in einem **Live-Video** zu erkennen und zu analysieren.  \n",
    "Die erkannten Objekte werden mit **Bounding Boxes** visualisiert und ihre Positionen samt Zeitstempel in einer **CSV-Datei gespeichert**.  \n",
    "\n",
    "---\n",
    "\n",
    "## 🔹 Ablauf der Live-Analyse  \n",
    "1. **Laden des trainierten YOLOv8-Modells**  \n",
    "   - Das zuvor trainierte Modell (`best.pt`) wird geladen.  \n",
    "   - Das Modell wurde für spezifische Objekte trainiert und erkennt diese im Video.  \n",
    "\n",
    "2. **Öffnen des Videos & Initialisierung**  \n",
    "   - Das Video wird mit **OpenCV (`cv2.VideoCapture`)** geöffnet.  \n",
    "   - Es werden die **FPS, Bildgröße und Gesamtzahl der Frames** ausgelesen.  \n",
    "\n",
    "3. **Durchführung der Objekterkennung**  \n",
    "   - Das Video wird **Frame für Frame** analysiert.  \n",
    "   - YOLO erkennt Objekte, zeichnet **Bounding Boxes** und zeigt die Wahrscheinlichkeit an.  \n",
    "   - Ein OpenCV-Fenster visualisiert das Live-Ergebnis.  \n",
    "\n",
    "4. **Speicherung der erkannten Objekte**  \n",
    "   - Für jedes erkannte Objekt werden folgende Daten gespeichert:  \n",
    "     - **Frame-Nummer**  \n",
    "     - **Zeitstempel in Sekunden**  \n",
    "     - **Objektklasse** (z. B. \"Werkzeug\", \"Fräser\")  \n",
    "     - **Mittelpunkt-Koordinaten (X, Y)**  \n",
    "   - Die gesammelten Daten werden in einem **Pandas DataFrame** gespeichert.  \n",
    "\n",
    "5. **CSV-Datei exportieren**  \n",
    "   - Nach der Analyse wird eine **CSV-Datei mit den erkannten Objekten und Positionen** gespeichert.  \n",
    "   - Diese Datei kann später für **Datenanalysen oder Bewegungsstudien** genutzt werden.  \n",
    "\n",
    "6. **Live-Visualisierung & Beenden der Analyse**  \n",
    "   - Das OpenCV-Fenster zeigt das Video mit Bounding Boxes.  \n",
    "   - Durch Drücken von **'q'** kann die Analyse beendet werden.  \n",
    "\n",
    "---\n",
    "\n",
    "## 🔹 Beispiel für CSV-Ausgabe  \n",
    "Nach der Analyse enthält die Datei `object_detections.csv` folgende Struktur:  \n"
   ]
  },
  {
   "cell_type": "code",
   "execution_count": 41,
   "id": "d1812a71-f23b-40ee-8d91-c413ace721c1",
   "metadata": {},
   "outputs": [
    {
     "name": "stdout",
     "output_type": "stream",
     "text": [
      "📹 Video geladen: 640x360 @ 30 FPS, 1603 Frames gesamt\n",
      "\n",
      "0: 384x640 1 Werkzeug, 143.6ms\n",
      "Speed: 9.0ms preprocess, 143.6ms inference, 1.0ms postprocess per image at shape (1, 3, 384, 640)\n",
      "\n",
      "0: 384x640 1 Werkzeug, 103.7ms\n",
      "Speed: 3.0ms preprocess, 103.7ms inference, 1.0ms postprocess per image at shape (1, 3, 384, 640)\n",
      "\n"
     ]
    },
    {
     "name": "stderr",
     "output_type": "stream",
     "text": [
      "C:\\Users\\vi50jepi\\AppData\\Local\\Temp\\ipykernel_9280\\3439981515.py:70: FutureWarning: The behavior of DataFrame concatenation with empty or all-NA entries is deprecated. In a future version, this will no longer exclude empty or all-NA columns when determining the result dtypes. To retain the old behavior, exclude the relevant entries before the concat operation.\n",
      "  df = pd.concat([df, pd.DataFrame(detected_objects)], ignore_index=True)\n"
     ]
    },
    {
     "name": "stdout",
     "output_type": "stream",
     "text": [
      "0: 384x640 1 Werkzeug, 123.7ms\n",
      "Speed: 3.0ms preprocess, 123.7ms inference, 3.0ms postprocess per image at shape (1, 3, 384, 640)\n",
      "\n",
      "0: 384x640 1 Werkzeug, 102.7ms\n",
      "Speed: 3.0ms preprocess, 102.7ms inference, 1.0ms postprocess per image at shape (1, 3, 384, 640)\n",
      "\n",
      "0: 384x640 1 Werkzeug, 106.7ms\n",
      "Speed: 2.0ms preprocess, 106.7ms inference, 1.0ms postprocess per image at shape (1, 3, 384, 640)\n",
      "\n",
      "0: 384x640 1 Werkzeug, 107.7ms\n",
      "Speed: 2.0ms preprocess, 107.7ms inference, 1.0ms postprocess per image at shape (1, 3, 384, 640)\n",
      "\n",
      "0: 384x640 1 Werkzeug, 104.7ms\n",
      "Speed: 3.0ms preprocess, 104.7ms inference, 0.0ms postprocess per image at shape (1, 3, 384, 640)\n",
      "\n",
      "0: 384x640 1 Werkzeug, 107.7ms\n",
      "Speed: 2.0ms preprocess, 107.7ms inference, 0.0ms postprocess per image at shape (1, 3, 384, 640)\n",
      "\n",
      "0: 384x640 1 Werkzeug, 105.7ms\n",
      "Speed: 4.0ms preprocess, 105.7ms inference, 1.0ms postprocess per image at shape (1, 3, 384, 640)\n",
      "\n",
      "0: 384x640 1 Werkzeug, 103.7ms\n",
      "Speed: 3.0ms preprocess, 103.7ms inference, 1.0ms postprocess per image at shape (1, 3, 384, 640)\n",
      "\n",
      "0: 384x640 1 Werkzeug, 117.7ms\n",
      "Speed: 3.0ms preprocess, 117.7ms inference, 1.0ms postprocess per image at shape (1, 3, 384, 640)\n",
      "\n",
      "0: 384x640 1 Werkzeug, 109.7ms\n",
      "Speed: 2.0ms preprocess, 109.7ms inference, 1.0ms postprocess per image at shape (1, 3, 384, 640)\n",
      "\n",
      "0: 384x640 1 Werkzeug, 126.7ms\n",
      "Speed: 2.0ms preprocess, 126.7ms inference, 1.0ms postprocess per image at shape (1, 3, 384, 640)\n",
      "\n",
      "0: 384x640 1 Werkzeug, 129.7ms\n",
      "Speed: 2.0ms preprocess, 129.7ms inference, 2.0ms postprocess per image at shape (1, 3, 384, 640)\n",
      "\n",
      "0: 384x640 1 Werkzeug, 121.7ms\n",
      "Speed: 3.0ms preprocess, 121.7ms inference, 1.0ms postprocess per image at shape (1, 3, 384, 640)\n",
      "\n",
      "0: 384x640 1 Werkzeug, 113.7ms\n",
      "Speed: 2.0ms preprocess, 113.7ms inference, 1.0ms postprocess per image at shape (1, 3, 384, 640)\n",
      "\n",
      "0: 384x640 1 Werkzeug, 125.7ms\n",
      "Speed: 3.0ms preprocess, 125.7ms inference, 1.0ms postprocess per image at shape (1, 3, 384, 640)\n",
      "\n",
      "0: 384x640 1 Werkzeug, 105.7ms\n",
      "Speed: 3.0ms preprocess, 105.7ms inference, 1.0ms postprocess per image at shape (1, 3, 384, 640)\n",
      "\n",
      "0: 384x640 1 Werkzeug, 115.7ms\n",
      "Speed: 2.0ms preprocess, 115.7ms inference, 1.0ms postprocess per image at shape (1, 3, 384, 640)\n",
      "\n",
      "0: 384x640 1 Werkzeug, 104.7ms\n",
      "Speed: 3.0ms preprocess, 104.7ms inference, 1.0ms postprocess per image at shape (1, 3, 384, 640)\n",
      "\n",
      "0: 384x640 1 Werkzeug, 106.7ms\n",
      "Speed: 2.0ms preprocess, 106.7ms inference, 1.0ms postprocess per image at shape (1, 3, 384, 640)\n",
      "\n",
      "0: 384x640 1 Werkzeug, 106.7ms\n",
      "Speed: 2.0ms preprocess, 106.7ms inference, 1.0ms postprocess per image at shape (1, 3, 384, 640)\n",
      "\n",
      "0: 384x640 1 Werkzeug, 106.7ms\n",
      "Speed: 2.0ms preprocess, 106.7ms inference, 1.0ms postprocess per image at shape (1, 3, 384, 640)\n",
      "\n",
      "0: 384x640 1 Werkzeug, 111.7ms\n",
      "Speed: 3.0ms preprocess, 111.7ms inference, 1.0ms postprocess per image at shape (1, 3, 384, 640)\n",
      "\n",
      "0: 384x640 1 Werkzeug, 107.7ms\n",
      "Speed: 2.0ms preprocess, 107.7ms inference, 1.0ms postprocess per image at shape (1, 3, 384, 640)\n",
      "\n",
      "0: 384x640 1 Werkzeug, 106.7ms\n",
      "Speed: 3.0ms preprocess, 106.7ms inference, 1.0ms postprocess per image at shape (1, 3, 384, 640)\n",
      "\n",
      "0: 384x640 1 Werkzeug, 116.7ms\n",
      "Speed: 3.0ms preprocess, 116.7ms inference, 2.0ms postprocess per image at shape (1, 3, 384, 640)\n",
      "\n",
      "0: 384x640 1 Werkzeug, 113.7ms\n",
      "Speed: 2.0ms preprocess, 113.7ms inference, 1.0ms postprocess per image at shape (1, 3, 384, 640)\n",
      "\n",
      "0: 384x640 1 Werkzeug, 113.7ms\n",
      "Speed: 3.0ms preprocess, 113.7ms inference, 1.0ms postprocess per image at shape (1, 3, 384, 640)\n",
      "\n",
      "0: 384x640 1 Werkzeug, 111.7ms\n",
      "Speed: 2.0ms preprocess, 111.7ms inference, 1.0ms postprocess per image at shape (1, 3, 384, 640)\n",
      "\n",
      "0: 384x640 1 Werkzeug, 113.7ms\n",
      "Speed: 3.0ms preprocess, 113.7ms inference, 1.0ms postprocess per image at shape (1, 3, 384, 640)\n",
      "\n",
      "0: 384x640 1 Werkzeug, 109.7ms\n",
      "Speed: 2.0ms preprocess, 109.7ms inference, 1.0ms postprocess per image at shape (1, 3, 384, 640)\n",
      "\n",
      "0: 384x640 1 Werkzeug, 113.7ms\n",
      "Speed: 3.0ms preprocess, 113.7ms inference, 0.0ms postprocess per image at shape (1, 3, 384, 640)\n",
      "\n",
      "0: 384x640 1 Werkzeug, 110.7ms\n",
      "Speed: 2.0ms preprocess, 110.7ms inference, 0.0ms postprocess per image at shape (1, 3, 384, 640)\n",
      "\n",
      "0: 384x640 1 Werkzeug, 119.7ms\n",
      "Speed: 3.0ms preprocess, 119.7ms inference, 1.0ms postprocess per image at shape (1, 3, 384, 640)\n",
      "\n",
      "0: 384x640 1 Werkzeug, 108.7ms\n",
      "Speed: 2.0ms preprocess, 108.7ms inference, 2.0ms postprocess per image at shape (1, 3, 384, 640)\n",
      "\n",
      "0: 384x640 1 Werkzeug, 118.7ms\n",
      "Speed: 3.0ms preprocess, 118.7ms inference, 1.0ms postprocess per image at shape (1, 3, 384, 640)\n",
      "\n",
      "0: 384x640 1 Werkzeug, 103.7ms\n",
      "Speed: 3.0ms preprocess, 103.7ms inference, 1.0ms postprocess per image at shape (1, 3, 384, 640)\n",
      "\n",
      "0: 384x640 1 Werkzeug, 107.7ms\n",
      "Speed: 2.0ms preprocess, 107.7ms inference, 1.0ms postprocess per image at shape (1, 3, 384, 640)\n",
      "\n",
      "0: 384x640 1 Werkzeug, 100.7ms\n",
      "Speed: 4.0ms preprocess, 100.7ms inference, 1.0ms postprocess per image at shape (1, 3, 384, 640)\n",
      "\n",
      "0: 384x640 1 Werkzeug, 136.6ms\n",
      "Speed: 3.0ms preprocess, 136.6ms inference, 1.0ms postprocess per image at shape (1, 3, 384, 640)\n",
      "\n",
      "0: 384x640 1 Werkzeug, 104.7ms\n",
      "Speed: 2.0ms preprocess, 104.7ms inference, 1.0ms postprocess per image at shape (1, 3, 384, 640)\n",
      "\n",
      "0: 384x640 1 Werkzeug, 118.7ms\n",
      "Speed: 4.0ms preprocess, 118.7ms inference, 1.0ms postprocess per image at shape (1, 3, 384, 640)\n",
      "\n",
      "0: 384x640 1 Werkzeug, 103.7ms\n",
      "Speed: 3.0ms preprocess, 103.7ms inference, 1.0ms postprocess per image at shape (1, 3, 384, 640)\n",
      "\n",
      "0: 384x640 1 Werkzeug, 117.7ms\n",
      "Speed: 3.0ms preprocess, 117.7ms inference, 1.0ms postprocess per image at shape (1, 3, 384, 640)\n",
      "\n",
      "0: 384x640 1 Werkzeug, 104.7ms\n",
      "Speed: 3.0ms preprocess, 104.7ms inference, 1.0ms postprocess per image at shape (1, 3, 384, 640)\n",
      "\n",
      "0: 384x640 1 Werkzeug, 105.7ms\n",
      "Speed: 3.0ms preprocess, 105.7ms inference, 1.0ms postprocess per image at shape (1, 3, 384, 640)\n",
      "\n",
      "0: 384x640 1 Werkzeug, 105.7ms\n",
      "Speed: 2.0ms preprocess, 105.7ms inference, 1.0ms postprocess per image at shape (1, 3, 384, 640)\n",
      "\n",
      "0: 384x640 1 Werkzeug, 110.7ms\n",
      "Speed: 3.0ms preprocess, 110.7ms inference, 1.0ms postprocess per image at shape (1, 3, 384, 640)\n",
      "\n",
      "0: 384x640 1 Werkzeug, 104.7ms\n",
      "Speed: 3.0ms preprocess, 104.7ms inference, 1.0ms postprocess per image at shape (1, 3, 384, 640)\n",
      "\n",
      "0: 384x640 1 Werkzeug, 120.7ms\n",
      "Speed: 3.0ms preprocess, 120.7ms inference, 1.0ms postprocess per image at shape (1, 3, 384, 640)\n",
      "\n",
      "0: 384x640 1 Werkzeug, 109.7ms\n",
      "Speed: 2.0ms preprocess, 109.7ms inference, 0.0ms postprocess per image at shape (1, 3, 384, 640)\n",
      "\n",
      "0: 384x640 1 Werkzeug, 106.7ms\n",
      "Speed: 2.0ms preprocess, 106.7ms inference, 1.0ms postprocess per image at shape (1, 3, 384, 640)\n",
      "\n",
      "0: 384x640 1 Werkzeug, 104.7ms\n",
      "Speed: 3.0ms preprocess, 104.7ms inference, 1.0ms postprocess per image at shape (1, 3, 384, 640)\n",
      "\n",
      "0: 384x640 1 Werkzeug, 105.7ms\n",
      "Speed: 2.0ms preprocess, 105.7ms inference, 1.0ms postprocess per image at shape (1, 3, 384, 640)\n",
      "\n",
      "0: 384x640 1 Werkzeug, 106.7ms\n",
      "Speed: 4.0ms preprocess, 106.7ms inference, 1.0ms postprocess per image at shape (1, 3, 384, 640)\n",
      "\n",
      "0: 384x640 1 Werkzeug, 107.7ms\n",
      "Speed: 2.0ms preprocess, 107.7ms inference, 0.0ms postprocess per image at shape (1, 3, 384, 640)\n",
      "\n",
      "0: 384x640 1 Werkzeug, 114.7ms\n",
      "Speed: 4.0ms preprocess, 114.7ms inference, 1.0ms postprocess per image at shape (1, 3, 384, 640)\n",
      "\n",
      "0: 384x640 1 Werkzeug, 120.7ms\n",
      "Speed: 4.0ms preprocess, 120.7ms inference, 1.0ms postprocess per image at shape (1, 3, 384, 640)\n",
      "\n",
      "0: 384x640 1 Werkzeug, 119.7ms\n",
      "Speed: 12.0ms preprocess, 119.7ms inference, 2.0ms postprocess per image at shape (1, 3, 384, 640)\n",
      "\n",
      "0: 384x640 1 Werkzeug, 105.7ms\n",
      "Speed: 3.0ms preprocess, 105.7ms inference, 1.0ms postprocess per image at shape (1, 3, 384, 640)\n",
      "\n",
      "0: 384x640 1 Werkzeug, 101.7ms\n",
      "Speed: 3.0ms preprocess, 101.7ms inference, 1.0ms postprocess per image at shape (1, 3, 384, 640)\n",
      "\n",
      "0: 384x640 1 Werkzeug, 106.7ms\n",
      "Speed: 2.0ms preprocess, 106.7ms inference, 2.0ms postprocess per image at shape (1, 3, 384, 640)\n",
      "\n",
      "0: 384x640 1 Werkzeug, 113.7ms\n",
      "Speed: 3.0ms preprocess, 113.7ms inference, 1.0ms postprocess per image at shape (1, 3, 384, 640)\n",
      "\n",
      "0: 384x640 1 Werkzeug, 149.6ms\n",
      "Speed: 3.0ms preprocess, 149.6ms inference, 1.0ms postprocess per image at shape (1, 3, 384, 640)\n",
      "\n",
      "0: 384x640 1 Werkzeug, 118.7ms\n",
      "Speed: 3.0ms preprocess, 118.7ms inference, 1.0ms postprocess per image at shape (1, 3, 384, 640)\n",
      "\n",
      "0: 384x640 1 Werkzeug, 116.7ms\n",
      "Speed: 2.0ms preprocess, 116.7ms inference, 1.0ms postprocess per image at shape (1, 3, 384, 640)\n",
      "\n",
      "0: 384x640 1 Werkzeug, 107.7ms\n",
      "Speed: 3.0ms preprocess, 107.7ms inference, 1.0ms postprocess per image at shape (1, 3, 384, 640)\n",
      "\n",
      "0: 384x640 1 Werkzeug, 99.7ms\n",
      "Speed: 3.0ms preprocess, 99.7ms inference, 1.0ms postprocess per image at shape (1, 3, 384, 640)\n",
      "\n",
      "0: 384x640 1 Werkzeug, 99.7ms\n",
      "Speed: 2.0ms preprocess, 99.7ms inference, 1.0ms postprocess per image at shape (1, 3, 384, 640)\n",
      "\n",
      "0: 384x640 1 Werkzeug, 109.7ms\n",
      "Speed: 3.0ms preprocess, 109.7ms inference, 1.0ms postprocess per image at shape (1, 3, 384, 640)\n",
      "\n",
      "0: 384x640 1 Werkzeug, 104.7ms\n",
      "Speed: 2.0ms preprocess, 104.7ms inference, 1.0ms postprocess per image at shape (1, 3, 384, 640)\n",
      "\n",
      "0: 384x640 1 Werkzeug, 106.7ms\n",
      "Speed: 2.0ms preprocess, 106.7ms inference, 2.0ms postprocess per image at shape (1, 3, 384, 640)\n",
      "\n",
      "0: 384x640 1 Werkzeug, 104.7ms\n",
      "Speed: 3.0ms preprocess, 104.7ms inference, 1.0ms postprocess per image at shape (1, 3, 384, 640)\n",
      "\n",
      "0: 384x640 1 Werkzeug, 110.7ms\n",
      "Speed: 3.0ms preprocess, 110.7ms inference, 1.0ms postprocess per image at shape (1, 3, 384, 640)\n",
      "\n",
      "0: 384x640 1 Werkzeug, 125.7ms\n",
      "Speed: 4.0ms preprocess, 125.7ms inference, 1.0ms postprocess per image at shape (1, 3, 384, 640)\n",
      "\n",
      "0: 384x640 1 Werkzeug, 105.7ms\n",
      "Speed: 2.0ms preprocess, 105.7ms inference, 1.0ms postprocess per image at shape (1, 3, 384, 640)\n",
      "\n",
      "0: 384x640 1 Werkzeug, 103.7ms\n",
      "Speed: 2.0ms preprocess, 103.7ms inference, 0.0ms postprocess per image at shape (1, 3, 384, 640)\n",
      "\n",
      "0: 384x640 1 Werkzeug, 113.7ms\n",
      "Speed: 3.0ms preprocess, 113.7ms inference, 2.0ms postprocess per image at shape (1, 3, 384, 640)\n",
      "\n",
      "0: 384x640 1 Werkzeug, 104.7ms\n",
      "Speed: 2.0ms preprocess, 104.7ms inference, 1.0ms postprocess per image at shape (1, 3, 384, 640)\n",
      "\n",
      "0: 384x640 1 Werkzeug, 109.7ms\n",
      "Speed: 4.0ms preprocess, 109.7ms inference, 1.0ms postprocess per image at shape (1, 3, 384, 640)\n",
      "\n",
      "0: 384x640 1 Werkzeug, 107.7ms\n",
      "Speed: 3.0ms preprocess, 107.7ms inference, 1.0ms postprocess per image at shape (1, 3, 384, 640)\n",
      "\n",
      "0: 384x640 1 Werkzeug, 104.7ms\n",
      "Speed: 3.0ms preprocess, 104.7ms inference, 2.0ms postprocess per image at shape (1, 3, 384, 640)\n",
      "\n",
      "0: 384x640 1 Werkzeug, 110.7ms\n",
      "Speed: 2.0ms preprocess, 110.7ms inference, 1.0ms postprocess per image at shape (1, 3, 384, 640)\n",
      "\n",
      "0: 384x640 1 Werkzeug, 105.7ms\n",
      "Speed: 3.0ms preprocess, 105.7ms inference, 1.0ms postprocess per image at shape (1, 3, 384, 640)\n",
      "\n",
      "0: 384x640 1 Werkzeug, 103.7ms\n",
      "Speed: 3.0ms preprocess, 103.7ms inference, 1.0ms postprocess per image at shape (1, 3, 384, 640)\n",
      "\n",
      "0: 384x640 1 Werkzeug, 104.7ms\n",
      "Speed: 2.0ms preprocess, 104.7ms inference, 1.0ms postprocess per image at shape (1, 3, 384, 640)\n",
      "\n",
      "0: 384x640 1 Werkzeug, 103.7ms\n",
      "Speed: 3.0ms preprocess, 103.7ms inference, 1.0ms postprocess per image at shape (1, 3, 384, 640)\n",
      "\n",
      "0: 384x640 1 Werkzeug, 101.7ms\n",
      "Speed: 2.0ms preprocess, 101.7ms inference, 1.0ms postprocess per image at shape (1, 3, 384, 640)\n",
      "\n",
      "0: 384x640 1 Werkzeug, 109.7ms\n",
      "Speed: 3.0ms preprocess, 109.7ms inference, 2.0ms postprocess per image at shape (1, 3, 384, 640)\n",
      "\n",
      "0: 384x640 1 Werkzeug, 104.7ms\n",
      "Speed: 3.0ms preprocess, 104.7ms inference, 1.0ms postprocess per image at shape (1, 3, 384, 640)\n",
      "\n",
      "0: 384x640 1 Werkzeug, 120.7ms\n",
      "Speed: 3.0ms preprocess, 120.7ms inference, 1.0ms postprocess per image at shape (1, 3, 384, 640)\n",
      "\n",
      "0: 384x640 1 Werkzeug, 106.7ms\n",
      "Speed: 2.0ms preprocess, 106.7ms inference, 1.0ms postprocess per image at shape (1, 3, 384, 640)\n",
      "\n",
      "0: 384x640 1 Werkzeug, 113.7ms\n",
      "Speed: 3.0ms preprocess, 113.7ms inference, 1.0ms postprocess per image at shape (1, 3, 384, 640)\n",
      "\n",
      "0: 384x640 1 Werkzeug, 105.7ms\n",
      "Speed: 2.0ms preprocess, 105.7ms inference, 1.0ms postprocess per image at shape (1, 3, 384, 640)\n",
      "\n",
      "0: 384x640 1 Werkzeug, 104.7ms\n",
      "Speed: 3.0ms preprocess, 104.7ms inference, 1.0ms postprocess per image at shape (1, 3, 384, 640)\n",
      "\n",
      "0: 384x640 1 Werkzeug, 104.7ms\n",
      "Speed: 4.0ms preprocess, 104.7ms inference, 1.0ms postprocess per image at shape (1, 3, 384, 640)\n",
      "\n",
      "0: 384x640 1 Werkzeug, 107.7ms\n",
      "Speed: 2.0ms preprocess, 107.7ms inference, 1.0ms postprocess per image at shape (1, 3, 384, 640)\n",
      "\n",
      "0: 384x640 1 Werkzeug, 113.7ms\n",
      "Speed: 3.0ms preprocess, 113.7ms inference, 0.0ms postprocess per image at shape (1, 3, 384, 640)\n",
      "\n",
      "0: 384x640 1 Werkzeug, 118.7ms\n",
      "Speed: 2.0ms preprocess, 118.7ms inference, 1.0ms postprocess per image at shape (1, 3, 384, 640)\n",
      "\n",
      "0: 384x640 1 Werkzeug, 118.7ms\n",
      "Speed: 4.0ms preprocess, 118.7ms inference, 0.0ms postprocess per image at shape (1, 3, 384, 640)\n",
      "\n",
      "0: 384x640 1 Werkzeug, 104.7ms\n",
      "Speed: 2.0ms preprocess, 104.7ms inference, 1.0ms postprocess per image at shape (1, 3, 384, 640)\n",
      "\n",
      "0: 384x640 1 Werkzeug, 110.7ms\n",
      "Speed: 3.0ms preprocess, 110.7ms inference, 1.0ms postprocess per image at shape (1, 3, 384, 640)\n",
      "\n",
      "0: 384x640 1 Werkzeug, 112.7ms\n",
      "Speed: 3.0ms preprocess, 112.7ms inference, 1.0ms postprocess per image at shape (1, 3, 384, 640)\n",
      "\n",
      "0: 384x640 1 Werkzeug, 118.7ms\n",
      "Speed: 4.0ms preprocess, 118.7ms inference, 1.0ms postprocess per image at shape (1, 3, 384, 640)\n",
      "\n",
      "0: 384x640 1 Werkzeug, 108.7ms\n",
      "Speed: 2.0ms preprocess, 108.7ms inference, 1.0ms postprocess per image at shape (1, 3, 384, 640)\n",
      "\n",
      "0: 384x640 1 Werkzeug, 122.7ms\n",
      "Speed: 3.0ms preprocess, 122.7ms inference, 1.0ms postprocess per image at shape (1, 3, 384, 640)\n",
      "\n",
      "0: 384x640 1 Werkzeug, 103.7ms\n",
      "Speed: 3.0ms preprocess, 103.7ms inference, 1.0ms postprocess per image at shape (1, 3, 384, 640)\n",
      "\n",
      "0: 384x640 1 Werkzeug, 125.7ms\n",
      "Speed: 4.0ms preprocess, 125.7ms inference, 1.0ms postprocess per image at shape (1, 3, 384, 640)\n",
      "\n",
      "0: 384x640 1 Werkzeug, 139.7ms\n",
      "Speed: 2.0ms preprocess, 139.7ms inference, 1.0ms postprocess per image at shape (1, 3, 384, 640)\n",
      "\n",
      "0: 384x640 1 Werkzeug, 108.7ms\n",
      "Speed: 3.0ms preprocess, 108.7ms inference, 0.0ms postprocess per image at shape (1, 3, 384, 640)\n",
      "\n",
      "0: 384x640 1 Werkzeug, 110.7ms\n",
      "Speed: 2.0ms preprocess, 110.7ms inference, 1.0ms postprocess per image at shape (1, 3, 384, 640)\n",
      "\n",
      "0: 384x640 1 Werkzeug, 119.7ms\n",
      "Speed: 9.0ms preprocess, 119.7ms inference, 1.0ms postprocess per image at shape (1, 3, 384, 640)\n",
      "\n",
      "0: 384x640 1 Werkzeug, 109.7ms\n",
      "Speed: 2.0ms preprocess, 109.7ms inference, 1.0ms postprocess per image at shape (1, 3, 384, 640)\n",
      "\n",
      "0: 384x640 1 Werkzeug, 107.7ms\n",
      "Speed: 2.0ms preprocess, 107.7ms inference, 1.0ms postprocess per image at shape (1, 3, 384, 640)\n",
      "\n",
      "0: 384x640 1 Werkzeug, 103.7ms\n",
      "Speed: 2.0ms preprocess, 103.7ms inference, 1.0ms postprocess per image at shape (1, 3, 384, 640)\n",
      "\n",
      "0: 384x640 1 Werkzeug, 111.7ms\n",
      "Speed: 3.0ms preprocess, 111.7ms inference, 1.0ms postprocess per image at shape (1, 3, 384, 640)\n",
      "\n",
      "0: 384x640 1 Werkzeug, 109.5ms\n",
      "Speed: 3.0ms preprocess, 109.5ms inference, 1.0ms postprocess per image at shape (1, 3, 384, 640)\n",
      "\n",
      "0: 384x640 1 Werkzeug, 110.7ms\n",
      "Speed: 1.6ms preprocess, 110.7ms inference, 1.0ms postprocess per image at shape (1, 3, 384, 640)\n",
      "\n",
      "0: 384x640 1 Werkzeug, 108.9ms\n",
      "Speed: 2.0ms preprocess, 108.9ms inference, 1.0ms postprocess per image at shape (1, 3, 384, 640)\n",
      "\n",
      "0: 384x640 1 Werkzeug, 110.3ms\n",
      "Speed: 2.7ms preprocess, 110.3ms inference, 0.0ms postprocess per image at shape (1, 3, 384, 640)\n",
      "\n",
      "0: 384x640 1 Werkzeug, 116.7ms\n",
      "Speed: 2.4ms preprocess, 116.7ms inference, 1.0ms postprocess per image at shape (1, 3, 384, 640)\n",
      "\n",
      "0: 384x640 1 Werkzeug, 106.9ms\n",
      "Speed: 2.5ms preprocess, 106.9ms inference, 2.0ms postprocess per image at shape (1, 3, 384, 640)\n",
      "\n",
      "0: 384x640 1 Werkzeug, 106.7ms\n",
      "Speed: 2.0ms preprocess, 106.7ms inference, 1.0ms postprocess per image at shape (1, 3, 384, 640)\n",
      "\n",
      "0: 384x640 1 Werkzeug, 115.9ms\n",
      "Speed: 2.6ms preprocess, 115.9ms inference, 1.2ms postprocess per image at shape (1, 3, 384, 640)\n",
      "\n",
      "0: 384x640 1 Werkzeug, 108.7ms\n",
      "Speed: 2.0ms preprocess, 108.7ms inference, 0.0ms postprocess per image at shape (1, 3, 384, 640)\n",
      "\n",
      "0: 384x640 1 Werkzeug, 109.6ms\n",
      "Speed: 2.0ms preprocess, 109.6ms inference, 1.0ms postprocess per image at shape (1, 3, 384, 640)\n",
      "\n",
      "0: 384x640 1 Werkzeug, 108.3ms\n",
      "Speed: 2.0ms preprocess, 108.3ms inference, 1.0ms postprocess per image at shape (1, 3, 384, 640)\n",
      "\n",
      "0: 384x640 1 Werkzeug, 106.2ms\n",
      "Speed: 2.5ms preprocess, 106.2ms inference, 1.0ms postprocess per image at shape (1, 3, 384, 640)\n",
      "\n",
      "0: 384x640 1 Werkzeug, 110.3ms\n",
      "Speed: 2.0ms preprocess, 110.3ms inference, 0.0ms postprocess per image at shape (1, 3, 384, 640)\n",
      "\n",
      "0: 384x640 1 Werkzeug, 107.6ms\n",
      "Speed: 2.7ms preprocess, 107.6ms inference, 0.0ms postprocess per image at shape (1, 3, 384, 640)\n",
      "\n",
      "0: 384x640 1 Werkzeug, 107.8ms\n",
      "Speed: 2.8ms preprocess, 107.8ms inference, 1.0ms postprocess per image at shape (1, 3, 384, 640)\n",
      "\n",
      "0: 384x640 1 Werkzeug, 117.0ms\n",
      "Speed: 3.0ms preprocess, 117.0ms inference, 1.0ms postprocess per image at shape (1, 3, 384, 640)\n",
      "\n",
      "0: 384x640 1 Werkzeug, 117.4ms\n",
      "Speed: 3.0ms preprocess, 117.4ms inference, 1.0ms postprocess per image at shape (1, 3, 384, 640)\n",
      "\n",
      "0: 384x640 1 Werkzeug, 112.2ms\n",
      "Speed: 2.0ms preprocess, 112.2ms inference, 1.0ms postprocess per image at shape (1, 3, 384, 640)\n",
      "\n",
      "0: 384x640 1 Werkzeug, 110.8ms\n",
      "Speed: 2.0ms preprocess, 110.8ms inference, 2.0ms postprocess per image at shape (1, 3, 384, 640)\n",
      "\n",
      "0: 384x640 1 Werkzeug, 134.7ms\n",
      "Speed: 3.2ms preprocess, 134.7ms inference, 0.6ms postprocess per image at shape (1, 3, 384, 640)\n",
      "\n",
      "0: 384x640 1 Werkzeug, 113.7ms\n",
      "Speed: 2.0ms preprocess, 113.7ms inference, 1.1ms postprocess per image at shape (1, 3, 384, 640)\n",
      "\n",
      "0: 384x640 1 Werkzeug, 107.8ms\n",
      "Speed: 3.0ms preprocess, 107.8ms inference, 1.0ms postprocess per image at shape (1, 3, 384, 640)\n",
      "\n",
      "0: 384x640 1 Werkzeug, 106.0ms\n",
      "Speed: 2.0ms preprocess, 106.0ms inference, 2.0ms postprocess per image at shape (1, 3, 384, 640)\n",
      "\n",
      "0: 384x640 1 Werkzeug, 113.2ms\n",
      "Speed: 2.8ms preprocess, 113.2ms inference, 1.0ms postprocess per image at shape (1, 3, 384, 640)\n",
      "\n",
      "0: 384x640 1 Werkzeug, 115.7ms\n",
      "Speed: 3.0ms preprocess, 115.7ms inference, 1.0ms postprocess per image at shape (1, 3, 384, 640)\n",
      "\n",
      "0: 384x640 1 Werkzeug, 109.3ms\n",
      "Speed: 2.7ms preprocess, 109.3ms inference, 1.0ms postprocess per image at shape (1, 3, 384, 640)\n",
      "\n",
      "0: 384x640 1 Werkzeug, 101.0ms\n",
      "Speed: 3.7ms preprocess, 101.0ms inference, 1.1ms postprocess per image at shape (1, 3, 384, 640)\n",
      "\n",
      "0: 384x640 1 Werkzeug, 103.1ms\n",
      "Speed: 2.4ms preprocess, 103.1ms inference, 1.0ms postprocess per image at shape (1, 3, 384, 640)\n",
      "\n",
      "0: 384x640 1 Werkzeug, 105.7ms\n",
      "Speed: 1.7ms preprocess, 105.7ms inference, 1.0ms postprocess per image at shape (1, 3, 384, 640)\n",
      "\n",
      "0: 384x640 1 Werkzeug, 106.9ms\n",
      "Speed: 2.6ms preprocess, 106.9ms inference, 1.0ms postprocess per image at shape (1, 3, 384, 640)\n",
      "\n",
      "0: 384x640 1 Werkzeug, 108.5ms\n",
      "Speed: 2.2ms preprocess, 108.5ms inference, 0.0ms postprocess per image at shape (1, 3, 384, 640)\n",
      "\n",
      "0: 384x640 1 Werkzeug, 104.4ms\n",
      "Speed: 2.0ms preprocess, 104.4ms inference, 1.5ms postprocess per image at shape (1, 3, 384, 640)\n",
      "\n",
      "0: 384x640 1 Werkzeug, 119.4ms\n",
      "Speed: 1.7ms preprocess, 119.4ms inference, 1.0ms postprocess per image at shape (1, 3, 384, 640)\n",
      "\n",
      "0: 384x640 1 Werkzeug, 107.3ms\n",
      "Speed: 2.0ms preprocess, 107.3ms inference, 1.0ms postprocess per image at shape (1, 3, 384, 640)\n",
      "\n",
      "0: 384x640 1 Werkzeug, 113.2ms\n",
      "Speed: 2.0ms preprocess, 113.2ms inference, 1.0ms postprocess per image at shape (1, 3, 384, 640)\n",
      "\n",
      "0: 384x640 1 Werkzeug, 110.7ms\n",
      "Speed: 3.0ms preprocess, 110.7ms inference, 1.0ms postprocess per image at shape (1, 3, 384, 640)\n",
      "\n",
      "0: 384x640 1 Werkzeug, 109.2ms\n",
      "Speed: 3.0ms preprocess, 109.2ms inference, 1.0ms postprocess per image at shape (1, 3, 384, 640)\n",
      "\n",
      "0: 384x640 1 Werkzeug, 100.9ms\n",
      "Speed: 3.0ms preprocess, 100.9ms inference, 1.0ms postprocess per image at shape (1, 3, 384, 640)\n",
      "\n",
      "0: 384x640 1 Werkzeug, 128.4ms\n",
      "Speed: 3.4ms preprocess, 128.4ms inference, 1.0ms postprocess per image at shape (1, 3, 384, 640)\n",
      "\n",
      "0: 384x640 1 Werkzeug, 126.2ms\n",
      "Speed: 2.0ms preprocess, 126.2ms inference, 1.0ms postprocess per image at shape (1, 3, 384, 640)\n",
      "\n",
      "0: 384x640 1 Werkzeug, 140.0ms\n",
      "Speed: 2.0ms preprocess, 140.0ms inference, 1.0ms postprocess per image at shape (1, 3, 384, 640)\n",
      "\n",
      "0: 384x640 1 Werkzeug, 119.9ms\n",
      "Speed: 2.2ms preprocess, 119.9ms inference, 1.0ms postprocess per image at shape (1, 3, 384, 640)\n",
      "\n",
      "0: 384x640 1 Werkzeug, 125.5ms\n",
      "Speed: 2.1ms preprocess, 125.5ms inference, 1.0ms postprocess per image at shape (1, 3, 384, 640)\n",
      "\n",
      "0: 384x640 1 Werkzeug, 107.8ms\n",
      "Speed: 2.0ms preprocess, 107.8ms inference, 1.0ms postprocess per image at shape (1, 3, 384, 640)\n",
      "\n",
      "0: 384x640 1 Werkzeug, 107.5ms\n",
      "Speed: 2.2ms preprocess, 107.5ms inference, 1.0ms postprocess per image at shape (1, 3, 384, 640)\n",
      "\n",
      "0: 384x640 1 Werkzeug, 109.9ms\n",
      "Speed: 2.0ms preprocess, 109.9ms inference, 2.0ms postprocess per image at shape (1, 3, 384, 640)\n",
      "\n",
      "0: 384x640 1 Werkzeug, 109.0ms\n",
      "Speed: 1.8ms preprocess, 109.0ms inference, 1.0ms postprocess per image at shape (1, 3, 384, 640)\n",
      "\n",
      "0: 384x640 1 Werkzeug, 353.9ms\n",
      "Speed: 1.7ms preprocess, 353.9ms inference, 0.0ms postprocess per image at shape (1, 3, 384, 640)\n",
      "\n",
      "0: 384x640 1 Werkzeug, 109.4ms\n",
      "Speed: 4.0ms preprocess, 109.4ms inference, 0.0ms postprocess per image at shape (1, 3, 384, 640)\n",
      "\n",
      "0: 384x640 1 Werkzeug, 120.0ms\n",
      "Speed: 3.4ms preprocess, 120.0ms inference, 1.0ms postprocess per image at shape (1, 3, 384, 640)\n",
      "\n",
      "0: 384x640 1 Werkzeug, 116.2ms\n",
      "Speed: 3.0ms preprocess, 116.2ms inference, 1.0ms postprocess per image at shape (1, 3, 384, 640)\n",
      "\n",
      "0: 384x640 1 Werkzeug, 115.4ms\n",
      "Speed: 2.5ms preprocess, 115.4ms inference, 1.0ms postprocess per image at shape (1, 3, 384, 640)\n",
      "\n",
      "0: 384x640 1 Werkzeug, 107.6ms\n",
      "Speed: 2.0ms preprocess, 107.6ms inference, 1.0ms postprocess per image at shape (1, 3, 384, 640)\n",
      "\n",
      "0: 384x640 1 Werkzeug, 114.2ms\n",
      "Speed: 3.7ms preprocess, 114.2ms inference, 1.0ms postprocess per image at shape (1, 3, 384, 640)\n",
      "\n",
      "0: 384x640 1 Werkzeug, 125.7ms\n",
      "Speed: 2.8ms preprocess, 125.7ms inference, 1.0ms postprocess per image at shape (1, 3, 384, 640)\n",
      "\n",
      "0: 384x640 1 Werkzeug, 108.4ms\n",
      "Speed: 2.0ms preprocess, 108.4ms inference, 1.0ms postprocess per image at shape (1, 3, 384, 640)\n",
      "\n",
      "0: 384x640 1 Werkzeug, 105.3ms\n",
      "Speed: 3.0ms preprocess, 105.3ms inference, 1.0ms postprocess per image at shape (1, 3, 384, 640)\n",
      "\n",
      "0: 384x640 1 Werkzeug, 105.3ms\n",
      "Speed: 3.0ms preprocess, 105.3ms inference, 1.0ms postprocess per image at shape (1, 3, 384, 640)\n",
      "\n",
      "0: 384x640 1 Werkzeug, 111.9ms\n",
      "Speed: 4.0ms preprocess, 111.9ms inference, 0.2ms postprocess per image at shape (1, 3, 384, 640)\n",
      "\n",
      "0: 384x640 1 Werkzeug, 101.8ms\n",
      "Speed: 2.2ms preprocess, 101.8ms inference, 0.5ms postprocess per image at shape (1, 3, 384, 640)\n",
      "\n",
      "0: 384x640 1 Werkzeug, 115.7ms\n",
      "Speed: 2.0ms preprocess, 115.7ms inference, 1.0ms postprocess per image at shape (1, 3, 384, 640)\n",
      "\n",
      "0: 384x640 1 Werkzeug, 110.7ms\n",
      "Speed: 2.9ms preprocess, 110.7ms inference, 1.0ms postprocess per image at shape (1, 3, 384, 640)\n",
      "\n",
      "0: 384x640 1 Werkzeug, 115.2ms\n",
      "Speed: 2.2ms preprocess, 115.2ms inference, 1.0ms postprocess per image at shape (1, 3, 384, 640)\n",
      "\n",
      "0: 384x640 1 Werkzeug, 114.1ms\n",
      "Speed: 3.3ms preprocess, 114.1ms inference, 1.0ms postprocess per image at shape (1, 3, 384, 640)\n",
      "\n",
      "0: 384x640 1 Werkzeug, 106.4ms\n",
      "Speed: 2.8ms preprocess, 106.4ms inference, 1.0ms postprocess per image at shape (1, 3, 384, 640)\n",
      "\n",
      "0: 384x640 1 Werkzeug, 113.0ms\n",
      "Speed: 3.0ms preprocess, 113.0ms inference, 1.5ms postprocess per image at shape (1, 3, 384, 640)\n",
      "\n",
      "0: 384x640 1 Werkzeug, 108.8ms\n",
      "Speed: 1.6ms preprocess, 108.8ms inference, 1.0ms postprocess per image at shape (1, 3, 384, 640)\n",
      "\n",
      "0: 384x640 1 Werkzeug, 110.4ms\n",
      "Speed: 3.0ms preprocess, 110.4ms inference, 1.0ms postprocess per image at shape (1, 3, 384, 640)\n",
      "\n",
      "0: 384x640 1 Werkzeug, 120.4ms\n",
      "Speed: 3.0ms preprocess, 120.4ms inference, 1.2ms postprocess per image at shape (1, 3, 384, 640)\n",
      "\n",
      "0: 384x640 1 Werkzeug, 128.6ms\n",
      "Speed: 2.0ms preprocess, 128.6ms inference, 0.0ms postprocess per image at shape (1, 3, 384, 640)\n",
      "\n",
      "0: 384x640 1 Werkzeug, 113.5ms\n",
      "Speed: 4.7ms preprocess, 113.5ms inference, 0.6ms postprocess per image at shape (1, 3, 384, 640)\n",
      "\n",
      "0: 384x640 1 Werkzeug, 109.2ms\n",
      "Speed: 2.0ms preprocess, 109.2ms inference, 1.5ms postprocess per image at shape (1, 3, 384, 640)\n",
      "\n",
      "0: 384x640 1 Werkzeug, 108.7ms\n",
      "Speed: 2.8ms preprocess, 108.7ms inference, 1.0ms postprocess per image at shape (1, 3, 384, 640)\n",
      "\n",
      "0: 384x640 1 Werkzeug, 115.1ms\n",
      "Speed: 2.4ms preprocess, 115.1ms inference, 1.0ms postprocess per image at shape (1, 3, 384, 640)\n",
      "\n",
      "0: 384x640 1 Werkzeug, 111.3ms\n",
      "Speed: 2.3ms preprocess, 111.3ms inference, 0.0ms postprocess per image at shape (1, 3, 384, 640)\n",
      "\n",
      "0: 384x640 1 Werkzeug, 123.3ms\n",
      "Speed: 2.0ms preprocess, 123.3ms inference, 1.0ms postprocess per image at shape (1, 3, 384, 640)\n",
      "\n",
      "0: 384x640 1 Werkzeug, 124.1ms\n",
      "Speed: 2.0ms preprocess, 124.1ms inference, 0.7ms postprocess per image at shape (1, 3, 384, 640)\n",
      "\n",
      "0: 384x640 1 Werkzeug, 109.6ms\n",
      "Speed: 2.7ms preprocess, 109.6ms inference, 1.0ms postprocess per image at shape (1, 3, 384, 640)\n",
      "\n",
      "0: 384x640 1 Werkzeug, 119.5ms\n",
      "Speed: 2.6ms preprocess, 119.5ms inference, 1.0ms postprocess per image at shape (1, 3, 384, 640)\n",
      "\n",
      "0: 384x640 1 Werkzeug, 129.7ms\n",
      "Speed: 1.9ms preprocess, 129.7ms inference, 1.0ms postprocess per image at shape (1, 3, 384, 640)\n",
      "\n",
      "0: 384x640 1 Werkzeug, 109.1ms\n",
      "Speed: 4.5ms preprocess, 109.1ms inference, 1.0ms postprocess per image at shape (1, 3, 384, 640)\n",
      "\n",
      "0: 384x640 1 Werkzeug, 108.8ms\n",
      "Speed: 1.3ms preprocess, 108.8ms inference, 0.0ms postprocess per image at shape (1, 3, 384, 640)\n",
      "\n",
      "0: 384x640 1 Werkzeug, 106.7ms\n",
      "Speed: 2.5ms preprocess, 106.7ms inference, 0.0ms postprocess per image at shape (1, 3, 384, 640)\n",
      "\n",
      "0: 384x640 1 Werkzeug, 110.9ms\n",
      "Speed: 1.5ms preprocess, 110.9ms inference, 1.0ms postprocess per image at shape (1, 3, 384, 640)\n",
      "\n",
      "0: 384x640 1 Werkzeug, 109.7ms\n",
      "Speed: 2.0ms preprocess, 109.7ms inference, 0.0ms postprocess per image at shape (1, 3, 384, 640)\n",
      "\n",
      "0: 384x640 1 Werkzeug, 109.3ms\n",
      "Speed: 2.0ms preprocess, 109.3ms inference, 1.1ms postprocess per image at shape (1, 3, 384, 640)\n",
      "\n",
      "0: 384x640 1 Werkzeug, 123.6ms\n",
      "Speed: 1.4ms preprocess, 123.6ms inference, 0.0ms postprocess per image at shape (1, 3, 384, 640)\n",
      "\n",
      "0: 384x640 1 Werkzeug, 106.7ms\n",
      "Speed: 2.6ms preprocess, 106.7ms inference, 1.0ms postprocess per image at shape (1, 3, 384, 640)\n",
      "\n",
      "0: 384x640 1 Werkzeug, 110.8ms\n",
      "Speed: 2.0ms preprocess, 110.8ms inference, 1.0ms postprocess per image at shape (1, 3, 384, 640)\n",
      "\n",
      "0: 384x640 1 Werkzeug, 120.7ms\n",
      "Speed: 2.1ms preprocess, 120.7ms inference, 1.0ms postprocess per image at shape (1, 3, 384, 640)\n",
      "\n",
      "0: 384x640 1 Werkzeug, 110.3ms\n",
      "Speed: 2.0ms preprocess, 110.3ms inference, 1.0ms postprocess per image at shape (1, 3, 384, 640)\n",
      "\n",
      "0: 384x640 1 Werkzeug, 108.1ms\n",
      "Speed: 1.9ms preprocess, 108.1ms inference, 1.0ms postprocess per image at shape (1, 3, 384, 640)\n",
      "\n",
      "0: 384x640 1 Werkzeug, 111.4ms\n",
      "Speed: 1.9ms preprocess, 111.4ms inference, 1.0ms postprocess per image at shape (1, 3, 384, 640)\n",
      "\n",
      "0: 384x640 1 Werkzeug, 111.6ms\n",
      "Speed: 2.4ms preprocess, 111.6ms inference, 1.0ms postprocess per image at shape (1, 3, 384, 640)\n",
      "\n",
      "0: 384x640 1 Werkzeug, 136.5ms\n",
      "Speed: 3.6ms preprocess, 136.5ms inference, 1.0ms postprocess per image at shape (1, 3, 384, 640)\n",
      "\n",
      "0: 384x640 1 Werkzeug, 126.0ms\n",
      "Speed: 2.0ms preprocess, 126.0ms inference, 1.0ms postprocess per image at shape (1, 3, 384, 640)\n",
      "\n",
      "0: 384x640 1 Werkzeug, 123.6ms\n",
      "Speed: 2.3ms preprocess, 123.6ms inference, 1.0ms postprocess per image at shape (1, 3, 384, 640)\n",
      "\n",
      "0: 384x640 1 Werkzeug, 110.5ms\n",
      "Speed: 1.0ms preprocess, 110.5ms inference, 1.0ms postprocess per image at shape (1, 3, 384, 640)\n",
      "\n",
      "0: 384x640 1 Werkzeug, 112.0ms\n",
      "Speed: 2.0ms preprocess, 112.0ms inference, 1.0ms postprocess per image at shape (1, 3, 384, 640)\n",
      "\n",
      "0: 384x640 1 Werkzeug, 113.1ms\n",
      "Speed: 2.0ms preprocess, 113.1ms inference, 0.0ms postprocess per image at shape (1, 3, 384, 640)\n",
      "\n",
      "0: 384x640 1 Werkzeug, 107.1ms\n",
      "Speed: 2.6ms preprocess, 107.1ms inference, 1.0ms postprocess per image at shape (1, 3, 384, 640)\n",
      "\n",
      "0: 384x640 1 Werkzeug, 110.4ms\n",
      "Speed: 2.0ms preprocess, 110.4ms inference, 0.8ms postprocess per image at shape (1, 3, 384, 640)\n",
      "\n",
      "0: 384x640 1 Werkzeug, 116.6ms\n",
      "Speed: 2.4ms preprocess, 116.6ms inference, 1.3ms postprocess per image at shape (1, 3, 384, 640)\n",
      "\n",
      "0: 384x640 1 Werkzeug, 109.4ms\n",
      "Speed: 2.0ms preprocess, 109.4ms inference, 1.4ms postprocess per image at shape (1, 3, 384, 640)\n",
      "\n",
      "0: 384x640 1 Werkzeug, 106.3ms\n",
      "Speed: 3.2ms preprocess, 106.3ms inference, 1.0ms postprocess per image at shape (1, 3, 384, 640)\n",
      "\n",
      "0: 384x640 1 Werkzeug, 104.5ms\n",
      "Speed: 3.3ms preprocess, 104.5ms inference, 1.0ms postprocess per image at shape (1, 3, 384, 640)\n",
      "\n",
      "0: 384x640 1 Werkzeug, 109.7ms\n",
      "Speed: 3.0ms preprocess, 109.7ms inference, 0.0ms postprocess per image at shape (1, 3, 384, 640)\n",
      "\n",
      "0: 384x640 1 Werkzeug, 111.7ms\n",
      "Speed: 2.1ms preprocess, 111.7ms inference, 1.0ms postprocess per image at shape (1, 3, 384, 640)\n",
      "\n",
      "0: 384x640 1 Werkzeug, 112.3ms\n",
      "Speed: 1.9ms preprocess, 112.3ms inference, 1.0ms postprocess per image at shape (1, 3, 384, 640)\n",
      "\n",
      "0: 384x640 1 Werkzeug, 107.2ms\n",
      "Speed: 4.6ms preprocess, 107.2ms inference, 1.0ms postprocess per image at shape (1, 3, 384, 640)\n",
      "\n",
      "0: 384x640 1 Werkzeug, 117.5ms\n",
      "Speed: 3.0ms preprocess, 117.5ms inference, 1.2ms postprocess per image at shape (1, 3, 384, 640)\n",
      "\n",
      "0: 384x640 1 Werkzeug, 109.6ms\n",
      "Speed: 3.3ms preprocess, 109.6ms inference, 0.0ms postprocess per image at shape (1, 3, 384, 640)\n",
      "\n",
      "0: 384x640 1 Werkzeug, 120.3ms\n",
      "Speed: 1.7ms preprocess, 120.3ms inference, 1.0ms postprocess per image at shape (1, 3, 384, 640)\n",
      "\n",
      "0: 384x640 1 Werkzeug, 105.8ms\n",
      "Speed: 3.0ms preprocess, 105.8ms inference, 0.8ms postprocess per image at shape (1, 3, 384, 640)\n",
      "\n",
      "0: 384x640 1 Werkzeug, 110.9ms\n",
      "Speed: 2.1ms preprocess, 110.9ms inference, 1.0ms postprocess per image at shape (1, 3, 384, 640)\n",
      "\n",
      "0: 384x640 1 Werkzeug, 111.1ms\n",
      "Speed: 2.0ms preprocess, 111.1ms inference, 1.0ms postprocess per image at shape (1, 3, 384, 640)\n",
      "\n",
      "0: 384x640 1 Werkzeug, 109.3ms\n",
      "Speed: 1.6ms preprocess, 109.3ms inference, 1.0ms postprocess per image at shape (1, 3, 384, 640)\n",
      "\n",
      "0: 384x640 1 Werkzeug, 108.6ms\n",
      "Speed: 3.8ms preprocess, 108.6ms inference, 1.0ms postprocess per image at shape (1, 3, 384, 640)\n",
      "\n",
      "0: 384x640 1 Werkzeug, 109.5ms\n",
      "Speed: 2.0ms preprocess, 109.5ms inference, 1.0ms postprocess per image at shape (1, 3, 384, 640)\n",
      "\n",
      "0: 384x640 1 Werkzeug, 121.2ms\n",
      "Speed: 4.0ms preprocess, 121.2ms inference, 2.0ms postprocess per image at shape (1, 3, 384, 640)\n",
      "\n",
      "0: 384x640 1 Werkzeug, 113.3ms\n",
      "Speed: 2.0ms preprocess, 113.3ms inference, 1.0ms postprocess per image at shape (1, 3, 384, 640)\n",
      "\n",
      "0: 384x640 1 Werkzeug, 111.4ms\n",
      "Speed: 2.4ms preprocess, 111.4ms inference, 1.0ms postprocess per image at shape (1, 3, 384, 640)\n",
      "\n",
      "0: 384x640 1 Werkzeug, 116.8ms\n",
      "Speed: 2.0ms preprocess, 116.8ms inference, 1.0ms postprocess per image at shape (1, 3, 384, 640)\n",
      "\n",
      "0: 384x640 1 Werkzeug, 113.9ms\n",
      "Speed: 2.7ms preprocess, 113.9ms inference, 1.0ms postprocess per image at shape (1, 3, 384, 640)\n",
      "\n",
      "0: 384x640 1 Werkzeug, 115.0ms\n",
      "Speed: 2.7ms preprocess, 115.0ms inference, 1.0ms postprocess per image at shape (1, 3, 384, 640)\n",
      "\n",
      "0: 384x640 1 Werkzeug, 107.1ms\n",
      "Speed: 2.5ms preprocess, 107.1ms inference, 0.4ms postprocess per image at shape (1, 3, 384, 640)\n",
      "\n",
      "0: 384x640 1 Werkzeug, 108.4ms\n",
      "Speed: 3.2ms preprocess, 108.4ms inference, 1.0ms postprocess per image at shape (1, 3, 384, 640)\n",
      "\n",
      "0: 384x640 1 Werkzeug, 132.8ms\n",
      "Speed: 1.6ms preprocess, 132.8ms inference, 1.0ms postprocess per image at shape (1, 3, 384, 640)\n",
      "\n",
      "0: 384x640 1 Werkzeug, 113.6ms\n",
      "Speed: 2.0ms preprocess, 113.6ms inference, 1.0ms postprocess per image at shape (1, 3, 384, 640)\n",
      "\n",
      "0: 384x640 1 Werkzeug, 113.6ms\n",
      "Speed: 3.5ms preprocess, 113.6ms inference, 1.0ms postprocess per image at shape (1, 3, 384, 640)\n",
      "\n",
      "0: 384x640 1 Werkzeug, 150.7ms\n",
      "Speed: 2.0ms preprocess, 150.7ms inference, 1.1ms postprocess per image at shape (1, 3, 384, 640)\n",
      "\n",
      "0: 384x640 1 Werkzeug, 133.8ms\n",
      "Speed: 2.7ms preprocess, 133.8ms inference, 0.8ms postprocess per image at shape (1, 3, 384, 640)\n",
      "\n",
      "0: 384x640 1 Werkzeug, 132.8ms\n",
      "Speed: 2.0ms preprocess, 132.8ms inference, 2.0ms postprocess per image at shape (1, 3, 384, 640)\n",
      "\n",
      "0: 384x640 1 Werkzeug, 122.6ms\n",
      "Speed: 3.0ms preprocess, 122.6ms inference, 0.9ms postprocess per image at shape (1, 3, 384, 640)\n",
      "\n",
      "0: 384x640 1 Werkzeug, 130.7ms\n",
      "Speed: 3.0ms preprocess, 130.7ms inference, 1.1ms postprocess per image at shape (1, 3, 384, 640)\n",
      "\n",
      "0: 384x640 1 Werkzeug, 113.6ms\n",
      "Speed: 2.0ms preprocess, 113.6ms inference, 1.0ms postprocess per image at shape (1, 3, 384, 640)\n",
      "\n",
      "0: 384x640 1 Werkzeug, 115.9ms\n",
      "Speed: 2.0ms preprocess, 115.9ms inference, 1.0ms postprocess per image at shape (1, 3, 384, 640)\n",
      "\n",
      "0: 384x640 1 Werkzeug, 112.9ms\n",
      "Speed: 3.4ms preprocess, 112.9ms inference, 1.0ms postprocess per image at shape (1, 3, 384, 640)\n",
      "\n",
      "0: 384x640 1 Werkzeug, 112.8ms\n",
      "Speed: 2.0ms preprocess, 112.8ms inference, 1.0ms postprocess per image at shape (1, 3, 384, 640)\n",
      "\n",
      "0: 384x640 1 Werkzeug, 119.9ms\n",
      "Speed: 2.5ms preprocess, 119.9ms inference, 1.0ms postprocess per image at shape (1, 3, 384, 640)\n",
      "\n",
      "0: 384x640 1 Werkzeug, 108.9ms\n",
      "Speed: 2.2ms preprocess, 108.9ms inference, 0.5ms postprocess per image at shape (1, 3, 384, 640)\n",
      "\n",
      "0: 384x640 1 Werkzeug, 112.5ms\n",
      "Speed: 2.4ms preprocess, 112.5ms inference, 1.0ms postprocess per image at shape (1, 3, 384, 640)\n",
      "\n",
      "0: 384x640 (no detections), 131.0ms\n",
      "Speed: 2.2ms preprocess, 131.0ms inference, 0.0ms postprocess per image at shape (1, 3, 384, 640)\n",
      "\n",
      "0: 384x640 (no detections), 106.6ms\n",
      "Speed: 3.0ms preprocess, 106.6ms inference, 0.0ms postprocess per image at shape (1, 3, 384, 640)\n",
      "\n",
      "0: 384x640 (no detections), 110.9ms\n",
      "Speed: 2.0ms preprocess, 110.9ms inference, 0.0ms postprocess per image at shape (1, 3, 384, 640)\n",
      "\n",
      "0: 384x640 (no detections), 121.5ms\n",
      "Speed: 3.0ms preprocess, 121.5ms inference, 0.0ms postprocess per image at shape (1, 3, 384, 640)\n",
      "\n",
      "0: 384x640 (no detections), 109.2ms\n",
      "Speed: 2.3ms preprocess, 109.2ms inference, 0.0ms postprocess per image at shape (1, 3, 384, 640)\n",
      "\n",
      "0: 384x640 (no detections), 119.4ms\n",
      "Speed: 1.9ms preprocess, 119.4ms inference, 1.0ms postprocess per image at shape (1, 3, 384, 640)\n",
      "\n",
      "0: 384x640 1 Werkzeug, 113.3ms\n",
      "Speed: 2.2ms preprocess, 113.3ms inference, 1.0ms postprocess per image at shape (1, 3, 384, 640)\n",
      "\n",
      "0: 384x640 1 Werkzeug, 113.6ms\n",
      "Speed: 2.9ms preprocess, 113.6ms inference, 1.0ms postprocess per image at shape (1, 3, 384, 640)\n",
      "\n",
      "0: 384x640 1 Werkzeug, 115.5ms\n",
      "Speed: 6.5ms preprocess, 115.5ms inference, 1.0ms postprocess per image at shape (1, 3, 384, 640)\n",
      "\n",
      "0: 384x640 2 Werkzeugs, 112.2ms\n",
      "Speed: 1.2ms preprocess, 112.2ms inference, 1.0ms postprocess per image at shape (1, 3, 384, 640)\n",
      "\n",
      "0: 384x640 2 Werkzeugs, 138.8ms\n",
      "Speed: 2.0ms preprocess, 138.8ms inference, 2.0ms postprocess per image at shape (1, 3, 384, 640)\n",
      "\n",
      "0: 384x640 2 Werkzeugs, 152.2ms\n",
      "Speed: 4.2ms preprocess, 152.2ms inference, 1.3ms postprocess per image at shape (1, 3, 384, 640)\n",
      "\n",
      "0: 384x640 2 Werkzeugs, 128.6ms\n",
      "Speed: 2.0ms preprocess, 128.6ms inference, 1.0ms postprocess per image at shape (1, 3, 384, 640)\n",
      "\n",
      "0: 384x640 1 Werkzeug, 131.6ms\n",
      "Speed: 1.9ms preprocess, 131.6ms inference, 1.0ms postprocess per image at shape (1, 3, 384, 640)\n",
      "\n",
      "0: 384x640 2 Werkzeugs, 108.3ms\n",
      "Speed: 2.0ms preprocess, 108.3ms inference, 1.0ms postprocess per image at shape (1, 3, 384, 640)\n",
      "\n",
      "0: 384x640 2 Werkzeugs, 135.7ms\n",
      "Speed: 2.9ms preprocess, 135.7ms inference, 1.0ms postprocess per image at shape (1, 3, 384, 640)\n",
      "\n",
      "0: 384x640 3 Werkzeugs, 152.1ms\n",
      "Speed: 2.0ms preprocess, 152.1ms inference, 1.1ms postprocess per image at shape (1, 3, 384, 640)\n",
      "\n",
      "0: 384x640 2 Werkzeugs, 131.3ms\n",
      "Speed: 2.0ms preprocess, 131.3ms inference, 1.0ms postprocess per image at shape (1, 3, 384, 640)\n",
      "\n",
      "0: 384x640 1 Werkzeug, 127.3ms\n",
      "Speed: 2.5ms preprocess, 127.3ms inference, 1.4ms postprocess per image at shape (1, 3, 384, 640)\n",
      "\n",
      "0: 384x640 1 Werkzeug, 134.7ms\n",
      "Speed: 1.9ms preprocess, 134.7ms inference, 2.0ms postprocess per image at shape (1, 3, 384, 640)\n",
      "\n",
      "0: 384x640 2 Werkzeugs, 132.2ms\n",
      "Speed: 2.6ms preprocess, 132.2ms inference, 1.0ms postprocess per image at shape (1, 3, 384, 640)\n",
      "\n",
      "0: 384x640 2 Werkzeugs, 184.7ms\n",
      "Speed: 1.9ms preprocess, 184.7ms inference, 1.0ms postprocess per image at shape (1, 3, 384, 640)\n",
      "\n",
      "0: 384x640 1 Werkzeug, 170.3ms\n",
      "Speed: 4.5ms preprocess, 170.3ms inference, 1.0ms postprocess per image at shape (1, 3, 384, 640)\n",
      "\n",
      "0: 384x640 2 Werkzeugs, 162.1ms\n",
      "Speed: 2.5ms preprocess, 162.1ms inference, 2.0ms postprocess per image at shape (1, 3, 384, 640)\n",
      "\n",
      "0: 384x640 1 Werkzeug, 184.6ms\n",
      "Speed: 2.9ms preprocess, 184.6ms inference, 1.0ms postprocess per image at shape (1, 3, 384, 640)\n",
      "\n",
      "0: 384x640 (no detections), 131.9ms\n",
      "Speed: 3.3ms preprocess, 131.9ms inference, 0.5ms postprocess per image at shape (1, 3, 384, 640)\n",
      "\n",
      "0: 384x640 (no detections), 128.8ms\n",
      "Speed: 2.0ms preprocess, 128.8ms inference, 1.0ms postprocess per image at shape (1, 3, 384, 640)\n",
      "\n",
      "0: 384x640 (no detections), 174.1ms\n",
      "Speed: 1.7ms preprocess, 174.1ms inference, 1.0ms postprocess per image at shape (1, 3, 384, 640)\n",
      "\n",
      "0: 384x640 (no detections), 127.0ms\n",
      "Speed: 3.0ms preprocess, 127.0ms inference, 1.0ms postprocess per image at shape (1, 3, 384, 640)\n",
      "\n",
      "0: 384x640 (no detections), 123.0ms\n",
      "Speed: 2.2ms preprocess, 123.0ms inference, 0.0ms postprocess per image at shape (1, 3, 384, 640)\n",
      "\n",
      "0: 384x640 (no detections), 121.6ms\n",
      "Speed: 2.2ms preprocess, 121.6ms inference, 0.0ms postprocess per image at shape (1, 3, 384, 640)\n",
      "\n",
      "0: 384x640 (no detections), 126.5ms\n",
      "Speed: 2.3ms preprocess, 126.5ms inference, 1.0ms postprocess per image at shape (1, 3, 384, 640)\n",
      "\n",
      "0: 384x640 (no detections), 128.5ms\n",
      "Speed: 2.7ms preprocess, 128.5ms inference, 1.0ms postprocess per image at shape (1, 3, 384, 640)\n",
      "\n",
      "0: 384x640 2 Werkzeugs, 131.6ms\n",
      "Speed: 2.4ms preprocess, 131.6ms inference, 1.0ms postprocess per image at shape (1, 3, 384, 640)\n",
      "\n",
      "0: 384x640 (no detections), 129.8ms\n",
      "Speed: 2.0ms preprocess, 129.8ms inference, 0.0ms postprocess per image at shape (1, 3, 384, 640)\n",
      "\n",
      "0: 384x640 1 Werkzeug, 122.2ms\n",
      "Speed: 3.4ms preprocess, 122.2ms inference, 0.8ms postprocess per image at shape (1, 3, 384, 640)\n",
      "\n",
      "0: 384x640 (no detections), 121.5ms\n",
      "Speed: 4.0ms preprocess, 121.5ms inference, 0.0ms postprocess per image at shape (1, 3, 384, 640)\n",
      "\n",
      "0: 384x640 1 Werkzeug, 113.5ms\n",
      "Speed: 3.0ms preprocess, 113.5ms inference, 1.0ms postprocess per image at shape (1, 3, 384, 640)\n",
      "\n",
      "0: 384x640 1 Werkzeug, 108.3ms\n",
      "Speed: 2.2ms preprocess, 108.3ms inference, 1.0ms postprocess per image at shape (1, 3, 384, 640)\n",
      "\n",
      "0: 384x640 1 Werkzeug, 126.3ms\n",
      "Speed: 2.0ms preprocess, 126.3ms inference, 1.0ms postprocess per image at shape (1, 3, 384, 640)\n",
      "\n",
      "0: 384x640 1 Werkzeug, 116.2ms\n",
      "Speed: 2.2ms preprocess, 116.2ms inference, 1.0ms postprocess per image at shape (1, 3, 384, 640)\n",
      "\n",
      "0: 384x640 1 Werkzeug, 118.2ms\n",
      "Speed: 2.8ms preprocess, 118.2ms inference, 1.0ms postprocess per image at shape (1, 3, 384, 640)\n",
      "\n",
      "0: 384x640 1 Werkzeug, 116.8ms\n",
      "Speed: 2.0ms preprocess, 116.8ms inference, 2.0ms postprocess per image at shape (1, 3, 384, 640)\n",
      "\n",
      "0: 384x640 1 Werkzeug, 116.9ms\n",
      "Speed: 2.9ms preprocess, 116.9ms inference, 1.0ms postprocess per image at shape (1, 3, 384, 640)\n",
      "\n",
      "0: 384x640 1 Werkzeug, 119.3ms\n",
      "Speed: 3.0ms preprocess, 119.3ms inference, 1.0ms postprocess per image at shape (1, 3, 384, 640)\n",
      "\n",
      "0: 384x640 1 Werkzeug, 105.6ms\n",
      "Speed: 3.0ms preprocess, 105.6ms inference, 1.0ms postprocess per image at shape (1, 3, 384, 640)\n",
      "\n",
      "0: 384x640 1 Werkzeug, 121.5ms\n",
      "Speed: 2.0ms preprocess, 121.5ms inference, 1.0ms postprocess per image at shape (1, 3, 384, 640)\n",
      "\n",
      "0: 384x640 1 Werkzeug, 111.4ms\n",
      "Speed: 2.2ms preprocess, 111.4ms inference, 1.0ms postprocess per image at shape (1, 3, 384, 640)\n",
      "\n",
      "0: 384x640 1 Werkzeug, 109.9ms\n",
      "Speed: 2.0ms preprocess, 109.9ms inference, 1.0ms postprocess per image at shape (1, 3, 384, 640)\n",
      "\n",
      "0: 384x640 1 Werkzeug, 111.7ms\n",
      "Speed: 3.0ms preprocess, 111.7ms inference, 1.0ms postprocess per image at shape (1, 3, 384, 640)\n",
      "\n",
      "0: 384x640 1 Werkzeug, 111.1ms\n",
      "Speed: 2.0ms preprocess, 111.1ms inference, 1.0ms postprocess per image at shape (1, 3, 384, 640)\n",
      "\n",
      "0: 384x640 1 Werkzeug, 115.5ms\n",
      "Speed: 2.0ms preprocess, 115.5ms inference, 0.7ms postprocess per image at shape (1, 3, 384, 640)\n",
      "\n",
      "0: 384x640 1 Werkzeug, 119.1ms\n",
      "Speed: 3.8ms preprocess, 119.1ms inference, 1.0ms postprocess per image at shape (1, 3, 384, 640)\n",
      "\n",
      "0: 384x640 1 Werkzeug, 113.5ms\n",
      "Speed: 1.8ms preprocess, 113.5ms inference, 1.1ms postprocess per image at shape (1, 3, 384, 640)\n",
      "\n",
      "0: 384x640 1 Werkzeug, 115.2ms\n",
      "Speed: 3.0ms preprocess, 115.2ms inference, 1.0ms postprocess per image at shape (1, 3, 384, 640)\n",
      "\n",
      "0: 384x640 1 Werkzeug, 109.5ms\n",
      "Speed: 2.5ms preprocess, 109.5ms inference, 1.0ms postprocess per image at shape (1, 3, 384, 640)\n",
      "\n",
      "0: 384x640 1 Werkzeug, 111.8ms\n",
      "Speed: 3.0ms preprocess, 111.8ms inference, 1.0ms postprocess per image at shape (1, 3, 384, 640)\n",
      "\n",
      "0: 384x640 1 Werkzeug, 118.4ms\n",
      "Speed: 2.6ms preprocess, 118.4ms inference, 1.0ms postprocess per image at shape (1, 3, 384, 640)\n",
      "\n",
      "0: 384x640 1 Werkzeug, 119.5ms\n",
      "Speed: 2.0ms preprocess, 119.5ms inference, 1.0ms postprocess per image at shape (1, 3, 384, 640)\n",
      "\n",
      "0: 384x640 1 Werkzeug, 112.4ms\n",
      "Speed: 3.0ms preprocess, 112.4ms inference, 1.0ms postprocess per image at shape (1, 3, 384, 640)\n",
      "\n",
      "0: 384x640 1 Werkzeug, 114.2ms\n",
      "Speed: 1.9ms preprocess, 114.2ms inference, 1.4ms postprocess per image at shape (1, 3, 384, 640)\n",
      "\n",
      "0: 384x640 1 Werkzeug, 107.8ms\n",
      "Speed: 3.0ms preprocess, 107.8ms inference, 0.0ms postprocess per image at shape (1, 3, 384, 640)\n",
      "\n",
      "0: 384x640 1 Werkzeug, 111.0ms\n",
      "Speed: 2.3ms preprocess, 111.0ms inference, 1.0ms postprocess per image at shape (1, 3, 384, 640)\n",
      "\n",
      "0: 384x640 2 Werkzeugs, 117.1ms\n",
      "Speed: 1.5ms preprocess, 117.1ms inference, 1.0ms postprocess per image at shape (1, 3, 384, 640)\n",
      "\n",
      "0: 384x640 1 Werkzeug, 114.1ms\n",
      "Speed: 2.1ms preprocess, 114.1ms inference, 1.0ms postprocess per image at shape (1, 3, 384, 640)\n",
      "\n",
      "0: 384x640 1 Werkzeug, 127.1ms\n",
      "Speed: 2.0ms preprocess, 127.1ms inference, 1.0ms postprocess per image at shape (1, 3, 384, 640)\n",
      "\n",
      "0: 384x640 1 Werkzeug, 131.8ms\n",
      "Speed: 2.0ms preprocess, 131.8ms inference, 1.0ms postprocess per image at shape (1, 3, 384, 640)\n",
      "\n",
      "0: 384x640 1 Werkzeug, 132.0ms\n",
      "Speed: 2.2ms preprocess, 132.0ms inference, 1.7ms postprocess per image at shape (1, 3, 384, 640)\n",
      "\n",
      "0: 384x640 (no detections), 111.7ms\n",
      "Speed: 1.7ms preprocess, 111.7ms inference, 0.0ms postprocess per image at shape (1, 3, 384, 640)\n",
      "\n",
      "0: 384x640 1 Werkzeug, 113.4ms\n",
      "Speed: 2.3ms preprocess, 113.4ms inference, 1.3ms postprocess per image at shape (1, 3, 384, 640)\n",
      "\n",
      "0: 384x640 1 Werkzeug, 107.7ms\n",
      "Speed: 3.0ms preprocess, 107.7ms inference, 1.0ms postprocess per image at shape (1, 3, 384, 640)\n",
      "\n",
      "0: 384x640 1 Werkzeug, 1 Frser, 114.5ms\n",
      "Speed: 3.0ms preprocess, 114.5ms inference, 2.0ms postprocess per image at shape (1, 3, 384, 640)\n",
      "\n",
      "0: 384x640 1 Werkzeug, 120.0ms\n",
      "Speed: 2.8ms preprocess, 120.0ms inference, 1.0ms postprocess per image at shape (1, 3, 384, 640)\n",
      "\n",
      "0: 384x640 1 Werkzeug, 113.9ms\n",
      "Speed: 1.9ms preprocess, 113.9ms inference, 1.0ms postprocess per image at shape (1, 3, 384, 640)\n",
      "\n",
      "0: 384x640 3 Werkzeugs, 123.7ms\n",
      "Speed: 3.2ms preprocess, 123.7ms inference, 1.0ms postprocess per image at shape (1, 3, 384, 640)\n",
      "\n",
      "0: 384x640 2 Werkzeugs, 109.1ms\n",
      "Speed: 2.0ms preprocess, 109.1ms inference, 2.0ms postprocess per image at shape (1, 3, 384, 640)\n",
      "\n",
      "0: 384x640 2 Werkzeugs, 111.7ms\n",
      "Speed: 2.0ms preprocess, 111.7ms inference, 0.0ms postprocess per image at shape (1, 3, 384, 640)\n",
      "\n",
      "0: 384x640 1 Werkzeug, 110.1ms\n",
      "Speed: 1.9ms preprocess, 110.1ms inference, 1.0ms postprocess per image at shape (1, 3, 384, 640)\n",
      "\n",
      "0: 384x640 2 Werkzeugs, 112.3ms\n",
      "Speed: 2.1ms preprocess, 112.3ms inference, 1.0ms postprocess per image at shape (1, 3, 384, 640)\n",
      "\n",
      "0: 384x640 1 Werkzeug, 112.7ms\n",
      "Speed: 2.9ms preprocess, 112.7ms inference, 1.0ms postprocess per image at shape (1, 3, 384, 640)\n",
      "\n",
      "0: 384x640 1 Werkzeug, 126.6ms\n",
      "Speed: 2.0ms preprocess, 126.6ms inference, 1.0ms postprocess per image at shape (1, 3, 384, 640)\n",
      "\n",
      "0: 384x640 1 Werkzeug, 109.7ms\n",
      "Speed: 2.5ms preprocess, 109.7ms inference, 1.0ms postprocess per image at shape (1, 3, 384, 640)\n",
      "\n",
      "0: 384x640 3 Werkzeugs, 123.1ms\n",
      "Speed: 2.3ms preprocess, 123.1ms inference, 1.0ms postprocess per image at shape (1, 3, 384, 640)\n",
      "\n",
      "0: 384x640 2 Werkzeugs, 111.3ms\n",
      "Speed: 2.0ms preprocess, 111.3ms inference, 0.0ms postprocess per image at shape (1, 3, 384, 640)\n",
      "\n",
      "0: 384x640 3 Werkzeugs, 109.1ms\n",
      "Speed: 2.5ms preprocess, 109.1ms inference, 1.0ms postprocess per image at shape (1, 3, 384, 640)\n",
      "\n",
      "0: 384x640 2 Werkzeugs, 111.6ms\n",
      "Speed: 1.7ms preprocess, 111.6ms inference, 1.0ms postprocess per image at shape (1, 3, 384, 640)\n",
      "\n",
      "0: 384x640 1 Werkzeug, 121.6ms\n",
      "Speed: 2.5ms preprocess, 121.6ms inference, 1.0ms postprocess per image at shape (1, 3, 384, 640)\n",
      "\n",
      "0: 384x640 2 Werkzeugs, 213.9ms\n",
      "Speed: 1.2ms preprocess, 213.9ms inference, 1.0ms postprocess per image at shape (1, 3, 384, 640)\n",
      "\n",
      "0: 384x640 1 Werkzeug, 127.2ms\n",
      "Speed: 2.0ms preprocess, 127.2ms inference, 1.0ms postprocess per image at shape (1, 3, 384, 640)\n",
      "\n",
      "0: 384x640 1 Werkzeug, 115.1ms\n",
      "Speed: 2.4ms preprocess, 115.1ms inference, 1.0ms postprocess per image at shape (1, 3, 384, 640)\n",
      "\n",
      "0: 384x640 1 Werkzeug, 120.6ms\n",
      "Speed: 1.5ms preprocess, 120.6ms inference, 1.1ms postprocess per image at shape (1, 3, 384, 640)\n",
      "\n",
      "0: 384x640 1 Werkzeug, 110.6ms\n",
      "Speed: 2.0ms preprocess, 110.6ms inference, 1.0ms postprocess per image at shape (1, 3, 384, 640)\n",
      "\n",
      "0: 384x640 1 Werkzeug, 109.5ms\n",
      "Speed: 3.0ms preprocess, 109.5ms inference, 1.2ms postprocess per image at shape (1, 3, 384, 640)\n",
      "\n",
      "0: 384x640 1 Werkzeug, 111.0ms\n",
      "Speed: 2.8ms preprocess, 111.0ms inference, 1.0ms postprocess per image at shape (1, 3, 384, 640)\n",
      "\n",
      "0: 384x640 1 Werkzeug, 112.9ms\n",
      "Speed: 1.6ms preprocess, 112.9ms inference, 1.0ms postprocess per image at shape (1, 3, 384, 640)\n",
      "\n",
      "0: 384x640 (no detections), 106.7ms\n",
      "Speed: 3.0ms preprocess, 106.7ms inference, 1.0ms postprocess per image at shape (1, 3, 384, 640)\n",
      "\n",
      "0: 384x640 (no detections), 121.6ms\n",
      "Speed: 2.0ms preprocess, 121.6ms inference, 0.0ms postprocess per image at shape (1, 3, 384, 640)\n",
      "\n",
      "0: 384x640 (no detections), 148.3ms\n",
      "Speed: 2.2ms preprocess, 148.3ms inference, 0.0ms postprocess per image at shape (1, 3, 384, 640)\n",
      "\n",
      "0: 384x640 1 Frser, 107.1ms\n",
      "Speed: 2.0ms preprocess, 107.1ms inference, 1.0ms postprocess per image at shape (1, 3, 384, 640)\n",
      "\n",
      "0: 384x640 1 Frser, 108.5ms\n",
      "Speed: 2.0ms preprocess, 108.5ms inference, 1.0ms postprocess per image at shape (1, 3, 384, 640)\n",
      "\n",
      "0: 384x640 1 Frser, 125.8ms\n",
      "Speed: 2.2ms preprocess, 125.8ms inference, 1.0ms postprocess per image at shape (1, 3, 384, 640)\n",
      "\n",
      "0: 384x640 1 Frser, 137.6ms\n",
      "Speed: 1.5ms preprocess, 137.6ms inference, 2.0ms postprocess per image at shape (1, 3, 384, 640)\n",
      "\n",
      "0: 384x640 1 Frser, 208.4ms\n",
      "Speed: 3.0ms preprocess, 208.4ms inference, 1.0ms postprocess per image at shape (1, 3, 384, 640)\n",
      "\n",
      "0: 384x640 1 Frser, 130.3ms\n",
      "Speed: 3.0ms preprocess, 130.3ms inference, 2.0ms postprocess per image at shape (1, 3, 384, 640)\n",
      "\n",
      "0: 384x640 1 Werkzeug, 1 Frser, 120.3ms\n",
      "Speed: 2.9ms preprocess, 120.3ms inference, 1.0ms postprocess per image at shape (1, 3, 384, 640)\n",
      "\n",
      "0: 384x640 2 Werkzeugs, 1 Frser, 110.0ms\n",
      "Speed: 2.0ms preprocess, 110.0ms inference, 1.0ms postprocess per image at shape (1, 3, 384, 640)\n",
      "\n",
      "0: 384x640 1 Werkzeug, 2 Frsers, 110.6ms\n",
      "Speed: 2.0ms preprocess, 110.6ms inference, 1.0ms postprocess per image at shape (1, 3, 384, 640)\n",
      "\n",
      "0: 384x640 1 Werkzeug, 1 Frser, 110.3ms\n",
      "Speed: 2.0ms preprocess, 110.3ms inference, 1.4ms postprocess per image at shape (1, 3, 384, 640)\n",
      "\n",
      "0: 384x640 1 Werkzeug, 2 Frsers, 124.8ms\n",
      "Speed: 2.0ms preprocess, 124.8ms inference, 1.0ms postprocess per image at shape (1, 3, 384, 640)\n",
      "\n",
      "0: 384x640 1 Werkzeug, 1 Frser, 111.8ms\n",
      "Speed: 2.2ms preprocess, 111.8ms inference, 1.0ms postprocess per image at shape (1, 3, 384, 640)\n",
      "\n",
      "0: 384x640 2 Werkzeugs, 1 Frser, 120.5ms\n",
      "Speed: 2.0ms preprocess, 120.5ms inference, 1.0ms postprocess per image at shape (1, 3, 384, 640)\n",
      "\n",
      "0: 384x640 1 Werkzeug, 2 Frsers, 109.1ms\n",
      "Speed: 2.3ms preprocess, 109.1ms inference, 1.0ms postprocess per image at shape (1, 3, 384, 640)\n",
      "\n",
      "0: 384x640 1 Werkzeug, 2 Frsers, 133.2ms\n",
      "Speed: 2.1ms preprocess, 133.2ms inference, 1.0ms postprocess per image at shape (1, 3, 384, 640)\n",
      "\n",
      "0: 384x640 1 Werkzeug, 1 Frser, 122.2ms\n",
      "Speed: 2.2ms preprocess, 122.2ms inference, 1.0ms postprocess per image at shape (1, 3, 384, 640)\n",
      "\n",
      "0: 384x640 1 Werkzeug, 2 Frsers, 111.3ms\n",
      "Speed: 1.8ms preprocess, 111.3ms inference, 2.0ms postprocess per image at shape (1, 3, 384, 640)\n",
      "\n",
      "0: 384x640 1 Werkzeug, 2 Frsers, 111.3ms\n",
      "Speed: 2.1ms preprocess, 111.3ms inference, 1.0ms postprocess per image at shape (1, 3, 384, 640)\n",
      "\n",
      "0: 384x640 1 Werkzeug, 1 Frser, 119.3ms\n",
      "Speed: 3.0ms preprocess, 119.3ms inference, 1.0ms postprocess per image at shape (1, 3, 384, 640)\n",
      "\n",
      "0: 384x640 1 Werkzeug, 1 Frser, 109.3ms\n",
      "Speed: 3.5ms preprocess, 109.3ms inference, 1.0ms postprocess per image at shape (1, 3, 384, 640)\n",
      "\n",
      "0: 384x640 1 Werkzeug, 1 Frser, 109.0ms\n",
      "Speed: 2.0ms preprocess, 109.0ms inference, 1.0ms postprocess per image at shape (1, 3, 384, 640)\n",
      "\n",
      "0: 384x640 1 Werkzeug, 2 Frsers, 112.4ms\n",
      "Speed: 2.3ms preprocess, 112.4ms inference, 1.0ms postprocess per image at shape (1, 3, 384, 640)\n",
      "\n",
      "0: 384x640 1 Werkzeug, 1 Frser, 122.7ms\n",
      "Speed: 1.8ms preprocess, 122.7ms inference, 1.0ms postprocess per image at shape (1, 3, 384, 640)\n",
      "\n",
      "0: 384x640 1 Werkzeug, 1 Frser, 110.6ms\n",
      "Speed: 2.0ms preprocess, 110.6ms inference, 1.0ms postprocess per image at shape (1, 3, 384, 640)\n",
      "\n",
      "0: 384x640 1 Werkzeug, 2 Frsers, 107.8ms\n",
      "Speed: 2.1ms preprocess, 107.8ms inference, 1.0ms postprocess per image at shape (1, 3, 384, 640)\n",
      "\n",
      "0: 384x640 1 Werkzeug, 1 Frser, 111.5ms\n",
      "Speed: 2.0ms preprocess, 111.5ms inference, 1.0ms postprocess per image at shape (1, 3, 384, 640)\n",
      "\n",
      "0: 384x640 1 Werkzeug, 1 Frser, 112.9ms\n",
      "Speed: 1.9ms preprocess, 112.9ms inference, 1.5ms postprocess per image at shape (1, 3, 384, 640)\n",
      "\n",
      "0: 384x640 1 Werkzeug, 2 Frsers, 108.8ms\n",
      "Speed: 3.2ms preprocess, 108.8ms inference, 1.0ms postprocess per image at shape (1, 3, 384, 640)\n",
      "\n",
      "0: 384x640 1 Werkzeug, 1 Frser, 109.9ms\n",
      "Speed: 2.6ms preprocess, 109.9ms inference, 1.0ms postprocess per image at shape (1, 3, 384, 640)\n",
      "\n",
      "0: 384x640 1 Werkzeug, 1 Frser, 111.4ms\n",
      "Speed: 2.0ms preprocess, 111.4ms inference, 0.0ms postprocess per image at shape (1, 3, 384, 640)\n",
      "\n",
      "0: 384x640 1 Werkzeug, 2 Frsers, 119.2ms\n",
      "Speed: 3.2ms preprocess, 119.2ms inference, 2.0ms postprocess per image at shape (1, 3, 384, 640)\n",
      "\n",
      "0: 384x640 1 Werkzeug, 1 Frser, 113.7ms\n",
      "Speed: 1.9ms preprocess, 113.7ms inference, 0.0ms postprocess per image at shape (1, 3, 384, 640)\n",
      "\n",
      "0: 384x640 1 Werkzeug, 2 Frsers, 104.1ms\n",
      "Speed: 2.6ms preprocess, 104.1ms inference, 0.0ms postprocess per image at shape (1, 3, 384, 640)\n",
      "\n",
      "0: 384x640 1 Werkzeug, 2 Frsers, 117.5ms\n",
      "Speed: 1.7ms preprocess, 117.5ms inference, 0.0ms postprocess per image at shape (1, 3, 384, 640)\n",
      "\n",
      "0: 384x640 1 Werkzeug, 1 Frser, 117.0ms\n",
      "Speed: 1.5ms preprocess, 117.0ms inference, 1.0ms postprocess per image at shape (1, 3, 384, 640)\n",
      "\n",
      "0: 384x640 2 Werkzeugs, 1 Frser, 112.6ms\n",
      "Speed: 1.9ms preprocess, 112.6ms inference, 0.1ms postprocess per image at shape (1, 3, 384, 640)\n",
      "\n",
      "0: 384x640 1 Werkzeug, 1 Frser, 108.2ms\n",
      "Speed: 2.1ms preprocess, 108.2ms inference, 0.0ms postprocess per image at shape (1, 3, 384, 640)\n",
      "\n",
      "0: 384x640 2 Werkzeugs, 2 Frsers, 111.9ms\n",
      "Speed: 2.2ms preprocess, 111.9ms inference, 1.0ms postprocess per image at shape (1, 3, 384, 640)\n",
      "\n",
      "0: 384x640 2 Werkzeugs, 1 Frser, 118.9ms\n",
      "Speed: 3.1ms preprocess, 118.9ms inference, 1.0ms postprocess per image at shape (1, 3, 384, 640)\n",
      "\n",
      "0: 384x640 2 Werkzeugs, 1 Frser, 108.2ms\n",
      "Speed: 1.8ms preprocess, 108.2ms inference, 1.0ms postprocess per image at shape (1, 3, 384, 640)\n",
      "\n",
      "0: 384x640 2 Werkzeugs, 2 Frsers, 109.9ms\n",
      "Speed: 2.0ms preprocess, 109.9ms inference, 1.0ms postprocess per image at shape (1, 3, 384, 640)\n",
      "\n",
      "0: 384x640 2 Werkzeugs, 2 Frsers, 116.4ms\n",
      "Speed: 2.2ms preprocess, 116.4ms inference, 1.0ms postprocess per image at shape (1, 3, 384, 640)\n",
      "\n",
      "0: 384x640 2 Werkzeugs, 1 Frser, 116.9ms\n",
      "Speed: 2.0ms preprocess, 116.9ms inference, 1.0ms postprocess per image at shape (1, 3, 384, 640)\n",
      "\n",
      "0: 384x640 2 Werkzeugs, 1 Frser, 112.7ms\n",
      "Speed: 1.9ms preprocess, 112.7ms inference, 1.0ms postprocess per image at shape (1, 3, 384, 640)\n",
      "\n",
      "0: 384x640 3 Werkzeugs, 1 Frser, 109.2ms\n",
      "Speed: 3.1ms preprocess, 109.2ms inference, 1.0ms postprocess per image at shape (1, 3, 384, 640)\n",
      "\n",
      "0: 384x640 1 Werkzeug, 1 Frser, 127.8ms\n",
      "Speed: 3.1ms preprocess, 127.8ms inference, 1.0ms postprocess per image at shape (1, 3, 384, 640)\n",
      "\n",
      "0: 384x640 2 Werkzeugs, 1 Frser, 131.3ms\n",
      "Speed: 2.0ms preprocess, 131.3ms inference, 1.0ms postprocess per image at shape (1, 3, 384, 640)\n",
      "\n",
      "0: 384x640 2 Werkzeugs, 1 Frser, 117.4ms\n",
      "Speed: 2.9ms preprocess, 117.4ms inference, 1.0ms postprocess per image at shape (1, 3, 384, 640)\n",
      "\n",
      "0: 384x640 2 Werkzeugs, 1 Frser, 119.3ms\n",
      "Speed: 2.2ms preprocess, 119.3ms inference, 1.0ms postprocess per image at shape (1, 3, 384, 640)\n",
      "\n",
      "0: 384x640 3 Werkzeugs, 1 Frser, 121.7ms\n",
      "Speed: 2.0ms preprocess, 121.7ms inference, 0.5ms postprocess per image at shape (1, 3, 384, 640)\n",
      "\n",
      "0: 384x640 3 Werkzeugs, 2 Frsers, 113.8ms\n",
      "Speed: 2.4ms preprocess, 113.8ms inference, 0.5ms postprocess per image at shape (1, 3, 384, 640)\n",
      "\n",
      "0: 384x640 3 Werkzeugs, 2 Frsers, 109.4ms\n",
      "Speed: 1.8ms preprocess, 109.4ms inference, 1.0ms postprocess per image at shape (1, 3, 384, 640)\n",
      "\n",
      "0: 384x640 2 Werkzeugs, 1 Frser, 107.7ms\n",
      "Speed: 3.0ms preprocess, 107.7ms inference, 1.0ms postprocess per image at shape (1, 3, 384, 640)\n",
      "\n",
      "0: 384x640 3 Werkzeugs, 2 Frsers, 110.2ms\n",
      "Speed: 2.2ms preprocess, 110.2ms inference, 1.0ms postprocess per image at shape (1, 3, 384, 640)\n",
      "\n",
      "0: 384x640 2 Werkzeugs, 2 Frsers, 136.0ms\n",
      "Speed: 1.9ms preprocess, 136.0ms inference, 1.4ms postprocess per image at shape (1, 3, 384, 640)\n",
      "\n",
      "0: 384x640 2 Werkzeugs, 1 Frser, 112.4ms\n",
      "Speed: 2.0ms preprocess, 112.4ms inference, 1.0ms postprocess per image at shape (1, 3, 384, 640)\n",
      "\n",
      "0: 384x640 3 Werkzeugs, 2 Frsers, 123.1ms\n",
      "Speed: 2.0ms preprocess, 123.1ms inference, 2.0ms postprocess per image at shape (1, 3, 384, 640)\n",
      "\n",
      "0: 384x640 2 Werkzeugs, 2 Frsers, 125.3ms\n",
      "Speed: 2.0ms preprocess, 125.3ms inference, 0.0ms postprocess per image at shape (1, 3, 384, 640)\n",
      "\n",
      "0: 384x640 1 Werkzeug, 1 Frser, 111.5ms\n",
      "Speed: 1.5ms preprocess, 111.5ms inference, 1.4ms postprocess per image at shape (1, 3, 384, 640)\n",
      "\n",
      "0: 384x640 1 Werkzeug, 2 Frsers, 120.6ms\n",
      "Speed: 2.7ms preprocess, 120.6ms inference, 1.0ms postprocess per image at shape (1, 3, 384, 640)\n",
      "\n",
      "0: 384x640 1 Werkzeug, 2 Frsers, 115.9ms\n",
      "Speed: 1.9ms preprocess, 115.9ms inference, 2.0ms postprocess per image at shape (1, 3, 384, 640)\n",
      "\n",
      "0: 384x640 2 Werkzeugs, 1 Frser, 112.4ms\n",
      "Speed: 1.9ms preprocess, 112.4ms inference, 1.0ms postprocess per image at shape (1, 3, 384, 640)\n",
      "\n",
      "0: 384x640 2 Werkzeugs, 1 Frser, 143.5ms\n",
      "Speed: 3.0ms preprocess, 143.5ms inference, 1.0ms postprocess per image at shape (1, 3, 384, 640)\n",
      "\n",
      "0: 384x640 2 Werkzeugs, 1 Frser, 136.8ms\n",
      "Speed: 3.0ms preprocess, 136.8ms inference, 1.0ms postprocess per image at shape (1, 3, 384, 640)\n",
      "\n",
      "0: 384x640 2 Werkzeugs, 1 Frser, 126.4ms\n",
      "Speed: 2.7ms preprocess, 126.4ms inference, 1.0ms postprocess per image at shape (1, 3, 384, 640)\n",
      "\n",
      "0: 384x640 1 Werkzeug, 1 Frser, 116.4ms\n",
      "Speed: 2.0ms preprocess, 116.4ms inference, 1.0ms postprocess per image at shape (1, 3, 384, 640)\n",
      "\n",
      "0: 384x640 1 Werkzeug, 1 Frser, 108.1ms\n",
      "Speed: 2.1ms preprocess, 108.1ms inference, 1.0ms postprocess per image at shape (1, 3, 384, 640)\n",
      "\n",
      "0: 384x640 1 Werkzeug, 1 Frser, 112.5ms\n",
      "Speed: 2.0ms preprocess, 112.5ms inference, 1.0ms postprocess per image at shape (1, 3, 384, 640)\n",
      "\n",
      "0: 384x640 1 Werkzeug, 1 Frser, 112.4ms\n",
      "Speed: 2.0ms preprocess, 112.4ms inference, 1.0ms postprocess per image at shape (1, 3, 384, 640)\n",
      "\n",
      "0: 384x640 2 Werkzeugs, 1 Frser, 135.3ms\n",
      "Speed: 2.6ms preprocess, 135.3ms inference, 1.0ms postprocess per image at shape (1, 3, 384, 640)\n",
      "\n",
      "0: 384x640 2 Werkzeugs, 1 Frser, 109.0ms\n",
      "Speed: 2.0ms preprocess, 109.0ms inference, 1.0ms postprocess per image at shape (1, 3, 384, 640)\n",
      "\n",
      "0: 384x640 2 Werkzeugs, 1 Frser, 124.5ms\n",
      "Speed: 1.7ms preprocess, 124.5ms inference, 1.0ms postprocess per image at shape (1, 3, 384, 640)\n",
      "\n",
      "0: 384x640 2 Werkzeugs, 1 Frser, 112.5ms\n",
      "Speed: 2.8ms preprocess, 112.5ms inference, 1.5ms postprocess per image at shape (1, 3, 384, 640)\n",
      "\n",
      "0: 384x640 2 Werkzeugs, 1 Frser, 137.0ms\n",
      "Speed: 3.0ms preprocess, 137.0ms inference, 1.0ms postprocess per image at shape (1, 3, 384, 640)\n",
      "\n",
      "0: 384x640 2 Werkzeugs, 1 Frser, 109.2ms\n",
      "Speed: 3.1ms preprocess, 109.2ms inference, 1.0ms postprocess per image at shape (1, 3, 384, 640)\n",
      "\n",
      "0: 384x640 3 Werkzeugs, 1 Frser, 122.0ms\n",
      "Speed: 3.0ms preprocess, 122.0ms inference, 0.0ms postprocess per image at shape (1, 3, 384, 640)\n",
      "\n",
      "0: 384x640 2 Werkzeugs, 1 Frser, 125.7ms\n",
      "Speed: 2.3ms preprocess, 125.7ms inference, 1.0ms postprocess per image at shape (1, 3, 384, 640)\n",
      "\n",
      "0: 384x640 2 Werkzeugs, 1 Frser, 129.2ms\n",
      "Speed: 2.9ms preprocess, 129.2ms inference, 1.0ms postprocess per image at shape (1, 3, 384, 640)\n",
      "\n",
      "0: 384x640 2 Werkzeugs, 1 Frser, 112.6ms\n",
      "Speed: 2.0ms preprocess, 112.6ms inference, 0.0ms postprocess per image at shape (1, 3, 384, 640)\n",
      "\n",
      "0: 384x640 2 Werkzeugs, 1 Frser, 118.3ms\n",
      "Speed: 2.0ms preprocess, 118.3ms inference, 1.0ms postprocess per image at shape (1, 3, 384, 640)\n",
      "\n",
      "0: 384x640 2 Werkzeugs, 1 Frser, 108.8ms\n",
      "Speed: 2.2ms preprocess, 108.8ms inference, 0.6ms postprocess per image at shape (1, 3, 384, 640)\n",
      "\n",
      "0: 384x640 2 Werkzeugs, 2 Frsers, 112.0ms\n",
      "Speed: 2.0ms preprocess, 112.0ms inference, 1.0ms postprocess per image at shape (1, 3, 384, 640)\n",
      "\n",
      "0: 384x640 3 Werkzeugs, 2 Frsers, 121.4ms\n",
      "Speed: 2.0ms preprocess, 121.4ms inference, 1.0ms postprocess per image at shape (1, 3, 384, 640)\n",
      "\n",
      "0: 384x640 2 Werkzeugs, 2 Frsers, 112.2ms\n",
      "Speed: 2.0ms preprocess, 112.2ms inference, 1.0ms postprocess per image at shape (1, 3, 384, 640)\n",
      "\n",
      "0: 384x640 2 Werkzeugs, 2 Frsers, 112.3ms\n",
      "Speed: 2.9ms preprocess, 112.3ms inference, 1.5ms postprocess per image at shape (1, 3, 384, 640)\n",
      "\n",
      "0: 384x640 2 Werkzeugs, 2 Frsers, 110.8ms\n",
      "Speed: 2.0ms preprocess, 110.8ms inference, 1.0ms postprocess per image at shape (1, 3, 384, 640)\n",
      "\n",
      "0: 384x640 3 Werkzeugs, 2 Frsers, 123.2ms\n",
      "Speed: 4.8ms preprocess, 123.2ms inference, 1.0ms postprocess per image at shape (1, 3, 384, 640)\n",
      "\n",
      "0: 384x640 1 Werkzeug, 2 Frsers, 111.2ms\n",
      "Speed: 2.0ms preprocess, 111.2ms inference, 1.1ms postprocess per image at shape (1, 3, 384, 640)\n",
      "\n",
      "0: 384x640 1 Werkzeug, 1 Frser, 110.0ms\n",
      "Speed: 3.5ms preprocess, 110.0ms inference, 1.0ms postprocess per image at shape (1, 3, 384, 640)\n",
      "\n",
      "0: 384x640 1 Werkzeug, 1 Frser, 112.0ms\n",
      "Speed: 1.8ms preprocess, 112.0ms inference, 2.0ms postprocess per image at shape (1, 3, 384, 640)\n",
      "\n",
      "0: 384x640 2 Werkzeugs, 1 Frser, 112.2ms\n",
      "Speed: 2.0ms preprocess, 112.2ms inference, 0.0ms postprocess per image at shape (1, 3, 384, 640)\n",
      "\n",
      "0: 384x640 2 Werkzeugs, 1 Frser, 118.5ms\n",
      "Speed: 4.3ms preprocess, 118.5ms inference, 0.0ms postprocess per image at shape (1, 3, 384, 640)\n",
      "\n",
      "0: 384x640 2 Werkzeugs, 1 Frser, 117.6ms\n",
      "Speed: 2.0ms preprocess, 117.6ms inference, 1.0ms postprocess per image at shape (1, 3, 384, 640)\n",
      "\n",
      "0: 384x640 2 Werkzeugs, 1 Frser, 110.8ms\n",
      "Speed: 1.8ms preprocess, 110.8ms inference, 1.0ms postprocess per image at shape (1, 3, 384, 640)\n",
      "\n",
      "0: 384x640 1 Werkzeug, 1 Frser, 118.6ms\n",
      "Speed: 3.1ms preprocess, 118.6ms inference, 1.0ms postprocess per image at shape (1, 3, 384, 640)\n",
      "\n",
      "0: 384x640 1 Werkzeug, 1 Frser, 113.0ms\n",
      "Speed: 3.0ms preprocess, 113.0ms inference, 1.0ms postprocess per image at shape (1, 3, 384, 640)\n",
      "\n",
      "0: 384x640 1 Werkzeug, 1 Frser, 109.7ms\n",
      "Speed: 3.0ms preprocess, 109.7ms inference, 1.0ms postprocess per image at shape (1, 3, 384, 640)\n",
      "\n",
      "0: 384x640 2 Werkzeugs, 1 Frser, 136.8ms\n",
      "Speed: 1.5ms preprocess, 136.8ms inference, 1.0ms postprocess per image at shape (1, 3, 384, 640)\n",
      "\n",
      "0: 384x640 2 Werkzeugs, 1 Frser, 117.6ms\n",
      "Speed: 3.0ms preprocess, 117.6ms inference, 1.0ms postprocess per image at shape (1, 3, 384, 640)\n",
      "\n",
      "0: 384x640 1 Werkzeug, 2 Frsers, 123.2ms\n",
      "Speed: 2.2ms preprocess, 123.2ms inference, 1.3ms postprocess per image at shape (1, 3, 384, 640)\n",
      "\n",
      "0: 384x640 1 Werkzeug, 2 Frsers, 146.9ms\n",
      "Speed: 2.0ms preprocess, 146.9ms inference, 1.0ms postprocess per image at shape (1, 3, 384, 640)\n",
      "\n",
      "0: 384x640 1 Werkzeug, 1 Frser, 104.4ms\n",
      "Speed: 2.0ms preprocess, 104.4ms inference, 1.0ms postprocess per image at shape (1, 3, 384, 640)\n",
      "\n",
      "0: 384x640 1 Werkzeug, 2 Frsers, 124.6ms\n",
      "Speed: 2.0ms preprocess, 124.6ms inference, 1.0ms postprocess per image at shape (1, 3, 384, 640)\n",
      "\n",
      "0: 384x640 1 Werkzeug, 1 Frser, 113.0ms\n",
      "Speed: 2.4ms preprocess, 113.0ms inference, 1.2ms postprocess per image at shape (1, 3, 384, 640)\n",
      "\n",
      "0: 384x640 1 Werkzeug, 1 Frser, 111.0ms\n",
      "Speed: 2.0ms preprocess, 111.0ms inference, 1.0ms postprocess per image at shape (1, 3, 384, 640)\n",
      "\n",
      "0: 384x640 1 Werkzeug, 1 Frser, 117.9ms\n",
      "Speed: 3.0ms preprocess, 117.9ms inference, 1.4ms postprocess per image at shape (1, 3, 384, 640)\n",
      "\n",
      "0: 384x640 1 Werkzeug, 1 Frser, 109.8ms\n",
      "Speed: 2.1ms preprocess, 109.8ms inference, 1.0ms postprocess per image at shape (1, 3, 384, 640)\n",
      "\n",
      "0: 384x640 1 Werkzeug, 1 Frser, 118.0ms\n",
      "Speed: 3.0ms preprocess, 118.0ms inference, 2.5ms postprocess per image at shape (1, 3, 384, 640)\n",
      "\n",
      "0: 384x640 1 Werkzeug, 1 Frser, 117.2ms\n",
      "Speed: 3.0ms preprocess, 117.2ms inference, 1.0ms postprocess per image at shape (1, 3, 384, 640)\n",
      "\n",
      "0: 384x640 1 Werkzeug, 1 Frser, 117.3ms\n",
      "Speed: 2.1ms preprocess, 117.3ms inference, 1.0ms postprocess per image at shape (1, 3, 384, 640)\n",
      "\n",
      "0: 384x640 2 Werkzeugs, 1 Frser, 113.0ms\n",
      "Speed: 2.4ms preprocess, 113.0ms inference, 0.5ms postprocess per image at shape (1, 3, 384, 640)\n",
      "\n",
      "0: 384x640 1 Werkzeug, 1 Frser, 111.0ms\n",
      "Speed: 3.0ms preprocess, 111.0ms inference, 2.0ms postprocess per image at shape (1, 3, 384, 640)\n",
      "\n",
      "0: 384x640 1 Werkzeug, 1 Frser, 114.0ms\n",
      "Speed: 3.0ms preprocess, 114.0ms inference, 1.9ms postprocess per image at shape (1, 3, 384, 640)\n",
      "\n",
      "0: 384x640 1 Werkzeug, 1 Frser, 108.6ms\n",
      "Speed: 3.0ms preprocess, 108.6ms inference, 1.1ms postprocess per image at shape (1, 3, 384, 640)\n",
      "\n",
      "0: 384x640 1 Werkzeug, 1 Frser, 111.0ms\n",
      "Speed: 4.9ms preprocess, 111.0ms inference, 1.0ms postprocess per image at shape (1, 3, 384, 640)\n",
      "\n",
      "0: 384x640 2 Werkzeugs, 2 Frsers, 119.1ms\n",
      "Speed: 2.9ms preprocess, 119.1ms inference, 1.0ms postprocess per image at shape (1, 3, 384, 640)\n",
      "\n",
      "0: 384x640 1 Werkzeug, 2 Frsers, 113.9ms\n",
      "Speed: 3.0ms preprocess, 113.9ms inference, 1.0ms postprocess per image at shape (1, 3, 384, 640)\n",
      "\n",
      "0: 384x640 1 Werkzeug, 2 Frsers, 110.8ms\n",
      "Speed: 1.7ms preprocess, 110.8ms inference, 0.0ms postprocess per image at shape (1, 3, 384, 640)\n",
      "\n",
      "0: 384x640 2 Werkzeugs, 2 Frsers, 112.5ms\n",
      "Speed: 1.8ms preprocess, 112.5ms inference, 1.0ms postprocess per image at shape (1, 3, 384, 640)\n",
      "\n",
      "0: 384x640 1 Werkzeug, 2 Frsers, 110.4ms\n",
      "Speed: 1.8ms preprocess, 110.4ms inference, 1.0ms postprocess per image at shape (1, 3, 384, 640)\n",
      "\n",
      "0: 384x640 1 Werkzeug, 2 Frsers, 110.4ms\n",
      "Speed: 2.0ms preprocess, 110.4ms inference, 0.5ms postprocess per image at shape (1, 3, 384, 640)\n",
      "\n",
      "0: 384x640 1 Werkzeug, 2 Frsers, 118.3ms\n",
      "Speed: 3.0ms preprocess, 118.3ms inference, 1.0ms postprocess per image at shape (1, 3, 384, 640)\n",
      "\n",
      "0: 384x640 1 Werkzeug, 2 Frsers, 113.4ms\n",
      "Speed: 1.8ms preprocess, 113.4ms inference, 1.0ms postprocess per image at shape (1, 3, 384, 640)\n",
      "\n",
      "0: 384x640 1 Werkzeug, 2 Frsers, 121.9ms\n",
      "Speed: 2.6ms preprocess, 121.9ms inference, 2.0ms postprocess per image at shape (1, 3, 384, 640)\n",
      "\n",
      "0: 384x640 1 Werkzeug, 2 Frsers, 121.7ms\n",
      "Speed: 1.6ms preprocess, 121.7ms inference, 1.0ms postprocess per image at shape (1, 3, 384, 640)\n",
      "\n",
      "0: 384x640 1 Werkzeug, 2 Frsers, 122.2ms\n",
      "Speed: 2.0ms preprocess, 122.2ms inference, 2.0ms postprocess per image at shape (1, 3, 384, 640)\n",
      "\n",
      "0: 384x640 1 Werkzeug, 3 Frsers, 110.6ms\n",
      "Speed: 3.0ms preprocess, 110.6ms inference, 1.0ms postprocess per image at shape (1, 3, 384, 640)\n",
      "\n",
      "0: 384x640 1 Werkzeug, 2 Frsers, 112.7ms\n",
      "Speed: 2.1ms preprocess, 112.7ms inference, 1.0ms postprocess per image at shape (1, 3, 384, 640)\n",
      "\n",
      "0: 384x640 1 Werkzeug, 2 Frsers, 121.5ms\n",
      "Speed: 2.0ms preprocess, 121.5ms inference, 1.0ms postprocess per image at shape (1, 3, 384, 640)\n",
      "\n",
      "0: 384x640 2 Werkzeugs, 2 Frsers, 114.5ms\n",
      "Speed: 2.2ms preprocess, 114.5ms inference, 1.0ms postprocess per image at shape (1, 3, 384, 640)\n",
      "\n",
      "0: 384x640 2 Werkzeugs, 2 Frsers, 115.5ms\n",
      "Speed: 1.9ms preprocess, 115.5ms inference, 1.0ms postprocess per image at shape (1, 3, 384, 640)\n",
      "\n",
      "0: 384x640 1 Werkzeug, 2 Frsers, 127.7ms\n",
      "Speed: 2.3ms preprocess, 127.7ms inference, 0.9ms postprocess per image at shape (1, 3, 384, 640)\n",
      "\n",
      "0: 384x640 1 Werkzeug, 2 Frsers, 110.8ms\n",
      "Speed: 2.0ms preprocess, 110.8ms inference, 1.0ms postprocess per image at shape (1, 3, 384, 640)\n",
      "\n",
      "0: 384x640 1 Werkzeug, 2 Frsers, 111.6ms\n",
      "Speed: 2.7ms preprocess, 111.6ms inference, 1.0ms postprocess per image at shape (1, 3, 384, 640)\n",
      "\n",
      "0: 384x640 1 Werkzeug, 2 Frsers, 110.9ms\n",
      "Speed: 3.0ms preprocess, 110.9ms inference, 0.9ms postprocess per image at shape (1, 3, 384, 640)\n",
      "\n",
      "0: 384x640 1 Werkzeug, 2 Frsers, 112.8ms\n",
      "Speed: 2.0ms preprocess, 112.8ms inference, 1.0ms postprocess per image at shape (1, 3, 384, 640)\n",
      "\n",
      "0: 384x640 1 Werkzeug, 1 Frser, 113.1ms\n",
      "Speed: 2.0ms preprocess, 113.1ms inference, 1.0ms postprocess per image at shape (1, 3, 384, 640)\n",
      "\n",
      "0: 384x640 1 Werkzeug, 1 Frser, 111.3ms\n",
      "Speed: 2.5ms preprocess, 111.3ms inference, 1.0ms postprocess per image at shape (1, 3, 384, 640)\n",
      "\n",
      "0: 384x640 1 Werkzeug, 1 Frser, 110.9ms\n",
      "Speed: 2.7ms preprocess, 110.9ms inference, 2.1ms postprocess per image at shape (1, 3, 384, 640)\n",
      "\n",
      "0: 384x640 1 Werkzeug, 1 Frser, 137.4ms\n",
      "Speed: 2.0ms preprocess, 137.4ms inference, 0.9ms postprocess per image at shape (1, 3, 384, 640)\n",
      "\n",
      "0: 384x640 1 Werkzeug, 2 Frsers, 110.9ms\n",
      "Speed: 2.0ms preprocess, 110.9ms inference, 1.6ms postprocess per image at shape (1, 3, 384, 640)\n",
      "\n",
      "0: 384x640 1 Werkzeug, 2 Frsers, 114.7ms\n",
      "Speed: 1.8ms preprocess, 114.7ms inference, 1.0ms postprocess per image at shape (1, 3, 384, 640)\n",
      "\n",
      "0: 384x640 1 Werkzeug, 2 Frsers, 119.2ms\n",
      "Speed: 3.0ms preprocess, 119.2ms inference, 1.0ms postprocess per image at shape (1, 3, 384, 640)\n",
      "\n",
      "0: 384x640 1 Werkzeug, 2 Frsers, 121.7ms\n",
      "Speed: 2.3ms preprocess, 121.7ms inference, 1.0ms postprocess per image at shape (1, 3, 384, 640)\n",
      "\n",
      "0: 384x640 1 Werkzeug, 1 Frser, 112.7ms\n",
      "Speed: 2.0ms preprocess, 112.7ms inference, 1.0ms postprocess per image at shape (1, 3, 384, 640)\n",
      "\n",
      "0: 384x640 1 Werkzeug, 1 Frser, 111.4ms\n",
      "Speed: 2.1ms preprocess, 111.4ms inference, 1.0ms postprocess per image at shape (1, 3, 384, 640)\n",
      "\n",
      "0: 384x640 1 Werkzeug, 1 Frser, 112.2ms\n",
      "Speed: 2.5ms preprocess, 112.2ms inference, 1.0ms postprocess per image at shape (1, 3, 384, 640)\n",
      "\n",
      "0: 384x640 1 Werkzeug, 1 Frser, 197.5ms\n",
      "Speed: 2.0ms preprocess, 197.5ms inference, 2.0ms postprocess per image at shape (1, 3, 384, 640)\n",
      "\n",
      "0: 384x640 1 Werkzeug, 2 Frsers, 112.4ms\n",
      "Speed: 1.9ms preprocess, 112.4ms inference, 1.0ms postprocess per image at shape (1, 3, 384, 640)\n",
      "\n",
      "0: 384x640 1 Werkzeug, 2 Frsers, 113.3ms\n",
      "Speed: 1.6ms preprocess, 113.3ms inference, 1.0ms postprocess per image at shape (1, 3, 384, 640)\n",
      "\n",
      "0: 384x640 1 Werkzeug, 2 Frsers, 127.5ms\n",
      "Speed: 2.0ms preprocess, 127.5ms inference, 1.0ms postprocess per image at shape (1, 3, 384, 640)\n",
      "\n",
      "0: 384x640 1 Werkzeug, 2 Frsers, 124.5ms\n",
      "Speed: 2.0ms preprocess, 124.5ms inference, 1.0ms postprocess per image at shape (1, 3, 384, 640)\n",
      "\n",
      "0: 384x640 1 Werkzeug, 2 Frsers, 132.1ms\n",
      "Speed: 3.0ms preprocess, 132.1ms inference, 1.0ms postprocess per image at shape (1, 3, 384, 640)\n",
      "\n",
      "0: 384x640 1 Werkzeug, 2 Frsers, 155.3ms\n",
      "Speed: 2.9ms preprocess, 155.3ms inference, 1.0ms postprocess per image at shape (1, 3, 384, 640)\n",
      "\n",
      "0: 384x640 1 Werkzeug, 2 Frsers, 118.4ms\n",
      "Speed: 1.9ms preprocess, 118.4ms inference, 1.0ms postprocess per image at shape (1, 3, 384, 640)\n",
      "\n",
      "0: 384x640 1 Werkzeug, 3 Frsers, 130.7ms\n",
      "Speed: 2.0ms preprocess, 130.7ms inference, 2.0ms postprocess per image at shape (1, 3, 384, 640)\n",
      "\n",
      "0: 384x640 1 Werkzeug, 3 Frsers, 130.0ms\n",
      "Speed: 1.9ms preprocess, 130.0ms inference, 2.0ms postprocess per image at shape (1, 3, 384, 640)\n",
      "\n",
      "0: 384x640 1 Werkzeug, 3 Frsers, 125.9ms\n",
      "Speed: 2.4ms preprocess, 125.9ms inference, 1.0ms postprocess per image at shape (1, 3, 384, 640)\n",
      "\n",
      "0: 384x640 1 Werkzeug, 3 Frsers, 323.6ms\n",
      "Speed: 27.8ms preprocess, 323.6ms inference, 1.0ms postprocess per image at shape (1, 3, 384, 640)\n",
      "\n",
      "0: 384x640 1 Werkzeug, 3 Frsers, 282.3ms\n",
      "Speed: 25.8ms preprocess, 282.3ms inference, 1.0ms postprocess per image at shape (1, 3, 384, 640)\n",
      "\n",
      "0: 384x640 1 Werkzeug, 3 Frsers, 117.9ms\n",
      "Speed: 2.4ms preprocess, 117.9ms inference, 1.0ms postprocess per image at shape (1, 3, 384, 640)\n",
      "\n",
      "0: 384x640 1 Werkzeug, 2 Frsers, 112.1ms\n",
      "Speed: 2.0ms preprocess, 112.1ms inference, 1.0ms postprocess per image at shape (1, 3, 384, 640)\n",
      "\n",
      "0: 384x640 1 Werkzeug, 1 Frser, 126.7ms\n",
      "Speed: 3.0ms preprocess, 126.7ms inference, 1.0ms postprocess per image at shape (1, 3, 384, 640)\n",
      "\n",
      "0: 384x640 1 Werkzeug, 1 Frser, 118.0ms\n",
      "Speed: 3.2ms preprocess, 118.0ms inference, 1.0ms postprocess per image at shape (1, 3, 384, 640)\n",
      "\n",
      "0: 384x640 1 Werkzeug, 2 Frsers, 119.0ms\n",
      "Speed: 2.5ms preprocess, 119.0ms inference, 1.0ms postprocess per image at shape (1, 3, 384, 640)\n",
      "\n",
      "0: 384x640 1 Werkzeug, 2 Frsers, 122.0ms\n",
      "Speed: 3.0ms preprocess, 122.0ms inference, 1.0ms postprocess per image at shape (1, 3, 384, 640)\n",
      "\n",
      "0: 384x640 1 Werkzeug, 2 Frsers, 131.4ms\n",
      "Speed: 3.0ms preprocess, 131.4ms inference, 1.0ms postprocess per image at shape (1, 3, 384, 640)\n",
      "\n",
      "0: 384x640 1 Werkzeug, 2 Frsers, 116.1ms\n",
      "Speed: 3.0ms preprocess, 116.1ms inference, 1.0ms postprocess per image at shape (1, 3, 384, 640)\n",
      "\n",
      "0: 384x640 1 Werkzeug, 2 Frsers, 123.5ms\n",
      "Speed: 2.0ms preprocess, 123.5ms inference, 1.0ms postprocess per image at shape (1, 3, 384, 640)\n",
      "\n",
      "0: 384x640 1 Werkzeug, 2 Frsers, 119.4ms\n",
      "Speed: 3.0ms preprocess, 119.4ms inference, 1.0ms postprocess per image at shape (1, 3, 384, 640)\n",
      "\n",
      "0: 384x640 1 Werkzeug, 2 Frsers, 121.3ms\n",
      "Speed: 1.8ms preprocess, 121.3ms inference, 1.1ms postprocess per image at shape (1, 3, 384, 640)\n",
      "\n",
      "0: 384x640 1 Werkzeug, 2 Frsers, 116.0ms\n",
      "Speed: 1.5ms preprocess, 116.0ms inference, 1.0ms postprocess per image at shape (1, 3, 384, 640)\n",
      "\n",
      "0: 384x640 1 Werkzeug, 2 Frsers, 123.9ms\n",
      "Speed: 2.8ms preprocess, 123.9ms inference, 1.0ms postprocess per image at shape (1, 3, 384, 640)\n",
      "\n",
      "0: 384x640 1 Werkzeug, 2 Frsers, 116.9ms\n",
      "Speed: 2.2ms preprocess, 116.9ms inference, 1.0ms postprocess per image at shape (1, 3, 384, 640)\n",
      "❌ Beende Live-Analyse...\n",
      "✅ CSV gespeichert unter: C:\\Python\\ML Seminar\\Seminararbeit WS24_25\\object_detections.csv\n"
     ]
    }
   ],
   "source": [
    "import cv2\n",
    "import pandas as pd\n",
    "from ultralytics import YOLO\n",
    "\n",
    "# **Trainiertes YOLO-Modell laden**\n",
    "model = YOLO(r\"C:\\Python\\ML Seminar\\Seminararbeit WS24_25\\runs\\detect\\train22\\weights\\best.pt\")\n",
    "\n",
    "# **Pfad zum Eingabe-Video**\n",
    "video_path = r\"C:\\Python\\ML Seminar\\Seminararbeit WS24_25\\Automated Machine Tending using a Universal UR5e cobot.mp4\"\n",
    "cap = cv2.VideoCapture(video_path)\n",
    "\n",
    "# **Prüfen, ob das Video geöffnet wurde**\n",
    "if not cap.isOpened():\n",
    "    print(\"❌ Fehler: Konnte das Video nicht öffnen!\")\n",
    "    exit()\n",
    "\n",
    "# **FPS & Gesamtanzahl der Frames auslesen**\n",
    "fps = int(cap.get(cv2.CAP_PROP_FPS))  # Frames pro Sekunde\n",
    "frame_width = int(cap.get(cv2.CAP_PROP_FRAME_WIDTH))  # Frame-Breite\n",
    "frame_height = int(cap.get(cv2.CAP_PROP_FRAME_HEIGHT))  # Frame-Höhe\n",
    "total_frames = int(cap.get(cv2.CAP_PROP_FRAME_COUNT))  # Gesamtanzahl der Frames\n",
    "\n",
    "print(f\"📹 Video geladen: {frame_width}x{frame_height} @ {fps} FPS, {total_frames} Frames gesamt\")\n",
    "\n",
    "# **DataFrame für die Speicherung der Objektdaten**\n",
    "df = pd.DataFrame(columns=[\"Frame\", \"Timestamp (s)\", \"Object\", \"X\", \"Y\"])\n",
    "\n",
    "# **Fenster für die Live-Analyse erstellen**\n",
    "cv2.namedWindow(\"YOLO Live Detection\", cv2.WINDOW_NORMAL)\n",
    "cv2.resizeWindow(\"YOLO Live Detection\", 800, 600)  # Fenstergröße setzen\n",
    "\n",
    "# **Live-Analyse starten**\n",
    "frame_id = 0  # Zähler für Frames\n",
    "while cap.isOpened():\n",
    "    ret, frame = cap.read()\n",
    "    if not ret:\n",
    "        print(\"⚠️ Video beendet oder Fehler beim Laden eines Frames.\")\n",
    "        break  # Ende des Videos\n",
    "\n",
    "    # **Zeitstempel berechnen**\n",
    "    timestamp = frame_id / fps  # Zeit in Sekunden\n",
    "\n",
    "    # **YOLO auf Frame anwenden**\n",
    "    results = model(frame)\n",
    "\n",
    "    # **Datenliste für das aktuelle Frame**\n",
    "    detected_objects = []\n",
    "\n",
    "    # **Bounding Boxes in das Frame zeichnen & Daten speichern**\n",
    "    for result in results:\n",
    "        for box in result.boxes:\n",
    "            x1, y1, x2, y2 = map(int, box.xyxy[0])  # Bounding Box-Koordinaten\n",
    "            x_center = (x1 + x2) // 2  # Mittelpunkt X\n",
    "            y_center = (y1 + y2) // 2  # Mittelpunkt Y\n",
    "            class_id = int(box.cls[0])  # Klassen-ID\n",
    "            confidence = float(box.conf[0])  # Wahrscheinlichkeit\n",
    "            label = model.names[class_id]  # Klassenname\n",
    "\n",
    "            # **Bounding Box & Label zeichnen**\n",
    "            cv2.rectangle(frame, (x1, y1), (x2, y2), (0, 255, 0), 2)\n",
    "            cv2.putText(frame, f\"{label} {confidence:.2f}\", (x1, y1 - 10),\n",
    "                        cv2.FONT_HERSHEY_SIMPLEX, 0.6, (0, 255, 0), 2)\n",
    "\n",
    "            # **Daten in die Liste speichern**\n",
    "            detected_objects.append({\"Frame\": frame_id, \"Timestamp (s)\": timestamp, \"Object\": label, \n",
    "                                     \"X\": x_center, \"Y\": y_center})\n",
    "\n",
    "    # **Falls Objekte erkannt wurden, in DataFrame speichern**\n",
    "    if detected_objects:\n",
    "        df = pd.concat([df, pd.DataFrame(detected_objects)], ignore_index=True)\n",
    "\n",
    "    # **Frame im OpenCV-Fenster anzeigen**\n",
    "    cv2.imshow(\"YOLO Live Detection\", frame)\n",
    "\n",
    "    # **Drücke 'q' zum Beenden**\n",
    "    key = cv2.waitKey(1)\n",
    "    if key == ord('q'):\n",
    "        print(\"❌ Beende Live-Analyse...\")\n",
    "        break\n",
    "\n",
    "    frame_id += 1  # Frame-Zähler erhöhen\n",
    "\n",
    "# **CSV-Datei speichern**\n",
    "csv_path = r\"C:\\Python\\ML Seminar\\Seminararbeit WS24_25\\object_detections.csv\"\n",
    "df.to_csv(csv_path, index=False)\n",
    "print(f\"✅ CSV gespeichert unter: {csv_path}\")\n",
    "\n",
    "# **Ressourcen freigeben**\n",
    "cap.release()\n",
    "cv2.destroyAllWindows()\n"
   ]
  },
  {
   "cell_type": "markdown",
   "id": "4863d033-f390-4087-bc33-51424a685509",
   "metadata": {},
   "source": [
    "# 📌 Analyse der Objektbewegung & Stillstandserkennung  \n",
    "\n",
    "## 🔹 Übersicht  \n",
    "Dieser Abschnitt wertet die aus der YOLO-Objekterkennung gespeicherten Daten aus, um die **Bewegung und Stillstandszeiten von Objekten** zu visualisieren.  \n",
    "Die Stillstandszeiten werden basierend auf einem **Vektorschwellwert für Bewegung** berechnet.  \n",
    "\n",
    "---\n",
    "\n",
    "## 🔹 Ablauf der Datenanalyse  \n",
    "1. **Laden der YOLO-Daten aus CSV**  \n",
    "   - Die Datei `object_detections.csv` enthält die erkannten Objekte mit X/Y-Koordinaten und Zeitstempeln.  \n",
    "   - Die Daten werden mit **Pandas (`pd.read_csv`)** geladen.  \n",
    "\n",
    "2. **Visualisierung der X- & Y-Positionen**  \n",
    "   - Für jedes erkannte Objekt wird eine **X-Positions-Kurve** und eine **Y-Positions-Kurve** über die Zeit erstellt.  \n",
    "   - Dadurch lassen sich Bewegungsmuster über die Zeit erkennen.  \n",
    "\n",
    "3. **Berechnung der Stillstandszeiten**  \n",
    "   - Die Bewegung eines Objekts wird als **Vektor ΔV = sqrt(Δx² + Δy²)** berechnet.  \n",
    "   - Falls sich die Bewegung eines Objekts unter einem bestimmten **Schwellenwert (MOVEMENT_THRESHOLD)** befindet, wird dies als Stillstand gewertet.  \n",
    "   - Die Stillstandszeit wird über die aufeinanderfolgenden Frames akkumuliert.  \n",
    "\n",
    "4. **Ergebnisse ausgeben**  \n",
    "   - Die Stillstandszeiten werden für jedes Objekt berechnet und ausgegeben.  \n",
    "   - Die **gesamte Stillstandszeit aller Objekte** wird ebenfalls berechnet.  \n",
    "\n",
    "---\n",
    "\n",
    "## 🔹 Parameter für die Stillstandserkennung  \n",
    "- **`MOVEMENT_THRESHOLD = 500`** → Falls sich das Objekt weniger als **500 Pixel** bewegt, wird dies als Stillstand gewertet.  \n",
    "- **`FRAME_STEP = 10`** → Die Berechnung erfolgt nur auf jedem **10. Frame**, um Rauschen zu reduzieren.  \n",
    "\n",
    "---\n",
    "\n",
    "## 🔹 Beispiel für eine Konsolenausgabe  \n",
    "Nach der Analyse gibt das Skript folgende Stillstandszeiten aus:  \n"
   ]
  },
  {
   "cell_type": "code",
   "execution_count": 39,
   "id": "5888e917-17ac-4c76-92cc-abad91d14169",
   "metadata": {},
   "outputs": [
    {
     "data": {
      "image/png": "[encoded data removed]",
      "text/plain": [
       "<Figure size 1000x400 with 1 Axes>"
      ]
     },
     "metadata": {},
     "output_type": "display_data"
    },
    {
     "data": {
      "image/png": "[encoded data removed]",
      "text/plain": [
       "<Figure size 1000x400 with 1 Axes>"
      ]
     },
     "metadata": {},
     "output_type": "display_data"
    },
    {
     "data": {
      "image/png": "[encoded data removed]",
      "text/plain": [
       "<Figure size 1000x400 with 1 Axes>"
      ]
     },
     "metadata": {},
     "output_type": "display_data"
    },
    {
     "data": {
      "image/png": "[encoded data removed]",
      "text/plain": [
       "<Figure size 1000x400 with 1 Axes>"
      ]
     },
     "metadata": {},
     "output_type": "display_data"
    },
    {
     "name": "stdout",
     "output_type": "stream",
     "text": [
      "\n",
      "🛑 Stillstandszeiten pro Objekt (basierend auf Vektoren aus X- und Y-Änderung):\n",
      "   → Werkzeug: 34.97 Sekunden\n",
      "   → Fräser: 16.43 Sekunden\n",
      "\n",
      "🔹 Gesamte Stillstandszeit: 51.40 Sekunden\n",
      "   (Schwellenwert: 500 Pixel, Frame-Intervall: 10 Frames)\n"
     ]
    }
   ],
   "source": [
    "import pandas as pd\n",
    "import matplotlib.pyplot as plt\n",
    "import numpy as np\n",
    "\n",
    "# **CSV-Datei mit YOLO-Daten laden**\n",
    "csv_path = r\"C:\\Python\\ML Seminar\\Seminararbeit WS24_25\\object_detections.csv\"\n",
    "df = pd.read_csv(csv_path)\n",
    "\n",
    "# **Parameter für Stillstandserkennung**\n",
    "MOVEMENT_THRESHOLD = 500  # Euklidische Distanz (Pixel), unter der es als Stillstand zählt\n",
    "FRAME_STEP = 10  # Nur jede X-te Frame wird betrachtet\n",
    "\n",
    "# **Diagramme für X- und Y-Positionen jedes Objekts**\n",
    "def plot_x_y_positions(df):\n",
    "    objects = df[\"Object\"].unique()\n",
    "\n",
    "    for obj in objects:\n",
    "        subset = df[df[\"Object\"] == obj].sort_values(\"Timestamp (s)\")\n",
    "\n",
    "        # **X-Position vs. Zeit**\n",
    "        plt.figure(figsize=(10, 4))\n",
    "        plt.plot(subset[\"Timestamp (s)\"], subset[\"X\"], marker='o', linestyle='-', color='b', label=f\"{obj} X-Position\")\n",
    "        plt.xlabel(\"Zeit (s)\")\n",
    "        plt.ylabel(\"X-Position (Pixel)\")\n",
    "        plt.title(f\"X-Bewegung von {obj} über die Zeit\")\n",
    "        plt.legend()\n",
    "        plt.grid()\n",
    "        plt.show()\n",
    "\n",
    "        # **Y-Position vs. Zeit**\n",
    "        plt.figure(figsize=(10, 4))\n",
    "        plt.plot(subset[\"Timestamp (s)\"], subset[\"Y\"], marker='o', linestyle='-', color='r', label=f\"{obj} Y-Position\")\n",
    "        plt.xlabel(\"Zeit (s)\")\n",
    "        plt.ylabel(\"Y-Position (Pixel)\")\n",
    "        plt.title(f\"Y-Bewegung von {obj} über die Zeit\")\n",
    "        plt.legend()\n",
    "        plt.grid()\n",
    "        plt.show()\n",
    "\n",
    "# **Stillstandsberechnung basierend auf Vektoren aus X- und Y-Änderungen**\n",
    "def calculate_stillstand_vector(df, movement_threshold, frame_step):\n",
    "    stillstand_times = {}  # Dictionary zur Speicherung der Stillstandszeiten je Objekt\n",
    "\n",
    "    for obj in df[\"Object\"].unique():\n",
    "        subset = df[df[\"Object\"] == obj].sort_values(\"Frame\")\n",
    "\n",
    "        prev_x, prev_y, prev_time = None, None, None\n",
    "        stillstand_duration = 0\n",
    "\n",
    "        for i in range(0, len(subset), frame_step):  # Betrachte nur jede X-te Zeile (Frame-Step)\n",
    "            row = subset.iloc[i]\n",
    "\n",
    "            if prev_x is not None:\n",
    "                # **Euklidische Distanz ΔV = sqrt(Δx² + Δy²)**\n",
    "                delta_x = row[\"X\"] - prev_x\n",
    "                delta_y = row[\"Y\"] - prev_y\n",
    "                movement_vector = np.sqrt(delta_x**2 + delta_y**2)\n",
    "\n",
    "                if movement_vector < movement_threshold:  # Falls Bewegung unter Schwellwert → Stillstand\n",
    "                    stillstand_duration += (row[\"Timestamp (s)\"] - prev_time)\n",
    "\n",
    "            prev_x, prev_y, prev_time = row[\"X\"], row[\"Y\"], row[\"Timestamp (s)\"]\n",
    "\n",
    "        stillstand_times[obj] = stillstand_duration  # Speichere Stillstandszeit für dieses Objekt\n",
    "\n",
    "    return stillstand_times\n",
    "\n",
    "# **Diagramme für jedes Objekt anzeigen**\n",
    "plot_x_y_positions(df)\n",
    "\n",
    "# **Stillstandszeiten pro Objekt berechnen**\n",
    "stillstand_times = calculate_stillstand_vector(df, MOVEMENT_THRESHOLD, FRAME_STEP)\n",
    "\n",
    "# **Ergebnisse ausgeben**\n",
    "print(\"\\n🛑 Stillstandszeiten pro Objekt (basierend auf Vektoren aus X- und Y-Änderung):\")\n",
    "for obj, duration in stillstand_times.items():\n",
    "    print(f\"   → {obj}: {duration:.2f} Sekunden\")\n",
    "\n",
    "total_stillstand = sum(stillstand_times.values())  # Gesamtstillstandszeit berechnen\n",
    "print(f\"\\n🔹 Gesamte Stillstandszeit: {total_stillstand:.2f} Sekunden\")\n",
    "print(f\"   (Schwellenwert: {MOVEMENT_THRESHOLD} Pixel, Frame-Intervall: {FRAME_STEP} Frames)\")\n"
   ]
  },
  {
   "cell_type": "code",
   "execution_count": null,
   "id": "4ac5c108-ff3e-44fa-8728-f14f4af746e1",
   "metadata": {},
   "outputs": [],
   "source": []
  },
  {
   "cell_type": "code",
   "execution_count": null,
   "id": "3f2fe9ba-0453-444e-8018-e4e6c4bdfe44",
   "metadata": {},
   "outputs": [],
   "source": []
  }
 ],
 "metadata": {
  "kernelspec": {
   "display_name": "Python 3 (ipykernel)",
   "language": "python",
   "name": "python3"
  },
  "language_info": {
   "codemirror_mode": {
    "name": "ipython",
    "version": 3
   },
   "file_extension": ".py",
   "mimetype": "text/x-python",
   "name": "python",
   "nbconvert_exporter": "python",
   "pygments_lexer": "ipython3",
   "version": "3.11.11"
  }
 },
 "nbformat": 4,
 "nbformat_minor": 5
}
